{
 "cells": [
  {
   "cell_type": "code",
   "execution_count": 1,
   "id": "428f2c33-a15f-4e29-8ec1-87715327aa76",
   "metadata": {},
   "outputs": [],
   "source": [
    "import pandas as pd\n",
    "import numpy as np\n",
    "import random\n",
    "from sklearn.model_selection import train_test_split"
   ]
  },
  {
   "cell_type": "code",
   "execution_count": 2,
   "id": "0e820fa2-b68d-4c0a-ba60-1cf25cf14a80",
   "metadata": {},
   "outputs": [],
   "source": [
    "df_ratings = pd.read_csv('ml-latest-small/ratings.csv')\n",
    "df_movies = pd.read_csv('ml-latest-small/movies.csv')"
   ]
  },
  {
   "cell_type": "code",
   "execution_count": 3,
   "id": "71b1c362-0031-45f9-8d2b-4e5d69f21552",
   "metadata": {},
   "outputs": [
    {
     "data": {
      "text/html": [
       "<div>\n",
       "<style scoped>\n",
       "    .dataframe tbody tr th:only-of-type {\n",
       "        vertical-align: middle;\n",
       "    }\n",
       "\n",
       "    .dataframe tbody tr th {\n",
       "        vertical-align: top;\n",
       "    }\n",
       "\n",
       "    .dataframe thead th {\n",
       "        text-align: right;\n",
       "    }\n",
       "</style>\n",
       "<table border=\"1\" class=\"dataframe\">\n",
       "  <thead>\n",
       "    <tr style=\"text-align: right;\">\n",
       "      <th></th>\n",
       "      <th>userId</th>\n",
       "      <th>movieId</th>\n",
       "      <th>rating</th>\n",
       "      <th>timestamp</th>\n",
       "    </tr>\n",
       "  </thead>\n",
       "  <tbody>\n",
       "    <tr>\n",
       "      <th>0</th>\n",
       "      <td>1</td>\n",
       "      <td>1</td>\n",
       "      <td>4.0</td>\n",
       "      <td>964982703</td>\n",
       "    </tr>\n",
       "    <tr>\n",
       "      <th>1</th>\n",
       "      <td>1</td>\n",
       "      <td>3</td>\n",
       "      <td>4.0</td>\n",
       "      <td>964981247</td>\n",
       "    </tr>\n",
       "    <tr>\n",
       "      <th>2</th>\n",
       "      <td>1</td>\n",
       "      <td>6</td>\n",
       "      <td>4.0</td>\n",
       "      <td>964982224</td>\n",
       "    </tr>\n",
       "    <tr>\n",
       "      <th>3</th>\n",
       "      <td>1</td>\n",
       "      <td>47</td>\n",
       "      <td>5.0</td>\n",
       "      <td>964983815</td>\n",
       "    </tr>\n",
       "    <tr>\n",
       "      <th>4</th>\n",
       "      <td>1</td>\n",
       "      <td>50</td>\n",
       "      <td>5.0</td>\n",
       "      <td>964982931</td>\n",
       "    </tr>\n",
       "  </tbody>\n",
       "</table>\n",
       "</div>"
      ],
      "text/plain": [
       "   userId  movieId  rating  timestamp\n",
       "0       1        1     4.0  964982703\n",
       "1       1        3     4.0  964981247\n",
       "2       1        6     4.0  964982224\n",
       "3       1       47     5.0  964983815\n",
       "4       1       50     5.0  964982931"
      ]
     },
     "execution_count": 3,
     "metadata": {},
     "output_type": "execute_result"
    }
   ],
   "source": [
    "df_ratings.head()"
   ]
  },
  {
   "cell_type": "code",
   "execution_count": 4,
   "id": "dbbf7c0a-af97-497b-ac5a-b9d6fbd779ed",
   "metadata": {},
   "outputs": [
    {
     "data": {
      "text/html": [
       "<div>\n",
       "<style scoped>\n",
       "    .dataframe tbody tr th:only-of-type {\n",
       "        vertical-align: middle;\n",
       "    }\n",
       "\n",
       "    .dataframe tbody tr th {\n",
       "        vertical-align: top;\n",
       "    }\n",
       "\n",
       "    .dataframe thead th {\n",
       "        text-align: right;\n",
       "    }\n",
       "</style>\n",
       "<table border=\"1\" class=\"dataframe\">\n",
       "  <thead>\n",
       "    <tr style=\"text-align: right;\">\n",
       "      <th></th>\n",
       "      <th>movieId</th>\n",
       "      <th>title</th>\n",
       "      <th>genres</th>\n",
       "    </tr>\n",
       "  </thead>\n",
       "  <tbody>\n",
       "    <tr>\n",
       "      <th>0</th>\n",
       "      <td>1</td>\n",
       "      <td>Toy Story (1995)</td>\n",
       "      <td>Adventure|Animation|Children|Comedy|Fantasy</td>\n",
       "    </tr>\n",
       "    <tr>\n",
       "      <th>1</th>\n",
       "      <td>2</td>\n",
       "      <td>Jumanji (1995)</td>\n",
       "      <td>Adventure|Children|Fantasy</td>\n",
       "    </tr>\n",
       "    <tr>\n",
       "      <th>2</th>\n",
       "      <td>3</td>\n",
       "      <td>Grumpier Old Men (1995)</td>\n",
       "      <td>Comedy|Romance</td>\n",
       "    </tr>\n",
       "    <tr>\n",
       "      <th>3</th>\n",
       "      <td>4</td>\n",
       "      <td>Waiting to Exhale (1995)</td>\n",
       "      <td>Comedy|Drama|Romance</td>\n",
       "    </tr>\n",
       "    <tr>\n",
       "      <th>4</th>\n",
       "      <td>5</td>\n",
       "      <td>Father of the Bride Part II (1995)</td>\n",
       "      <td>Comedy</td>\n",
       "    </tr>\n",
       "  </tbody>\n",
       "</table>\n",
       "</div>"
      ],
      "text/plain": [
       "   movieId                               title  \\\n",
       "0        1                    Toy Story (1995)   \n",
       "1        2                      Jumanji (1995)   \n",
       "2        3             Grumpier Old Men (1995)   \n",
       "3        4            Waiting to Exhale (1995)   \n",
       "4        5  Father of the Bride Part II (1995)   \n",
       "\n",
       "                                        genres  \n",
       "0  Adventure|Animation|Children|Comedy|Fantasy  \n",
       "1                   Adventure|Children|Fantasy  \n",
       "2                               Comedy|Romance  \n",
       "3                         Comedy|Drama|Romance  \n",
       "4                                       Comedy  "
      ]
     },
     "execution_count": 4,
     "metadata": {},
     "output_type": "execute_result"
    }
   ],
   "source": [
    "df_movies.head()"
   ]
  },
  {
   "cell_type": "markdown",
   "id": "83e8db09-3663-4614-b301-7fdf2dd186f1",
   "metadata": {},
   "source": [
    "# SVD"
   ]
  },
  {
   "cell_type": "code",
   "execution_count": 5,
   "id": "626cddce-ec1e-4600-8404-e38da9d9c5d3",
   "metadata": {},
   "outputs": [],
   "source": [
    "from scipy.linalg import svd"
   ]
  },
  {
   "cell_type": "code",
   "execution_count": 6,
   "id": "cda1d06c-1998-4439-818a-49214a64cb58",
   "metadata": {},
   "outputs": [
    {
     "name": "stdout",
     "output_type": "stream",
     "text": [
      "[[1 2]\n",
      " [3 4]\n",
      " [5 6]]\n"
     ]
    }
   ],
   "source": [
    "A = np.array([[1, 2], [3, 4], [5, 6]])\n",
    "print(A)"
   ]
  },
  {
   "cell_type": "code",
   "execution_count": 7,
   "id": "9466ae31-c01f-4097-83fa-7da0c954d454",
   "metadata": {},
   "outputs": [
    {
     "name": "stdout",
     "output_type": "stream",
     "text": [
      "Unitary matrix having left singular vectors as columns: \n",
      " [[-0.2298477   0.88346102  0.40824829]\n",
      " [-0.52474482  0.24078249 -0.81649658]\n",
      " [-0.81964194 -0.40189603  0.40824829]]\n",
      "Singular values: \n",
      " [9.52551809 0.51430058]\n",
      "Unitary matrix having right singular vectors as rows: \n",
      " [[-0.61962948 -0.78489445]\n",
      " [-0.78489445  0.61962948]]\n"
     ]
    }
   ],
   "source": [
    "U, s, VT = svd(A)\n",
    "print('Unitary matrix having left singular vectors as columns: \\n', U)\n",
    "print('Singular values: \\n', s)\n",
    "print('Unitary matrix having right singular vectors as rows: \\n', VT)"
   ]
  },
  {
   "cell_type": "code",
   "execution_count": 8,
   "id": "21070e0e-04af-456b-a71e-a2a1c055968c",
   "metadata": {},
   "outputs": [
    {
     "name": "stdout",
     "output_type": "stream",
     "text": [
      "Reconstructed matrix: \n",
      " [[1. 2.]\n",
      " [3. 4.]\n",
      " [5. 6.]]\n"
     ]
    }
   ],
   "source": [
    "m, n = A.shape[0], A.shape[1]\n",
    "\n",
    "sigma = np.zeros((m, n))\n",
    "for i in range(min(m, n)):\n",
    "    sigma[i, i] = s[i]\n",
    "A_rec = np.dot(np.dot(U, sigma), VT)\n",
    "print('Reconstructed matrix: \\n', A_rec)"
   ]
  },
  {
   "cell_type": "markdown",
   "id": "c8361637-1369-4cb1-9535-8cc127f3b4d8",
   "metadata": {},
   "source": [
    "# Split"
   ]
  },
  {
   "cell_type": "code",
   "execution_count": 9,
   "id": "5fc2d44d-2e23-4bd3-8285-fd34fc9959d2",
   "metadata": {},
   "outputs": [],
   "source": [
    "import scipy.sparse as sp\n",
    "from scipy import sparse\n",
    "from scipy.sparse.linalg import spsolve"
   ]
  },
  {
   "cell_type": "code",
   "execution_count": 12,
   "id": "0c87693c-40f6-40da-9b8c-3c0aacae8562",
   "metadata": {},
   "outputs": [
    {
     "data": {
      "text/plain": [
       "matrix([[4. , nan, 4. , ..., nan, nan, nan],\n",
       "        [nan, nan, nan, ..., nan, nan, nan],\n",
       "        [nan, nan, nan, ..., nan, nan, nan],\n",
       "        ...,\n",
       "        [2.5, 2. , 2. , ..., nan, nan, nan],\n",
       "        [3. , nan, nan, ..., nan, nan, nan],\n",
       "        [5. , nan, nan, ..., nan, nan, nan]])"
      ]
     },
     "execution_count": 12,
     "metadata": {},
     "output_type": "execute_result"
    }
   ],
   "source": [
    "user_item_matrix = df_ratings.pivot_table(index=['userId'], columns=['movieId'], values='rating')\n",
    "sparse_ui = sp.csr_matrix(user_item_matrix)\n",
    "sparse_ui.todense()"
   ]
  },
  {
   "cell_type": "code",
   "execution_count": 14,
   "id": "ea43ee8a-3e2e-4a97-a25d-5beffcb643e8",
   "metadata": {},
   "outputs": [],
   "source": [
    "x_train, X_test = train_test_split(sparse_ui, test_size=0.25, random_state=57)\n",
    "ind_train, ind_test = train_test_split(user_item_matrix, test_size=0.25, random_state=57)"
   ]
  },
  {
   "cell_type": "code",
   "execution_count": 15,
   "id": "9a3e871e-4e83-4ff7-82f0-0329903b3ae6",
   "metadata": {},
   "outputs": [],
   "source": [
    "x_res = pd.DataFrame(index=ind_train.index, data=[], columns=['actual'])\n",
    "for i in x_res.index:\n",
    "    x_res.loc[i]['actual'] = list(set(ind_train.loc[i][ind_train.loc[i].notnull()].index))"
   ]
  },
  {
   "cell_type": "code",
   "execution_count": 16,
   "id": "b2e847f8-6ab6-4f46-94c4-fdc4ec726419",
   "metadata": {
    "tags": []
   },
   "outputs": [
    {
     "data": {
      "text/html": [
       "<div>\n",
       "<style scoped>\n",
       "    .dataframe tbody tr th:only-of-type {\n",
       "        vertical-align: middle;\n",
       "    }\n",
       "\n",
       "    .dataframe tbody tr th {\n",
       "        vertical-align: top;\n",
       "    }\n",
       "\n",
       "    .dataframe thead th {\n",
       "        text-align: right;\n",
       "    }\n",
       "</style>\n",
       "<table border=\"1\" class=\"dataframe\">\n",
       "  <thead>\n",
       "    <tr style=\"text-align: right;\">\n",
       "      <th></th>\n",
       "      <th>actual</th>\n",
       "    </tr>\n",
       "    <tr>\n",
       "      <th>userId</th>\n",
       "      <th></th>\n",
       "    </tr>\n",
       "  </thead>\n",
       "  <tbody>\n",
       "    <tr>\n",
       "      <th>575</th>\n",
       "      <td>[2560, 2436, 2566, 2567, 2568, 2571, 2572, 257...</td>\n",
       "    </tr>\n",
       "    <tr>\n",
       "      <th>323</th>\n",
       "      <td>[1, 2, 2571, 1037, 527, 17, 19, 22, 110102, 29...</td>\n",
       "    </tr>\n",
       "    <tr>\n",
       "      <th>14</th>\n",
       "      <td>[4, 7, 266, 524, 527, 784, 19, 150, 153, 25, 2...</td>\n",
       "    </tr>\n",
       "    <tr>\n",
       "      <th>496</th>\n",
       "      <td>[4993, 111362, 2950, 904, 104841, 912, 84374, ...</td>\n",
       "    </tr>\n",
       "    <tr>\n",
       "      <th>531</th>\n",
       "      <td>[4993, 260, 10, 1291, 919, 1961, 2473, 1198, 1...</td>\n",
       "    </tr>\n",
       "    <tr>\n",
       "      <th>...</th>\n",
       "      <td>...</td>\n",
       "    </tr>\n",
       "    <tr>\n",
       "      <th>41</th>\n",
       "      <td>[54272, 115713, 69122, 122882, 7173, 102407, 3...</td>\n",
       "    </tr>\n",
       "    <tr>\n",
       "      <th>99</th>\n",
       "      <td>[256, 257, 259, 10, 266, 145, 276, 22, 23, 150...</td>\n",
       "    </tr>\n",
       "    <tr>\n",
       "      <th>80</th>\n",
       "      <td>[33794, 69122, 81417, 91658, 2571, 78349, 5428...</td>\n",
       "    </tr>\n",
       "    <tr>\n",
       "      <th>407</th>\n",
       "      <td>[4993, 260, 1291, 1036, 2571, 6539, 2959, 5428...</td>\n",
       "    </tr>\n",
       "    <tr>\n",
       "      <th>6</th>\n",
       "      <td>[2, 3, 4, 5, 6, 7, 8, 10, 11, 13, 15, 16, 17, ...</td>\n",
       "    </tr>\n",
       "  </tbody>\n",
       "</table>\n",
       "<p>457 rows × 1 columns</p>\n",
       "</div>"
      ],
      "text/plain": [
       "                                                   actual\n",
       "userId                                                   \n",
       "575     [2560, 2436, 2566, 2567, 2568, 2571, 2572, 257...\n",
       "323     [1, 2, 2571, 1037, 527, 17, 19, 22, 110102, 29...\n",
       "14      [4, 7, 266, 524, 527, 784, 19, 150, 153, 25, 2...\n",
       "496     [4993, 111362, 2950, 904, 104841, 912, 84374, ...\n",
       "531     [4993, 260, 10, 1291, 919, 1961, 2473, 1198, 1...\n",
       "...                                                   ...\n",
       "41      [54272, 115713, 69122, 122882, 7173, 102407, 3...\n",
       "99      [256, 257, 259, 10, 266, 145, 276, 22, 23, 150...\n",
       "80      [33794, 69122, 81417, 91658, 2571, 78349, 5428...\n",
       "407     [4993, 260, 1291, 1036, 2571, 6539, 2959, 5428...\n",
       "6       [2, 3, 4, 5, 6, 7, 8, 10, 11, 13, 15, 16, 17, ...\n",
       "\n",
       "[457 rows x 1 columns]"
      ]
     },
     "execution_count": 16,
     "metadata": {},
     "output_type": "execute_result"
    }
   ],
   "source": [
    "x_res"
   ]
  },
  {
   "cell_type": "code",
   "execution_count": 18,
   "id": "9a677776-0884-4435-afef-94e77a849859",
   "metadata": {},
   "outputs": [],
   "source": [
    "ind_train_u = pd.Series(ind_train.index.tolist())\n",
    "ind_train_i = pd.Series(ind_train.columns.values.tolist())"
   ]
  },
  {
   "cell_type": "markdown",
   "id": "99f9aa62-431e-45fe-b8ad-69dfee69d921",
   "metadata": {},
   "source": [
    "# Latent Factor Model"
   ]
  },
  {
   "cell_type": "code",
   "execution_count": 22,
   "id": "6b73fc51-58de-489d-aa03-6a09ffd1fdc5",
   "metadata": {},
   "outputs": [],
   "source": [
    "from sklearn.preprocessing import MinMaxScaler"
   ]
  },
  {
   "cell_type": "code",
   "execution_count": 25,
   "id": "5156ac6b-4b0a-4120-8576-28161785302e",
   "metadata": {},
   "outputs": [],
   "source": [
    "seed =57\n",
    "rstate = np.random.RandomState(seed)\n",
    "rank_size = 10\n",
    "lambda_val = 0.1\n",
    "num_user = x_train.shape[0]\n",
    "num_item = x_train.shape[1]\n",
    "P = sparse.csr_matrix((rstate.normal(size = (num_user, rank_size))))\n",
    "Q = sparse.csr_matrix((rstate.normal(size = (num_item, rank_size))))\n",
    "QTQ = Q.T.dot(Q)\n",
    "PTP = P.T.dot(P)\n",
    "P_eye = sparse.eye(num_user)\n",
    "Q_eye = sparse.eye(num_item)\n",
    "lambda_eye= lambda_val * sparse.eye(rank_size)"
   ]
  },
  {
   "cell_type": "code",
   "execution_count": 26,
   "id": "d5849225-2b1f-408f-ab35-d3b6ca9df95b",
   "metadata": {},
   "outputs": [
    {
     "name": "stdout",
     "output_type": "stream",
     "text": [
      "[[ 0.0044179  -0.01638758 -0.00766912 -0.00914071  0.02136258 -0.00095192\n",
      "  -0.00905147  0.01610489  0.00381576 -0.00747813]]\n"
     ]
    }
   ],
   "source": [
    "u=5\n",
    "pref = x_train[u, :].toarray()\n",
    "pref_u = pref[~np.isnan(pref)]\n",
    "u_rated_movies_ind = np.argwhere(~np.isnan(pref))[:,1]\n",
    "Qu = Q[u_rated_movies_ind, :]\n",
    "QuTru = Qu.T.dot(pref_u.T)\n",
    "Q[u] = spsolve(QTQ + lambda_eye, QuTru)\n",
    "print(Q[u].toarray())"
   ]
  },
  {
   "cell_type": "code",
   "execution_count": 29,
   "id": "c4a2bc7a-afe7-43b2-9bb6-762c1629675f",
   "metadata": {},
   "outputs": [],
   "source": [
    "def lfm_als(training_set, lambda_val, iter=1, rank_size=20, seed=57):\n",
    "    \n",
    "    num_user = training_set.shape[0]\n",
    "    num_item = training_set.shape[1]\n",
    "    \n",
    "    rstate = np.random.RandomState(seed)\n",
    "    \n",
    "    P = sparse.csr_matrix((rstate.normal(size = (num_user, rank_size))))\n",
    "    Q = sparse.csr_matrix((rstate.normal(size = (num_item, rank_size))))\n",
    "    #QTQ = Q.T.dot(Q)\n",
    "    #PTP = P.T.dot(P)\n",
    "    P_eye = sparse.eye(num_user)\n",
    "    Q_eye = sparse.eye(num_item)\n",
    "    lambda_eye= lambda_val * sparse.eye(rank_size)\n",
    "    \n",
    "    for iter_step in range(iter):\n",
    "        QTQ = Q.T.dot(Q)\n",
    "        PTP = P.T.dot(P)\n",
    "        \n",
    "        for u in range(num_user):\n",
    "            pref = training_set[u, :].toarray()\n",
    "            pref_u = pref[~np.isnan(pref)]\n",
    "            u_rated_movies_ind = np.argwhere(~np.isnan(pref))[:,1]\n",
    "            Qu = Q[u_rated_movies_ind, :]\n",
    "            QuTru = Qu.T.dot(pref_u.T)\n",
    "            Q[u] = spsolve(QTQ + lambda_eye, QuTru)\n",
    "            \n",
    "        for i in range(num_item):\n",
    "            pref = training_set[:, i].toarray()\n",
    "            pref_i = pref[~np.isnan(pref)]\n",
    "            i_rated_movies_ind = np.argwhere(~np.isnan(pref))[:,0]\n",
    "            Pi = P[i_rated_movies_ind, :]\n",
    "            PiTri = Pi.T.dot(pref_i.T)\n",
    "            P[u] = spsolve(PTP + lambda_eye, PiTri)\n",
    "    return P, Q.T"
   ]
  },
  {
   "cell_type": "code",
   "execution_count": 30,
   "id": "b29b335c-6d62-4c48-aea7-36f5d9cd40fc",
   "metadata": {},
   "outputs": [
    {
     "name": "stdout",
     "output_type": "stream",
     "text": [
      "Wall time: 1min 2s\n"
     ]
    }
   ],
   "source": [
    "%%time\n",
    "P, Q = lfm_als(x_train, lambda_val=0.1, iter=1, rank_size=20, seed=57)"
   ]
  },
  {
   "cell_type": "code",
   "execution_count": 31,
   "id": "5caa99e4-3813-462e-846c-0f68148c9d3c",
   "metadata": {},
   "outputs": [
    {
     "name": "stdout",
     "output_type": "stream",
     "text": [
      "P.shape (457, 20)\n",
      "Q.shape (20, 9724)\n"
     ]
    }
   ],
   "source": [
    "print(f'P.shape {P.shape}')\n",
    "print(f'Q.shape {Q.shape}')"
   ]
  },
  {
   "cell_type": "code",
   "execution_count": 46,
   "id": "85b46765-37c3-4788-8540-d4b681f0f811",
   "metadata": {},
   "outputs": [
    {
     "data": {
      "text/plain": [
       "array([ 0.08579076, -0.35538698, -2.11810291,  1.61670292,  0.58289662,\n",
       "        1.75592755,  0.58424818, -0.72698759, -0.76775365, -0.71726321,\n",
       "       -0.05294368, -1.78220518, -0.69233456,  1.35600943, -1.83786014,\n",
       "        1.11416858,  0.65358287,  0.32460426,  2.53947959,  0.16712385])"
      ]
     },
     "execution_count": 46,
     "metadata": {},
     "output_type": "execute_result"
    }
   ],
   "source": [
    "movieId = 5615\n",
    "ind_i = ind_train_i[ind_train_i == movieId].index[0]\n",
    "\n",
    "qi = Q[:, ind_i].toarray()[:, 0]\n",
    "qi"
   ]
  },
  {
   "cell_type": "code",
   "execution_count": 47,
   "id": "7e992633-4c63-49eb-8c5c-95b8f34232f8",
   "metadata": {},
   "outputs": [],
   "source": [
    "scores = Q.T.dot(qi)\n",
    "top_10=np.argsort(scores)[::-1][:10]"
   ]
  },
  {
   "cell_type": "code",
   "execution_count": 48,
   "id": "e1b7ee4c-f071-4347-8533-a57e96c39bdd",
   "metadata": {},
   "outputs": [
    {
     "data": {
      "text/plain": [
       "array([3977, 6043, 6192, 6991, 5879, 4048, 4439, 7068, 1166, 9547],\n",
       "      dtype=int64)"
      ]
     },
     "execution_count": 48,
     "metadata": {},
     "output_type": "execute_result"
    }
   ],
   "source": [
    "top_10"
   ]
  },
  {
   "cell_type": "code",
   "execution_count": 49,
   "id": "21ba9bbe-2ebb-4a2e-8c1e-f753b894bc0d",
   "metadata": {},
   "outputs": [
    {
     "data": {
      "text/plain": [
       "'Invincible (2001)'"
      ]
     },
     "execution_count": 49,
     "metadata": {},
     "output_type": "execute_result"
    }
   ],
   "source": [
    "df_movies[df_movies['movieId']==ind_train_i[3977]]['title'].iloc[0]"
   ]
  },
  {
   "cell_type": "code",
   "execution_count": 50,
   "id": "303d3987-dd81-4286-9f2e-652f6c68f6a3",
   "metadata": {},
   "outputs": [
    {
     "data": {
      "text/html": [
       "<div>\n",
       "<style scoped>\n",
       "    .dataframe tbody tr th:only-of-type {\n",
       "        vertical-align: middle;\n",
       "    }\n",
       "\n",
       "    .dataframe tbody tr th {\n",
       "        vertical-align: top;\n",
       "    }\n",
       "\n",
       "    .dataframe thead th {\n",
       "        text-align: right;\n",
       "    }\n",
       "</style>\n",
       "<table border=\"1\" class=\"dataframe\">\n",
       "  <thead>\n",
       "    <tr style=\"text-align: right;\">\n",
       "      <th></th>\n",
       "      <th>movieId</th>\n",
       "      <th>movies</th>\n",
       "      <th>scores</th>\n",
       "      <th>genres</th>\n",
       "    </tr>\n",
       "  </thead>\n",
       "  <tbody>\n",
       "    <tr>\n",
       "      <th>0</th>\n",
       "      <td>5615</td>\n",
       "      <td>Invincible (2001)</td>\n",
       "      <td>29.756241</td>\n",
       "      <td>Drama</td>\n",
       "    </tr>\n",
       "    <tr>\n",
       "      <th>1</th>\n",
       "      <td>40723</td>\n",
       "      <td>Wolf Creek (2005)</td>\n",
       "      <td>21.278858</td>\n",
       "      <td>Crime|Horror|Thriller</td>\n",
       "    </tr>\n",
       "    <tr>\n",
       "      <th>2</th>\n",
       "      <td>45499</td>\n",
       "      <td>X-Men: The Last Stand (2006)</td>\n",
       "      <td>19.570919</td>\n",
       "      <td>Action|Sci-Fi|Thriller</td>\n",
       "    </tr>\n",
       "    <tr>\n",
       "      <th>3</th>\n",
       "      <td>68073</td>\n",
       "      <td>Pirate Radio (2009)</td>\n",
       "      <td>19.309013</td>\n",
       "      <td>Comedy|Drama</td>\n",
       "    </tr>\n",
       "    <tr>\n",
       "      <th>4</th>\n",
       "      <td>33437</td>\n",
       "      <td>Unleashed (Danny the Dog) (2005)</td>\n",
       "      <td>18.446562</td>\n",
       "      <td>Action|Crime|Drama|Thriller</td>\n",
       "    </tr>\n",
       "    <tr>\n",
       "      <th>5</th>\n",
       "      <td>5772</td>\n",
       "      <td>My Dinner with André (1981)</td>\n",
       "      <td>18.351032</td>\n",
       "      <td>Drama</td>\n",
       "    </tr>\n",
       "    <tr>\n",
       "      <th>6</th>\n",
       "      <td>6564</td>\n",
       "      <td>Lara Croft Tomb Raider: The Cradle of Life (2003)</td>\n",
       "      <td>18.269228</td>\n",
       "      <td>Action|Adventure|Comedy|Romance|Thriller</td>\n",
       "    </tr>\n",
       "    <tr>\n",
       "      <th>7</th>\n",
       "      <td>70015</td>\n",
       "      <td>Polytechnique (2009)</td>\n",
       "      <td>18.228665</td>\n",
       "      <td>Crime|Drama</td>\n",
       "    </tr>\n",
       "    <tr>\n",
       "      <th>8</th>\n",
       "      <td>1547</td>\n",
       "      <td>Shiloh (1997)</td>\n",
       "      <td>17.807164</td>\n",
       "      <td>Children|Drama</td>\n",
       "    </tr>\n",
       "    <tr>\n",
       "      <th>9</th>\n",
       "      <td>173873</td>\n",
       "      <td>Gulliver's Travels (1996)</td>\n",
       "      <td>17.672585</td>\n",
       "      <td>Adventure|Children|Fantasy</td>\n",
       "    </tr>\n",
       "  </tbody>\n",
       "</table>\n",
       "</div>"
      ],
      "text/plain": [
       "   movieId                                             movies     scores  \\\n",
       "0     5615                                  Invincible (2001)  29.756241   \n",
       "1    40723                                  Wolf Creek (2005)  21.278858   \n",
       "2    45499                       X-Men: The Last Stand (2006)  19.570919   \n",
       "3    68073                                Pirate Radio (2009)  19.309013   \n",
       "4    33437                   Unleashed (Danny the Dog) (2005)  18.446562   \n",
       "5     5772                        My Dinner with André (1981)  18.351032   \n",
       "6     6564  Lara Croft Tomb Raider: The Cradle of Life (2003)  18.269228   \n",
       "7    70015                               Polytechnique (2009)  18.228665   \n",
       "8     1547                                      Shiloh (1997)  17.807164   \n",
       "9   173873                          Gulliver's Travels (1996)  17.672585   \n",
       "\n",
       "                                     genres  \n",
       "0                                     Drama  \n",
       "1                     Crime|Horror|Thriller  \n",
       "2                    Action|Sci-Fi|Thriller  \n",
       "3                              Comedy|Drama  \n",
       "4               Action|Crime|Drama|Thriller  \n",
       "5                                     Drama  \n",
       "6  Action|Adventure|Comedy|Romance|Thriller  \n",
       "7                               Crime|Drama  \n",
       "8                            Children|Drama  \n",
       "9                Adventure|Children|Fantasy  "
      ]
     },
     "execution_count": 50,
     "metadata": {},
     "output_type": "execute_result"
    }
   ],
   "source": [
    "movies = []\n",
    "movies_genres = []\n",
    "movies_scores = []\n",
    "movies_ids = []\n",
    "\n",
    "for ind in top_10:\n",
    "    movies_ids.append(ind_train_i[ind])\n",
    "    movies.append(df_movies[df_movies['movieId']==ind_train_i[ind]]['title'].iloc[0])\n",
    "    movies_genres.append(df_movies[df_movies['movieId']==ind_train_i[ind]]['genres'].iloc[0])\n",
    "    movies_scores.append(scores[ind])\n",
    "    \n",
    "similar = pd.DataFrame({'movieId' : movies_ids, 'movies' : movies, 'scores' : movies_scores, 'genres' : movies_genres})\n",
    "similar"
   ]
  },
  {
   "cell_type": "code",
   "execution_count": 51,
   "id": "5f49d6be-aa25-4cea-b2f0-91038544dc71",
   "metadata": {},
   "outputs": [],
   "source": [
    "def predict_top_k(user_id, train_set, P, Q, df_movies, ind_train_i, k=10):\n",
    "    \n",
    "    user_inter = train_set[user_id, :].toarray()\n",
    "    user_inter = np.where(~np.isnan(user_inter), 0, user_inter)\n",
    "    user_inter = np.nan_to_num(user_inter[0], nan=1)\n",
    "    \n",
    "    rec_vector = P[user_id, :].dot(Q).toarray()\n",
    "    \n",
    "    min_max = MinMaxScaler()\n",
    "    rec_vector_scaled = min_max.fit_transform(rec_vector.reshape(-1,1))[:,0]\n",
    "    recommend_vector = user_inter * rec_vector_scaled\n",
    "    \n",
    "    item_idx = np.argsort(recommend_vector)[::-1][:k]\n",
    "    \n",
    "    movies = []\n",
    "    movies_scores = []\n",
    "    movies_ids = []\n",
    "\n",
    "    for ind in item_idx:\n",
    "        movies_ids.append(ind_train_i[ind])\n",
    "        movies.append(df_movies[df_movies['movieId']==ind_train_i[ind]]['title'].iloc[0])\n",
    "        movies_scores.append(recommend_vector[ind])\n",
    "    \n",
    "    similar = pd.DataFrame({'movieId' : movies_ids, 'title' : movies, 'scores' : movies_scores})\n",
    "    return similar\n",
    "    "
   ]
  },
  {
   "cell_type": "code",
   "execution_count": 52,
   "id": "c60bb142-7c32-4450-96b1-f20f8a0faaae",
   "metadata": {},
   "outputs": [
    {
     "name": "stdout",
     "output_type": "stream",
     "text": [
      "   movieId                                              title    scores\n",
      "0     5615                                  Invincible (2001)  1.000000\n",
      "1    93502                                  Ledge, The (2011)  0.994485\n",
      "2    89072                                  Stake Land (2010)  0.957493\n",
      "3     4334                                       Yi Yi (2000)  0.947172\n",
      "4     5570                              Thesis (Tesis) (1996)  0.934872\n",
      "5    26236  White Sun of the Desert, The (Beloe solntse pu...  0.932483\n",
      "6    80549                                      Easy A (2010)  0.931932\n",
      "7     4395  Big Deal on Madonna Street (I Soliti Ignoti) (...  0.926718\n",
      "8   144222                             Bros Before Hos (2013)  0.924318\n",
      "9     3790                                      Groove (2000)  0.922260\n"
     ]
    }
   ],
   "source": [
    "user_id = 103\n",
    "recommendations = predict_top_k(user_id, x_train, P, Q, df_movies, ind_train_i, k=10)\n",
    "print(recommendations)"
   ]
  },
  {
   "cell_type": "code",
   "execution_count": null,
   "id": "e2af4605-5fd8-425b-8a50-8f6c87c119a6",
   "metadata": {},
   "outputs": [],
   "source": []
  }
 ],
 "metadata": {
  "kernelspec": {
   "display_name": "Python 3 (ipykernel)",
   "language": "python",
   "name": "python3"
  },
  "language_info": {
   "codemirror_mode": {
    "name": "ipython",
    "version": 3
   },
   "file_extension": ".py",
   "mimetype": "text/x-python",
   "name": "python",
   "nbconvert_exporter": "python",
   "pygments_lexer": "ipython3",
   "version": "3.10.2"
  }
 },
 "nbformat": 4,
 "nbformat_minor": 5
}
