{
 "cells": [
  {
   "cell_type": "code",
   "execution_count": 1,
   "metadata": {
    "colab": {
     "base_uri": "https://localhost:8080/"
    },
    "id": "3zE6KcFHCCNg",
    "outputId": "6754876a-abd9-449d-f757-b26221ada579"
   },
   "outputs": [
    {
     "name": "stdout",
     "output_type": "stream",
     "text": [
      "Collecting lightfm\n",
      "  Downloading lightfm-1.16.tar.gz (310 kB)\n",
      "\u001b[K     |████████████████████████████████| 310 kB 5.1 MB/s eta 0:00:01\n",
      "\u001b[?25hRequirement already satisfied: numpy in /usr/local/lib/python3.7/dist-packages (from lightfm) (1.21.5)\n",
      "Requirement already satisfied: scipy>=0.17.0 in /usr/local/lib/python3.7/dist-packages (from lightfm) (1.4.1)\n",
      "Requirement already satisfied: requests in /usr/local/lib/python3.7/dist-packages (from lightfm) (2.23.0)\n",
      "Requirement already satisfied: scikit-learn in /usr/local/lib/python3.7/dist-packages (from lightfm) (1.0.2)\n",
      "Requirement already satisfied: certifi>=2017.4.17 in /usr/local/lib/python3.7/dist-packages (from requests->lightfm) (2021.10.8)\n",
      "Requirement already satisfied: idna<3,>=2.5 in /usr/local/lib/python3.7/dist-packages (from requests->lightfm) (2.10)\n",
      "Requirement already satisfied: urllib3!=1.25.0,!=1.25.1,<1.26,>=1.21.1 in /usr/local/lib/python3.7/dist-packages (from requests->lightfm) (1.24.3)\n",
      "Requirement already satisfied: chardet<4,>=3.0.2 in /usr/local/lib/python3.7/dist-packages (from requests->lightfm) (3.0.4)\n",
      "Requirement already satisfied: threadpoolctl>=2.0.0 in /usr/local/lib/python3.7/dist-packages (from scikit-learn->lightfm) (3.1.0)\n",
      "Requirement already satisfied: joblib>=0.11 in /usr/local/lib/python3.7/dist-packages (from scikit-learn->lightfm) (1.1.0)\n",
      "Building wheels for collected packages: lightfm\n",
      "  Building wheel for lightfm (setup.py) ... \u001b[?25l\u001b[?25hdone\n",
      "  Created wheel for lightfm: filename=lightfm-1.16-cp37-cp37m-linux_x86_64.whl size=705365 sha256=c723304f9857d43bacc44940084adbf0efd9a8bb72ec2ac8c0a519d756ffe4df\n",
      "  Stored in directory: /root/.cache/pip/wheels/f8/56/28/5772a3bd3413d65f03aa452190b00898b680b10028a1021914\n",
      "Successfully built lightfm\n",
      "Installing collected packages: lightfm\n",
      "Successfully installed lightfm-1.16\n"
     ]
    }
   ],
   "source": [
    "!pip install lightfm"
   ]
  },
  {
   "cell_type": "code",
   "execution_count": 2,
   "metadata": {
    "id": "xv4G1u7hCbfA"
   },
   "outputs": [],
   "source": [
    "import numpy as np\n",
    "import pandas as pd\n",
    "import time\n",
    "\n",
    "%matplotlib inline\n",
    "import matplotlib\n",
    "import matplotlib.pyplot as plt\n",
    "\n",
    "from lightfm import LightFM\n",
    "from lightfm.datasets import fetch_movielens\n",
    "from lightfm.evaluation import auc_score\n",
    "from lightfm.evaluation import precision_at_k\n",
    "from lightfm.datasets import fetch_movielens\n",
    "\n",
    "from flask import Flask, jsonify, request"
   ]
  },
  {
   "cell_type": "code",
   "execution_count": 3,
   "metadata": {
    "id": "Cn6sh6wgCmb6"
   },
   "outputs": [],
   "source": [
    "movielens = fetch_movielens()\n",
    "train, test = movielens['train'], movielens['test']"
   ]
  },
  {
   "cell_type": "code",
   "execution_count": 4,
   "metadata": {
    "colab": {
     "base_uri": "https://localhost:8080/"
    },
    "id": "xgaCD3Z1Cwzj",
    "outputId": "2b7fea23-542a-42cd-9e7d-2f192ad4b8a4"
   },
   "outputs": [
    {
     "data": {
      "text/plain": [
       "matrix([[5, 3, 4, ..., 0, 0, 0],\n",
       "        [4, 0, 0, ..., 0, 0, 0],\n",
       "        [0, 0, 0, ..., 0, 0, 0],\n",
       "        ...,\n",
       "        [5, 0, 0, ..., 0, 0, 0],\n",
       "        [0, 0, 0, ..., 0, 0, 0],\n",
       "        [0, 5, 0, ..., 0, 0, 0]], dtype=int32)"
      ]
     },
     "execution_count": 4,
     "metadata": {},
     "output_type": "execute_result"
    }
   ],
   "source": [
    "train.todense()"
   ]
  },
  {
   "cell_type": "code",
   "execution_count": 5,
   "metadata": {
    "id": "WFEbOLguC21r"
   },
   "outputs": [],
   "source": [
    "alpha = 1e-05\n",
    "epochs = 70\n",
    "num_components = 32"
   ]
  },
  {
   "cell_type": "code",
   "execution_count": 6,
   "metadata": {
    "id": "Lde6K-boDMth"
   },
   "outputs": [],
   "source": [
    "warp_model = LightFM(no_components=num_components,\n",
    "                    loss='warp',\n",
    "                    learning_schedule='adagrad',\n",
    "                    max_sampled=100,\n",
    "                    user_alpha=alpha,\n",
    "                    item_alpha=alpha)"
   ]
  },
  {
   "cell_type": "code",
   "execution_count": 7,
   "metadata": {
    "id": "knCtFrQxDWro"
   },
   "outputs": [],
   "source": [
    "bpr_model = LightFM(no_components=num_components,\n",
    "                    loss='bpr',\n",
    "                    learning_schedule='adagrad',\n",
    "                    user_alpha=alpha,\n",
    "                    item_alpha=alpha)"
   ]
  },
  {
   "cell_type": "code",
   "execution_count": 8,
   "metadata": {
    "id": "51O45elODiMK"
   },
   "outputs": [],
   "source": [
    "logistic_model = LightFM(no_components=num_components,\n",
    "                    loss='logistic',\n",
    "                    learning_schedule='adagrad',\n",
    "                    user_alpha=alpha,\n",
    "                    item_alpha=alpha)"
   ]
  },
  {
   "cell_type": "code",
   "execution_count": 9,
   "metadata": {
    "id": "BkcDj1euFRsA"
   },
   "outputs": [],
   "source": [
    "warp_duration = []\n",
    "bpr_duration = []\n",
    "logistic_duration = []\n",
    "warp_auc = []\n",
    "bpr_auc = []\n",
    "logistic_auc = []"
   ]
  },
  {
   "cell_type": "code",
   "execution_count": 10,
   "metadata": {
    "id": "Qlzo4v3EG127"
   },
   "outputs": [],
   "source": [
    "for epoch in range(epochs):\n",
    "    start = time.time()\n",
    "    warp_model.fit_partial(train, epochs=1)\n",
    "    warp_duration.append(time.time() - start)\n",
    "    warp_auc.append(auc_score(warp_model, test, train_interactions=train).mean())\n",
    "\n",
    "for epoch in range(epochs):\n",
    "    start = time.time()\n",
    "    bpr_model.fit_partial(train, epochs=1)\n",
    "    bpr_duration.append(time.time() - start)\n",
    "    bpr_auc.append(auc_score(bpr_model, test, train_interactions=train).mean())\n",
    "    \n",
    "for epoch in range(epochs):\n",
    "    start = time.time()\n",
    "    logistic_model.fit_partial(train, epochs=1)\n",
    "    logistic_duration.append(time.time() - start)\n",
    "    logistic_auc.append(auc_score(bpr_model, test, train_interactions=train).mean())"
   ]
  },
  {
   "cell_type": "code",
   "execution_count": 13,
   "metadata": {
    "colab": {
     "base_uri": "https://localhost:8080/",
     "height": 486
    },
    "id": "PtcqKdD_JG_5",
    "outputId": "6e30976f-5201-4082-ed5a-853de1b713ac"
   },
   "outputs": [
    {
     "data": {
      "image/png": "[encoded data removed]",
      "text/plain": [
       "<Figure size 1440x576 with 1 Axes>"
      ]
     },
     "metadata": {
      "needs_background": "light"
     },
     "output_type": "display_data"
    }
   ],
   "source": [
    "x = np.arange(epochs)\n",
    "plt.figure(figsize = (20, 8))\n",
    "plt.plot(x, np.array(warp_auc))\n",
    "plt.plot(x, np.array(bpr_auc))\n",
    "plt.plot(x, np.array(logistic_auc))\n",
    "plt.legend(['WARP AUC', 'BPR AUC' , 'Logistic AUC'], loc='upper right') \n",
    "plt.show()"
   ]
  },
  {
   "cell_type": "code",
   "execution_count": 14,
   "metadata": {
    "colab": {
     "base_uri": "https://localhost:8080/",
     "height": 483
    },
    "id": "kcEN4yzXKKA6",
    "outputId": "cc240b5b-dd0b-4367-a30f-fc2eb90701f7"
   },
   "outputs": [
    {
     "data": {
      "image/png": "[encoded data removed]",
      "text/plain": [
       "<Figure size 864x576 with 1 Axes>"
      ]
     },
     "metadata": {
      "needs_background": "light"
     },
     "output_type": "display_data"
    }
   ],
   "source": [
    "x = np.arange(epochs)\n",
    "plt.figure(figsize = (12, 8))\n",
    "plt.plot(x, np.array(warp_duration))\n",
    "plt.plot(x, np.array(bpr_duration))\n",
    "plt.plot(x, np.array(logistic_duration))\n",
    "plt.legend(['WARP duration', 'BPR duration', 'Logistic duration'], loc='upper right')\n",
    "plt.show()"
   ]
  },
  {
   "cell_type": "code",
   "execution_count": 15,
   "metadata": {
    "id": "WNmZTN_7KiwL"
   },
   "outputs": [],
   "source": [
    "data = fetch_movielens(min_rating=4.0)\n",
    "train, test = data['train'], data['test']\n"
   ]
  },
  {
   "cell_type": "code",
   "execution_count": 16,
   "metadata": {
    "colab": {
     "base_uri": "https://localhost:8080/"
    },
    "id": "LSdhU2lcLpLi",
    "outputId": "243035a1-dc76-4bee-835d-f66c243136a1"
   },
   "outputs": [
    {
     "name": "stdout",
     "output_type": "stream",
     "text": [
      "Precision: train 0.50, test 0.07.\n",
      "AUC: train 0.89, test 0.84.\n"
     ]
    }
   ],
   "source": [
    "model = LightFM(learning_rate=0.05, loss='bpr')\n",
    "model.fit(data['train'], epochs=10)\n",
    "\n",
    "train_precision = precision_at_k(model, data['train'], k=10).mean()\n",
    "test_precision = precision_at_k(model, data['test'], k=10).mean()\n",
    "\n",
    "train_auc = auc_score(model, data['train']).mean()\n",
    "test_auc = auc_score(model, data['test']).mean()\n",
    "\n",
    "print('Precision: train %.2f, test %.2f.' % (train_precision, test_precision))\n",
    "print('AUC: train %.2f, test %.2f.' % (train_auc, test_auc))"
   ]
  },
  {
   "cell_type": "code",
   "execution_count": 17,
   "metadata": {
    "colab": {
     "base_uri": "https://localhost:8080/"
    },
    "id": "Np_pyF4rMlYW",
    "outputId": "1db92523-b1f8-4cc2-8642-a778f7fd955f"
   },
   "outputs": [
    {
     "name": "stdout",
     "output_type": "stream",
     "text": [
      "Precision: train 0.48, test 0.07.\n",
      "AUC: train 0.94, test 0.91.\n"
     ]
    }
   ],
   "source": [
    "model = LightFM(learning_rate=0.05, loss='warp')\n",
    "model.fit_partial(data['train'], epochs=10)\n",
    "\n",
    "train_precision = precision_at_k(model, data['train'], k=10).mean()\n",
    "test_precision = precision_at_k(model, data['test'], k=10).mean()\n",
    "\n",
    "train_auc = auc_score(model, data['train']).mean()\n",
    "test_auc = auc_score(model, data['test']).mean()\n",
    "\n",
    "print('Precision: train %.2f, test %.2f.' % (train_precision, test_precision))\n",
    "print('AUC: train %.2f, test %.2f.' % (train_auc, test_auc))"
   ]
  },
  {
   "cell_type": "code",
   "execution_count": 18,
   "metadata": {
    "colab": {
     "base_uri": "https://localhost:8080/"
    },
    "id": "-1nq-b-yNaaA",
    "outputId": "c06a9e6d-b289-48d1-af4d-77d1a86f3566"
   },
   "outputs": [
    {
     "name": "stdout",
     "output_type": "stream",
     "text": [
      "Precision: train 0.34, test 0.06.\n",
      "AUC: train 0.88, test 0.87.\n"
     ]
    }
   ],
   "source": [
    "model = LightFM(learning_rate=0.05, loss='logistic')\n",
    "model.fit_partial(data['train'], epochs=10)\n",
    "\n",
    "train_precision = precision_at_k(model, data['train'], k=10).mean()\n",
    "test_precision = precision_at_k(model, data['test'], k=10).mean()\n",
    "\n",
    "train_auc = auc_score(model, data['train']).mean()\n",
    "test_auc = auc_score(model, data['test']).mean()\n",
    "\n",
    "print('Precision: train %.2f, test %.2f.' % (train_precision, test_precision))\n",
    "print('AUC: train %.2f, test %.2f.' % (train_auc, test_auc))"
   ]
  },
  {
   "cell_type": "code",
   "execution_count": 19,
   "metadata": {
    "id": "M3sEBLVmK-CB"
   },
   "outputs": [],
   "source": [
    "app = Flask(__name__)"
   ]
  },
  {
   "cell_type": "code",
   "execution_count": 19,
   "metadata": {
    "id": "BFu__zOqLJpf"
   },
   "outputs": [],
   "source": []
  },
  {
   "cell_type": "code",
   "execution_count": 20,
   "metadata": {
    "id": "pzU7NE4qK_Kf"
   },
   "outputs": [],
   "source": [
    "@app.route('/')\n",
    "def recom_for_user():\n",
    "    user_id = request.args.get('user_id', default = 1, type = int)\n",
    "    \n",
    "    n_users, n_items = data['train'].shape\n",
    "    known_positives = data['item_labels'][data['train'].tocsr()[user_id].indices]\n",
    "    scores = model.predict(user_id, np.arange(n_items))\n",
    "    top_items = data['item_labels'][np.argsort(-scores)][:10]\n",
    "    \n",
    "    movie_scores = zip(top_items, scores)\n",
    "    \n",
    "    return jsonify(\n",
    "        movies=[\n",
    "            {\n",
    "                \"id\": i,\n",
    "                \"score\": float(s),\n",
    "            }\n",
    "            for i, s in movie_scores\n",
    "        ],\n",
    "    )"
   ]
  },
  {
   "cell_type": "code",
   "execution_count": 23,
   "metadata": {
    "colab": {
     "base_uri": "https://localhost:8080/"
    },
    "id": "B5EVSrqoLEV6",
    "outputId": "b31c37e0-8f4f-4fa3-b59e-0379bc6255cf"
   },
   "outputs": [
    {
     "name": "stdout",
     "output_type": "stream",
     "text": [
      " * Serving Flask app \"__main__\" (lazy loading)\n",
      " * Environment: production\n",
      "\u001b[31m   WARNING: This is a development server. Do not use it in a production deployment.\u001b[0m\n",
      "\u001b[2m   Use a production WSGI server instead.\u001b[0m\n",
      " * Debug mode: off\n"
     ]
    },
    {
     "name": "stderr",
     "output_type": "stream",
     "text": [
      " * Running on http://0.0.0.0:6000/ (Press CTRL+C to quit)\n"
     ]
    }
   ],
   "source": [
    "app.run(host=\"0.0.0.0\", port=6000)"
   ]
  },
  {
   "cell_type": "markdown",
   "metadata": {
    "id": "hIUf503HS49G"
   },
   "source": [
    "# Новый раздел"
   ]
  },
  {
   "cell_type": "code",
   "execution_count": null,
   "metadata": {
    "id": "Z0JHsHlJTEv0"
   },
   "outputs": [],
   "source": [
    "from google.colab import drive\n",
    "drive.mount('/content/drive')"
   ]
  },
  {
   "cell_type": "code",
   "execution_count": null,
   "metadata": {
    "id": "EYIgQcSoPjIr"
   },
   "outputs": [],
   "source": []
  }
 ],
 "metadata": {
  "colab": {
   "collapsed_sections": [],
   "name": "Untitled1.ipynb",
   "provenance": []
  },
  "kernelspec": {
   "display_name": "Python 3 (ipykernel)",
   "language": "python",
   "name": "python3"
  },
  "language_info": {
   "codemirror_mode": {
    "name": "ipython",
    "version": 3
   },
   "file_extension": ".py",
   "mimetype": "text/x-python",
   "name": "python",
   "nbconvert_exporter": "python",
   "pygments_lexer": "ipython3",
   "version": "3.10.2"
  }
 },
 "nbformat": 4,
 "nbformat_minor": 4
}
