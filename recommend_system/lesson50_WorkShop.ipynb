{
 "cells": [
  {
   "cell_type": "code",
   "execution_count": 1,
   "id": "38552574-df61-4439-af70-f2275b82bd6c",
   "metadata": {},
   "outputs": [],
   "source": [
    "import pandas as pd\n",
    "import numpy as np\n",
    "import seaborn as sns\n",
    "import random\n",
    "import matplotlib.pyplot as plt\n",
    "from sklearn.model_selection import train_test_split\n",
    "from sklearn.metrics import pairwise_distances\n",
    "from sklearn.metrics import mean_squared_error\n",
    "from math import sqrt"
   ]
  },
  {
   "cell_type": "code",
   "execution_count": 2,
   "id": "04029fb4-da8a-4643-9efd-ee5684d3057e",
   "metadata": {},
   "outputs": [],
   "source": [
    "df_ratings = pd.read_csv('ml-latest-small/ratings.csv')\n",
    "df_movies = pd.read_csv('ml-latest-small/movies.csv')"
   ]
  },
  {
   "cell_type": "code",
   "execution_count": 3,
   "id": "d071093b-f18d-4342-b6e5-37ab2cbb1bbd",
   "metadata": {},
   "outputs": [
    {
     "data": {
      "text/html": [
       "<div>\n",
       "<style scoped>\n",
       "    .dataframe tbody tr th:only-of-type {\n",
       "        vertical-align: middle;\n",
       "    }\n",
       "\n",
       "    .dataframe tbody tr th {\n",
       "        vertical-align: top;\n",
       "    }\n",
       "\n",
       "    .dataframe thead th {\n",
       "        text-align: right;\n",
       "    }\n",
       "</style>\n",
       "<table border=\"1\" class=\"dataframe\">\n",
       "  <thead>\n",
       "    <tr style=\"text-align: right;\">\n",
       "      <th></th>\n",
       "      <th>userId</th>\n",
       "      <th>movieId</th>\n",
       "      <th>rating</th>\n",
       "      <th>timestamp</th>\n",
       "    </tr>\n",
       "  </thead>\n",
       "  <tbody>\n",
       "    <tr>\n",
       "      <th>0</th>\n",
       "      <td>1</td>\n",
       "      <td>1</td>\n",
       "      <td>4.0</td>\n",
       "      <td>964982703</td>\n",
       "    </tr>\n",
       "    <tr>\n",
       "      <th>1</th>\n",
       "      <td>1</td>\n",
       "      <td>3</td>\n",
       "      <td>4.0</td>\n",
       "      <td>964981247</td>\n",
       "    </tr>\n",
       "    <tr>\n",
       "      <th>2</th>\n",
       "      <td>1</td>\n",
       "      <td>6</td>\n",
       "      <td>4.0</td>\n",
       "      <td>964982224</td>\n",
       "    </tr>\n",
       "    <tr>\n",
       "      <th>3</th>\n",
       "      <td>1</td>\n",
       "      <td>47</td>\n",
       "      <td>5.0</td>\n",
       "      <td>964983815</td>\n",
       "    </tr>\n",
       "    <tr>\n",
       "      <th>4</th>\n",
       "      <td>1</td>\n",
       "      <td>50</td>\n",
       "      <td>5.0</td>\n",
       "      <td>964982931</td>\n",
       "    </tr>\n",
       "  </tbody>\n",
       "</table>\n",
       "</div>"
      ],
      "text/plain": [
       "   userId  movieId  rating  timestamp\n",
       "0       1        1     4.0  964982703\n",
       "1       1        3     4.0  964981247\n",
       "2       1        6     4.0  964982224\n",
       "3       1       47     5.0  964983815\n",
       "4       1       50     5.0  964982931"
      ]
     },
     "execution_count": 3,
     "metadata": {},
     "output_type": "execute_result"
    }
   ],
   "source": [
    "df_ratings.head()"
   ]
  },
  {
   "cell_type": "code",
   "execution_count": 4,
   "id": "7b1f583a-46a0-495f-b4e3-29d2d29166fe",
   "metadata": {},
   "outputs": [
    {
     "data": {
      "text/html": [
       "<div>\n",
       "<style scoped>\n",
       "    .dataframe tbody tr th:only-of-type {\n",
       "        vertical-align: middle;\n",
       "    }\n",
       "\n",
       "    .dataframe tbody tr th {\n",
       "        vertical-align: top;\n",
       "    }\n",
       "\n",
       "    .dataframe thead th {\n",
       "        text-align: right;\n",
       "    }\n",
       "</style>\n",
       "<table border=\"1\" class=\"dataframe\">\n",
       "  <thead>\n",
       "    <tr style=\"text-align: right;\">\n",
       "      <th></th>\n",
       "      <th>movieId</th>\n",
       "      <th>title</th>\n",
       "      <th>genres</th>\n",
       "    </tr>\n",
       "  </thead>\n",
       "  <tbody>\n",
       "    <tr>\n",
       "      <th>0</th>\n",
       "      <td>1</td>\n",
       "      <td>Toy Story (1995)</td>\n",
       "      <td>Adventure|Animation|Children|Comedy|Fantasy</td>\n",
       "    </tr>\n",
       "    <tr>\n",
       "      <th>1</th>\n",
       "      <td>2</td>\n",
       "      <td>Jumanji (1995)</td>\n",
       "      <td>Adventure|Children|Fantasy</td>\n",
       "    </tr>\n",
       "    <tr>\n",
       "      <th>2</th>\n",
       "      <td>3</td>\n",
       "      <td>Grumpier Old Men (1995)</td>\n",
       "      <td>Comedy|Romance</td>\n",
       "    </tr>\n",
       "    <tr>\n",
       "      <th>3</th>\n",
       "      <td>4</td>\n",
       "      <td>Waiting to Exhale (1995)</td>\n",
       "      <td>Comedy|Drama|Romance</td>\n",
       "    </tr>\n",
       "    <tr>\n",
       "      <th>4</th>\n",
       "      <td>5</td>\n",
       "      <td>Father of the Bride Part II (1995)</td>\n",
       "      <td>Comedy</td>\n",
       "    </tr>\n",
       "  </tbody>\n",
       "</table>\n",
       "</div>"
      ],
      "text/plain": [
       "   movieId                               title  \\\n",
       "0        1                    Toy Story (1995)   \n",
       "1        2                      Jumanji (1995)   \n",
       "2        3             Grumpier Old Men (1995)   \n",
       "3        4            Waiting to Exhale (1995)   \n",
       "4        5  Father of the Bride Part II (1995)   \n",
       "\n",
       "                                        genres  \n",
       "0  Adventure|Animation|Children|Comedy|Fantasy  \n",
       "1                   Adventure|Children|Fantasy  \n",
       "2                               Comedy|Romance  \n",
       "3                         Comedy|Drama|Romance  \n",
       "4                                       Comedy  "
      ]
     },
     "execution_count": 4,
     "metadata": {},
     "output_type": "execute_result"
    }
   ],
   "source": [
    "df_movies.head()"
   ]
  },
  {
   "cell_type": "code",
   "execution_count": 5,
   "id": "5d2d1f32-83bf-4163-bd8f-f2e86582f67d",
   "metadata": {},
   "outputs": [],
   "source": [
    "df_to_plot = df_ratings['movieId'].value_counts().reset_index()\n",
    "df_to_plot.columns = ['movieId', 'count']\n",
    "df_to_plot['cumulative_volume'] = df_to_plot['count'].cumsum()\n",
    "df_to_plot['percent_of_total_volume'] = df_to_plot['cumulative_volume']/df_to_plot['count'].sum()"
   ]
  },
  {
   "cell_type": "code",
   "execution_count": 7,
   "id": "062a52fe-e02c-4b6e-b1a4-a5b14236242c",
   "metadata": {},
   "outputs": [
    {
     "name": "stderr",
     "output_type": "stream",
     "text": [
      "C:\\Users\\Vadim\\AppData\\Local\\Temp/ipykernel_14984/2663117621.py:7: UserWarning: FixedFormatter should only be used together with FixedLocator\n",
      "  ax2.set_yticklabels(['{:,.0%}'.format(x) for x in ax2.get_yticks()])\n"
     ]
    },
    {
     "data": {
      "text/plain": [
       "Text(0.5, 1.0, 'Ratings long tail plot')"
      ]
     },
     "execution_count": 7,
     "metadata": {},
     "output_type": "execute_result"
    },
    {
     "data": {
      "image/png": "[encoded data removed]",
      "text/plain": [
       "<Figure size 842.4x595.44 with 2 Axes>"
      ]
     },
     "metadata": {
      "needs_background": "light"
     },
     "output_type": "display_data"
    }
   ],
   "source": [
    "%matplotlib inline\n",
    "fig, ax2 = plt.subplots()\n",
    "fig.set_size_inches(11.7, 8.27)\n",
    "sns.lineplot(data=df_to_plot['count'], color=\"g\")\n",
    "ax2 = plt.twinx()\n",
    "sns.lineplot(data=df_to_plot['percent_of_total_volume'], color=\"b\", ax=ax2)\n",
    "ax2.set_yticklabels(['{:,.0%}'.format(x) for x in ax2.get_yticks()])\n",
    "ax2.set_title('Ratings long tail plot')"
   ]
  },
  {
   "cell_type": "markdown",
   "id": "32d355a5-6fdc-4068-9657-3bc52d2933a8",
   "metadata": {},
   "source": [
    "## Train/Test split"
   ]
  },
  {
   "cell_type": "code",
   "execution_count": 8,
   "id": "20304e80-ca93-46b2-987c-5d916195eb02",
   "metadata": {},
   "outputs": [],
   "source": [
    "df_ratings = df_ratings.merge(df_movies[['movieId', 'title']],how='left', on='movieId')"
   ]
  },
  {
   "cell_type": "code",
   "execution_count": 9,
   "id": "2d12b081-c268-42f1-ba05-6398022437b3",
   "metadata": {},
   "outputs": [],
   "source": [
    "train_data, test_data = train_test_split(df_ratings, test_size = 0.25, random_state=57)"
   ]
  },
  {
   "cell_type": "code",
   "execution_count": 10,
   "id": "05dbe22e-1aec-4a77-9a2a-3fbe8ba470fd",
   "metadata": {},
   "outputs": [],
   "source": [
    "test_res = test_data.copy().groupby('userId', as_index=False)['title'].agg({'actual': (lambda x: list(set(x)))})\n",
    "test_res = test_res.set_index(\"userId\")"
   ]
  },
  {
   "cell_type": "code",
   "execution_count": 11,
   "id": "d2448cfa-3cff-4f79-b696-2967ed2d016d",
   "metadata": {},
   "outputs": [],
   "source": [
    "train_data_ui = train_data.pivot_table(index=['userId'], columns=['title'], values='rating')\n",
    "test_data_ui = test_data.pivot_table(index=['userId'], columns=['title'], values='rating')"
   ]
  },
  {
   "cell_type": "markdown",
   "id": "8b153169-401b-4373-9d7e-478b1845c246",
   "metadata": {},
   "source": [
    "## Simple rating prediction. MSE"
   ]
  },
  {
   "cell_type": "code",
   "execution_count": 12,
   "id": "a64a4702-4d90-4973-b4bd-95a1f8ad9e60",
   "metadata": {},
   "outputs": [
    {
     "name": "stdout",
     "output_type": "stream",
     "text": [
      "Number of movies in Test: 5644\n",
      "Interseption of movies in Train and Test: 4693\n"
     ]
    }
   ],
   "source": [
    "print(\"Number of movies in Test: {}\".format(len(set(test_data.movieId))))\n",
    "print(\"Interseption of movies in Train and Test: {}\".format(len(set.intersection(set(test_data.movieId), set(train_data.movieId)))))"
   ]
  },
  {
   "cell_type": "code",
   "execution_count": 13,
   "id": "3b471b34-105f-498d-b84f-545e0e871bf4",
   "metadata": {},
   "outputs": [],
   "source": [
    "mean_rating = pd.DataFrame(train_data_ui.mean(axis=0), columns=['pred_rating']).reset_index()"
   ]
  },
  {
   "cell_type": "code",
   "execution_count": 14,
   "id": "96b2ed8d-d098-4dcf-be6c-4c254f01bb00",
   "metadata": {},
   "outputs": [],
   "source": [
    "test_data = test_data.merge(mean_rating, how='left', on='title')"
   ]
  },
  {
   "cell_type": "code",
   "execution_count": 17,
   "id": "31c5ecab-5332-4aae-a953-6e9b10078992",
   "metadata": {},
   "outputs": [
    {
     "data": {
      "text/html": [
       "<div>\n",
       "<style scoped>\n",
       "    .dataframe tbody tr th:only-of-type {\n",
       "        vertical-align: middle;\n",
       "    }\n",
       "\n",
       "    .dataframe tbody tr th {\n",
       "        vertical-align: top;\n",
       "    }\n",
       "\n",
       "    .dataframe thead th {\n",
       "        text-align: right;\n",
       "    }\n",
       "</style>\n",
       "<table border=\"1\" class=\"dataframe\">\n",
       "  <thead>\n",
       "    <tr style=\"text-align: right;\">\n",
       "      <th></th>\n",
       "      <th>userId</th>\n",
       "      <th>movieId</th>\n",
       "      <th>rating</th>\n",
       "      <th>timestamp</th>\n",
       "      <th>title</th>\n",
       "      <th>pred_rating</th>\n",
       "    </tr>\n",
       "  </thead>\n",
       "  <tbody>\n",
       "    <tr>\n",
       "      <th>0</th>\n",
       "      <td>414</td>\n",
       "      <td>2433</td>\n",
       "      <td>2.0</td>\n",
       "      <td>961436616</td>\n",
       "      <td>Civil Action, A (1998)</td>\n",
       "      <td>3.062500</td>\n",
       "    </tr>\n",
       "    <tr>\n",
       "      <th>1</th>\n",
       "      <td>380</td>\n",
       "      <td>91500</td>\n",
       "      <td>3.0</td>\n",
       "      <td>1494708626</td>\n",
       "      <td>The Hunger Games (2012)</td>\n",
       "      <td>3.500000</td>\n",
       "    </tr>\n",
       "    <tr>\n",
       "      <th>2</th>\n",
       "      <td>462</td>\n",
       "      <td>1261</td>\n",
       "      <td>4.0</td>\n",
       "      <td>1138343577</td>\n",
       "      <td>Evil Dead II (Dead by Dawn) (1987)</td>\n",
       "      <td>3.903846</td>\n",
       "    </tr>\n",
       "    <tr>\n",
       "      <th>3</th>\n",
       "      <td>597</td>\n",
       "      <td>2505</td>\n",
       "      <td>2.0</td>\n",
       "      <td>940420065</td>\n",
       "      <td>8MM (1999)</td>\n",
       "      <td>2.966667</td>\n",
       "    </tr>\n",
       "    <tr>\n",
       "      <th>4</th>\n",
       "      <td>232</td>\n",
       "      <td>53127</td>\n",
       "      <td>0.5</td>\n",
       "      <td>1209068728</td>\n",
       "      <td>Bug (2007)</td>\n",
       "      <td>3.666667</td>\n",
       "    </tr>\n",
       "  </tbody>\n",
       "</table>\n",
       "</div>"
      ],
      "text/plain": [
       "   userId  movieId  rating   timestamp                               title  \\\n",
       "0     414     2433     2.0   961436616              Civil Action, A (1998)   \n",
       "1     380    91500     3.0  1494708626             The Hunger Games (2012)   \n",
       "2     462     1261     4.0  1138343577  Evil Dead II (Dead by Dawn) (1987)   \n",
       "3     597     2505     2.0   940420065                          8MM (1999)   \n",
       "4     232    53127     0.5  1209068728                          Bug (2007)   \n",
       "\n",
       "   pred_rating  \n",
       "0     3.062500  \n",
       "1     3.500000  \n",
       "2     3.903846  \n",
       "3     2.966667  \n",
       "4     3.666667  "
      ]
     },
     "execution_count": 17,
     "metadata": {},
     "output_type": "execute_result"
    }
   ],
   "source": [
    "test_data.head()"
   ]
  },
  {
   "cell_type": "code",
   "execution_count": 19,
   "id": "ef669457-1985-48e7-a483-3f56ed58369f",
   "metadata": {},
   "outputs": [],
   "source": [
    "def mse(actual, pred) -> float:\n",
    "    mse = np.square(np.subtract(actual, pred)).mean()\n",
    "    return mse"
   ]
  },
  {
   "cell_type": "code",
   "execution_count": 20,
   "id": "4b200a03-2355-4e23-8f0f-7a56fca05014",
   "metadata": {
    "tags": []
   },
   "outputs": [],
   "source": [
    "mse = mse(test_data.rating, test_data.pred_rating)"
   ]
  },
  {
   "cell_type": "code",
   "execution_count": 21,
   "id": "a0b3409e-7b21-4586-8cea-7b81625a9792",
   "metadata": {},
   "outputs": [
    {
     "data": {
      "text/plain": [
       "0.9522521320877634"
      ]
     },
     "execution_count": 21,
     "metadata": {},
     "output_type": "execute_result"
    }
   ],
   "source": [
    "mse"
   ]
  },
  {
   "cell_type": "code",
   "execution_count": 25,
   "id": "1006eb3a-d7b1-453c-949e-97d4a4fa0a77",
   "metadata": {},
   "outputs": [
    {
     "data": {
      "text/plain": [
       "0.9758340699564467"
      ]
     },
     "execution_count": 25,
     "metadata": {},
     "output_type": "execute_result"
    }
   ],
   "source": [
    "np.sqrt(mse)"
   ]
  },
  {
   "cell_type": "markdown",
   "id": "07dcc3a0-5aa7-407b-b33d-fe4ec7b2bc5d",
   "metadata": {},
   "source": [
    "## Collaborative filtering based on Pearson similarity"
   ]
  },
  {
   "cell_type": "code",
   "execution_count": 26,
   "id": "960bad83-2954-4e0a-b8ff-52a21e7c792a",
   "metadata": {},
   "outputs": [],
   "source": [
    "cf_recs = []"
   ]
  },
  {
   "cell_type": "code",
   "execution_count": 27,
   "id": "f2672032-299c-4729-932b-c334eff9fff6",
   "metadata": {},
   "outputs": [
    {
     "name": "stdout",
     "output_type": "stream",
     "text": [
      "Wall time: 26.4 s\n"
     ]
    }
   ],
   "source": [
    "%%time\n",
    "corr_matrix = train_data_ui.corr(method='pearson', min_periods=100)"
   ]
  },
  {
   "cell_type": "code",
   "execution_count": 28,
   "id": "6e40244b-a99b-437e-a91c-36235ec0281e",
   "metadata": {},
   "outputs": [
    {
     "name": "stderr",
     "output_type": "stream",
     "text": [
      "<timed exec>:3: DeprecationWarning: The default dtype for empty Series will be 'object' instead of 'float64' in a future version. Specify a dtype explicitly to silence this warning.\n"
     ]
    },
    {
     "name": "stdout",
     "output_type": "stream",
     "text": [
      "Wall time: 42 s\n"
     ]
    }
   ],
   "source": [
    "%%time\n",
    "for i in test_res.index:\n",
    "    user_ratings = train_data_ui.loc[i].dropna()\n",
    "    simCandidates = pd.Series()\n",
    "\n",
    "    for j in range(0, len(user_ratings.index)): # Идем по списку всех фильмов оцененных пользвателем\n",
    "        sims = corr_matrix[user_ratings.index[j]].dropna() # Извлекаем фильмы, похожие на оцененные данным юзером (1)\n",
    "        sims = sims.map(lambda x: x * user_ratings[j]) # Умножаем корреляцию на оценку пользователя по фильму\n",
    "        simCandidates = simCandidates.append(sims) # Добавляем индекс в список сравниваемых кандидатов\n",
    "\n",
    "    simCandidates = simCandidates.groupby(simCandidates.index).sum()\n",
    "    simCandidates.sort_values(inplace = True, ascending = False)\n",
    "\n",
    "    # выбираем фильмы, которые пользователь еще не смотрел\n",
    "    intersection_set = set.intersection(set(simCandidates.index), set(user_ratings.index))\n",
    "    not_watched = list(set(simCandidates.index) - set(user_ratings.index))\n",
    "    colab_predictions = simCandidates[not_watched].sort_values(ascending = False).head(10).index.to_list()\n",
    "    cf_recs.append(colab_predictions)"
   ]
  },
  {
   "cell_type": "code",
   "execution_count": 29,
   "id": "181e1053-4d86-4a81-b27b-e377cf78e59e",
   "metadata": {},
   "outputs": [
    {
     "data": {
      "text/html": [
       "<div>\n",
       "<style scoped>\n",
       "    .dataframe tbody tr th:only-of-type {\n",
       "        vertical-align: middle;\n",
       "    }\n",
       "\n",
       "    .dataframe tbody tr th {\n",
       "        vertical-align: top;\n",
       "    }\n",
       "\n",
       "    .dataframe thead th {\n",
       "        text-align: right;\n",
       "    }\n",
       "</style>\n",
       "<table border=\"1\" class=\"dataframe\">\n",
       "  <thead>\n",
       "    <tr style=\"text-align: right;\">\n",
       "      <th></th>\n",
       "      <th>actual</th>\n",
       "      <th>colab_predictions</th>\n",
       "    </tr>\n",
       "    <tr>\n",
       "      <th>userId</th>\n",
       "      <th></th>\n",
       "      <th></th>\n",
       "    </tr>\n",
       "  </thead>\n",
       "  <tbody>\n",
       "    <tr>\n",
       "      <th>1</th>\n",
       "      <td>[Young Frankenstein (1974), So I Married an Ax...</td>\n",
       "      <td>[Shawshank Redemption, The (1994), Forrest Gum...</td>\n",
       "    </tr>\n",
       "    <tr>\n",
       "      <th>2</th>\n",
       "      <td>[Talladega Nights: The Ballad of Ricky Bobby (...</td>\n",
       "      <td>[]</td>\n",
       "    </tr>\n",
       "    <tr>\n",
       "      <th>3</th>\n",
       "      <td>[Fast Times at Ridgemont High (1982), Dangerou...</td>\n",
       "      <td>[]</td>\n",
       "    </tr>\n",
       "    <tr>\n",
       "      <th>4</th>\n",
       "      <td>[Moulin Rouge (2001), Swingers (1996), Crumb (...</td>\n",
       "      <td>[Star Wars: Episode VI - Return of the Jedi (1...</td>\n",
       "    </tr>\n",
       "    <tr>\n",
       "      <th>5</th>\n",
       "      <td>[In the Name of the Father (1993), Dead Man Wa...</td>\n",
       "      <td>[Silence of the Lambs, The (1991), Forrest Gum...</td>\n",
       "    </tr>\n",
       "  </tbody>\n",
       "</table>\n",
       "</div>"
      ],
      "text/plain": [
       "                                                   actual  \\\n",
       "userId                                                      \n",
       "1       [Young Frankenstein (1974), So I Married an Ax...   \n",
       "2       [Talladega Nights: The Ballad of Ricky Bobby (...   \n",
       "3       [Fast Times at Ridgemont High (1982), Dangerou...   \n",
       "4       [Moulin Rouge (2001), Swingers (1996), Crumb (...   \n",
       "5       [In the Name of the Father (1993), Dead Man Wa...   \n",
       "\n",
       "                                        colab_predictions  \n",
       "userId                                                     \n",
       "1       [Shawshank Redemption, The (1994), Forrest Gum...  \n",
       "2                                                      []  \n",
       "3                                                      []  \n",
       "4       [Star Wars: Episode VI - Return of the Jedi (1...  \n",
       "5       [Silence of the Lambs, The (1991), Forrest Gum...  "
      ]
     },
     "execution_count": 29,
     "metadata": {},
     "output_type": "execute_result"
    }
   ],
   "source": [
    "test_res['colab_predictions'] = cf_recs\n",
    "test_res.head()"
   ]
  },
  {
   "cell_type": "markdown",
   "id": "83b6b298-9870-433d-b592-ae2022e5a0bd",
   "metadata": {},
   "source": [
    "## Popularity recommender"
   ]
  },
  {
   "cell_type": "code",
   "execution_count": 30,
   "id": "884b1fe7-8279-4fe4-8f67-55f15b6cf210",
   "metadata": {},
   "outputs": [
    {
     "data": {
      "text/html": [
       "<div>\n",
       "<style scoped>\n",
       "    .dataframe tbody tr th:only-of-type {\n",
       "        vertical-align: middle;\n",
       "    }\n",
       "\n",
       "    .dataframe tbody tr th {\n",
       "        vertical-align: top;\n",
       "    }\n",
       "\n",
       "    .dataframe thead th {\n",
       "        text-align: right;\n",
       "    }\n",
       "</style>\n",
       "<table border=\"1\" class=\"dataframe\">\n",
       "  <thead>\n",
       "    <tr style=\"text-align: right;\">\n",
       "      <th></th>\n",
       "      <th>actual</th>\n",
       "      <th>colab_predictions</th>\n",
       "      <th>pop_predictions</th>\n",
       "    </tr>\n",
       "    <tr>\n",
       "      <th>userId</th>\n",
       "      <th></th>\n",
       "      <th></th>\n",
       "      <th></th>\n",
       "    </tr>\n",
       "  </thead>\n",
       "  <tbody>\n",
       "    <tr>\n",
       "      <th>1</th>\n",
       "      <td>[Young Frankenstein (1974), So I Married an Ax...</td>\n",
       "      <td>[Shawshank Redemption, The (1994), Forrest Gum...</td>\n",
       "      <td>[Shawshank Redemption, The (1994), Forrest Gum...</td>\n",
       "    </tr>\n",
       "    <tr>\n",
       "      <th>2</th>\n",
       "      <td>[Talladega Nights: The Ballad of Ricky Bobby (...</td>\n",
       "      <td>[]</td>\n",
       "      <td>[Shawshank Redemption, The (1994), Forrest Gum...</td>\n",
       "    </tr>\n",
       "    <tr>\n",
       "      <th>3</th>\n",
       "      <td>[Fast Times at Ridgemont High (1982), Dangerou...</td>\n",
       "      <td>[]</td>\n",
       "      <td>[Shawshank Redemption, The (1994), Forrest Gum...</td>\n",
       "    </tr>\n",
       "    <tr>\n",
       "      <th>4</th>\n",
       "      <td>[Moulin Rouge (2001), Swingers (1996), Crumb (...</td>\n",
       "      <td>[Star Wars: Episode VI - Return of the Jedi (1...</td>\n",
       "      <td>[Shawshank Redemption, The (1994), Forrest Gum...</td>\n",
       "    </tr>\n",
       "    <tr>\n",
       "      <th>5</th>\n",
       "      <td>[In the Name of the Father (1993), Dead Man Wa...</td>\n",
       "      <td>[Silence of the Lambs, The (1991), Forrest Gum...</td>\n",
       "      <td>[Shawshank Redemption, The (1994), Forrest Gum...</td>\n",
       "    </tr>\n",
       "  </tbody>\n",
       "</table>\n",
       "</div>"
      ],
      "text/plain": [
       "                                                   actual  \\\n",
       "userId                                                      \n",
       "1       [Young Frankenstein (1974), So I Married an Ax...   \n",
       "2       [Talladega Nights: The Ballad of Ricky Bobby (...   \n",
       "3       [Fast Times at Ridgemont High (1982), Dangerou...   \n",
       "4       [Moulin Rouge (2001), Swingers (1996), Crumb (...   \n",
       "5       [In the Name of the Father (1993), Dead Man Wa...   \n",
       "\n",
       "                                        colab_predictions  \\\n",
       "userId                                                      \n",
       "1       [Shawshank Redemption, The (1994), Forrest Gum...   \n",
       "2                                                      []   \n",
       "3                                                      []   \n",
       "4       [Star Wars: Episode VI - Return of the Jedi (1...   \n",
       "5       [Silence of the Lambs, The (1991), Forrest Gum...   \n",
       "\n",
       "                                          pop_predictions  \n",
       "userId                                                     \n",
       "1       [Shawshank Redemption, The (1994), Forrest Gum...  \n",
       "2       [Shawshank Redemption, The (1994), Forrest Gum...  \n",
       "3       [Shawshank Redemption, The (1994), Forrest Gum...  \n",
       "4       [Shawshank Redemption, The (1994), Forrest Gum...  \n",
       "5       [Shawshank Redemption, The (1994), Forrest Gum...  "
      ]
     },
     "execution_count": 30,
     "metadata": {},
     "output_type": "execute_result"
    }
   ],
   "source": [
    "#make recommendations for all members in the test data\n",
    "popularity_recs = train_data.title.value_counts().head(10).index.tolist()\n",
    "\n",
    "pop_recs = []\n",
    "for user in test_res.index:\n",
    "    pop_predictions = popularity_recs\n",
    "    pop_recs.append(pop_predictions)\n",
    "        \n",
    "test_res['pop_predictions'] = pop_recs\n",
    "test_res.head()"
   ]
  },
  {
   "cell_type": "markdown",
   "id": "9ec05d8f-768a-43ac-851a-c874d01339a9",
   "metadata": {},
   "source": [
    "## Random recommender"
   ]
  },
  {
   "cell_type": "code",
   "execution_count": 31,
   "id": "fe7f75b0-b002-4ec7-93ef-70957c278751",
   "metadata": {},
   "outputs": [
    {
     "data": {
      "text/html": [
       "<div>\n",
       "<style scoped>\n",
       "    .dataframe tbody tr th:only-of-type {\n",
       "        vertical-align: middle;\n",
       "    }\n",
       "\n",
       "    .dataframe tbody tr th {\n",
       "        vertical-align: top;\n",
       "    }\n",
       "\n",
       "    .dataframe thead th {\n",
       "        text-align: right;\n",
       "    }\n",
       "</style>\n",
       "<table border=\"1\" class=\"dataframe\">\n",
       "  <thead>\n",
       "    <tr style=\"text-align: right;\">\n",
       "      <th></th>\n",
       "      <th>actual</th>\n",
       "      <th>colab_predictions</th>\n",
       "      <th>pop_predictions</th>\n",
       "      <th>rand_predictions</th>\n",
       "    </tr>\n",
       "    <tr>\n",
       "      <th>userId</th>\n",
       "      <th></th>\n",
       "      <th></th>\n",
       "      <th></th>\n",
       "      <th></th>\n",
       "    </tr>\n",
       "  </thead>\n",
       "  <tbody>\n",
       "    <tr>\n",
       "      <th>1</th>\n",
       "      <td>[Young Frankenstein (1974), So I Married an Ax...</td>\n",
       "      <td>[Shawshank Redemption, The (1994), Forrest Gum...</td>\n",
       "      <td>[Shawshank Redemption, The (1994), Forrest Gum...</td>\n",
       "      <td>[Bad Boys (1995), Jumanji (1995), American Wer...</td>\n",
       "    </tr>\n",
       "    <tr>\n",
       "      <th>2</th>\n",
       "      <td>[Talladega Nights: The Ballad of Ricky Bobby (...</td>\n",
       "      <td>[]</td>\n",
       "      <td>[Shawshank Redemption, The (1994), Forrest Gum...</td>\n",
       "      <td>[Truman Show, The (1998), Hacksaw Ridge (2016)...</td>\n",
       "    </tr>\n",
       "    <tr>\n",
       "      <th>3</th>\n",
       "      <td>[Fast Times at Ridgemont High (1982), Dangerou...</td>\n",
       "      <td>[]</td>\n",
       "      <td>[Shawshank Redemption, The (1994), Forrest Gum...</td>\n",
       "      <td>[Buffalo '66 (a.k.a. Buffalo 66) (1998), 40-Ye...</td>\n",
       "    </tr>\n",
       "    <tr>\n",
       "      <th>4</th>\n",
       "      <td>[Moulin Rouge (2001), Swingers (1996), Crumb (...</td>\n",
       "      <td>[Star Wars: Episode VI - Return of the Jedi (1...</td>\n",
       "      <td>[Shawshank Redemption, The (1994), Forrest Gum...</td>\n",
       "      <td>[Net, The (1995), Star Trek II: The Wrath of K...</td>\n",
       "    </tr>\n",
       "    <tr>\n",
       "      <th>5</th>\n",
       "      <td>[In the Name of the Father (1993), Dead Man Wa...</td>\n",
       "      <td>[Silence of the Lambs, The (1991), Forrest Gum...</td>\n",
       "      <td>[Shawshank Redemption, The (1994), Forrest Gum...</td>\n",
       "      <td>[Before and After (1996), Goodfellas (1990), G...</td>\n",
       "    </tr>\n",
       "  </tbody>\n",
       "</table>\n",
       "</div>"
      ],
      "text/plain": [
       "                                                   actual  \\\n",
       "userId                                                      \n",
       "1       [Young Frankenstein (1974), So I Married an Ax...   \n",
       "2       [Talladega Nights: The Ballad of Ricky Bobby (...   \n",
       "3       [Fast Times at Ridgemont High (1982), Dangerou...   \n",
       "4       [Moulin Rouge (2001), Swingers (1996), Crumb (...   \n",
       "5       [In the Name of the Father (1993), Dead Man Wa...   \n",
       "\n",
       "                                        colab_predictions  \\\n",
       "userId                                                      \n",
       "1       [Shawshank Redemption, The (1994), Forrest Gum...   \n",
       "2                                                      []   \n",
       "3                                                      []   \n",
       "4       [Star Wars: Episode VI - Return of the Jedi (1...   \n",
       "5       [Silence of the Lambs, The (1991), Forrest Gum...   \n",
       "\n",
       "                                          pop_predictions  \\\n",
       "userId                                                      \n",
       "1       [Shawshank Redemption, The (1994), Forrest Gum...   \n",
       "2       [Shawshank Redemption, The (1994), Forrest Gum...   \n",
       "3       [Shawshank Redemption, The (1994), Forrest Gum...   \n",
       "4       [Shawshank Redemption, The (1994), Forrest Gum...   \n",
       "5       [Shawshank Redemption, The (1994), Forrest Gum...   \n",
       "\n",
       "                                         rand_predictions  \n",
       "userId                                                     \n",
       "1       [Bad Boys (1995), Jumanji (1995), American Wer...  \n",
       "2       [Truman Show, The (1998), Hacksaw Ridge (2016)...  \n",
       "3       [Buffalo '66 (a.k.a. Buffalo 66) (1998), 40-Ye...  \n",
       "4       [Net, The (1995), Star Trek II: The Wrath of K...  \n",
       "5       [Before and After (1996), Goodfellas (1990), G...  "
      ]
     },
     "execution_count": 31,
     "metadata": {},
     "output_type": "execute_result"
    }
   ],
   "source": [
    "#make recommendations for all members in the test data\n",
    "\n",
    "ran_recs = []\n",
    "for user in test_res.index:\n",
    "    random_predictions = df_ratings.title.sample(10).values.tolist()\n",
    "    ran_recs.append(random_predictions)\n",
    "        \n",
    "test_res['rand_predictions'] = ran_recs\n",
    "test_res.head()"
   ]
  },
  {
   "cell_type": "markdown",
   "id": "db063626-b0ce-4384-9384-3d728711fbfe",
   "metadata": {},
   "source": [
    "## Catalog Coverage"
   ]
  },
  {
   "cell_type": "code",
   "execution_count": 32,
   "id": "cf4ffb20-cb13-4b3d-bdb6-7d64b9d67ace",
   "metadata": {},
   "outputs": [],
   "source": [
    "def catalog_coverage(predicted, catalog, k: int) -> float:\n",
    "    '''\n",
    "    k: integer\n",
    "        The number of observed recommendation lists\n",
    "        which randomly choosed in our offline setup\n",
    "    '''\n",
    "    sampling = random.choices(predicted, k=k)\n",
    "    predicted_flattened = [p for sublist in sampling for p in sublist]\n",
    "    L_predictions = len(set(predicted_flattened))\n",
    "    catalog_coverage = round(L_predictions/(len(catalog)*1.0),3)\n",
    "    return catalog_coverage"
   ]
  },
  {
   "cell_type": "code",
   "execution_count": 33,
   "id": "ef49ffcb-79c1-4fae-8247-8c97dd49f739",
   "metadata": {},
   "outputs": [],
   "source": [
    "catalog = df_ratings.title.unique().tolist()\n",
    "cf_cat_coverage = catalog_coverage(cf_recs, catalog, 100)\n",
    "pop_cat_coverage = catalog_coverage(pop_recs, catalog, 100)\n",
    "random_cat_coverage = catalog_coverage(ran_recs, catalog, 100)"
   ]
  },
  {
   "cell_type": "code",
   "execution_count": 34,
   "id": "9463934f-45e8-4213-97a7-185603f2d01f",
   "metadata": {},
   "outputs": [
    {
     "name": "stdout",
     "output_type": "stream",
     "text": [
      "Catalog coverage (cf): 0.001\n",
      "Catalog coverage (popular): 0.001\n",
      "Catalog coverage (random): 0.076\n"
     ]
    }
   ],
   "source": [
    "print(\"Catalog coverage (cf): {}\".format(cf_cat_coverage))\n",
    "print(\"Catalog coverage (popular): {}\".format(pop_cat_coverage))\n",
    "print(\"Catalog coverage (random): {}\".format(random_cat_coverage))"
   ]
  },
  {
   "cell_type": "markdown",
   "id": "04efe877-c3a7-4d2f-b577-7ad96b3e9f9e",
   "metadata": {},
   "source": [
    "## User coverage"
   ]
  },
  {
   "cell_type": "code",
   "execution_count": 38,
   "id": "2f3d2e26-c7f7-4b7d-8351-910926545b9b",
   "metadata": {},
   "outputs": [],
   "source": [
    "def user_coverage(predicted) -> float:\n",
    "    \"\"\"\n",
    "    Computes the share of test users to whom we were able to provide recommendation.\n",
    "    Parameters\n",
    "    ----------\n",
    "    predicted : a list of lists\n",
    "        Ordered predictions\n",
    "        example: [['X', 'Y', 'Z'], ['X', 'Y', 'Z']]\n",
    "    Returns\n",
    "    ----------\n",
    "    user_coverage:\n",
    "        Share of test users in predicted list to whom we provided recommendation\n",
    "        rounded to 2 decimal places\n",
    "    \"\"\"\n",
    "    \n",
    "    L_predictions = sum([1 if len(i) > 0 else 0 for i in predicted])\n",
    "    user_coverage = round(L_predictions/(len(predicted)*1.0),2)\n",
    "    \n",
    "    return user_coverage"
   ]
  },
  {
   "cell_type": "code",
   "execution_count": 39,
   "id": "ef9f864b-1877-4db4-ae5c-fd56735402fc",
   "metadata": {},
   "outputs": [
    {
     "name": "stdout",
     "output_type": "stream",
     "text": [
      "User coverage (cf): 0.82\n",
      "User coverage (popular): 1.0\n",
      "User coverage (random): 1.0\n"
     ]
    }
   ],
   "source": [
    "print(\"User coverage (cf): {}\".format(user_coverage(cf_recs)))\n",
    "print(\"User coverage (popular): {}\".format(user_coverage(pop_recs)))\n",
    "print(\"User coverage (random): {}\".format(user_coverage(ran_recs)))"
   ]
  },
  {
   "cell_type": "markdown",
   "id": "90fe63c7-92dd-47f8-8c0c-daeb6d60c679",
   "metadata": {},
   "source": [
    "### Novelty"
   ]
  },
  {
   "cell_type": "code",
   "execution_count": 40,
   "id": "02d92810-4d31-4f9f-98bd-f100193389d0",
   "metadata": {},
   "outputs": [],
   "source": [
    "def novelty(predicted, pop, u: int, n: int) -> (float, list):\n",
    "    \"\"\"\n",
    "    Computes the novelty for a list of recommendations\n",
    "    Parameters\n",
    "    ----------\n",
    "    predicted : a list of lists\n",
    "    pop: dictionary\n",
    "        A dictionary of all items alongside of its occurrences counter in the training data\n",
    "        example: {1198: 893, 1270: 876, 593: 876, 2762: 867}\n",
    "    u: integer\n",
    "        The number of users in the training data\n",
    "    n: integer\n",
    "        The length of recommended lists per user\n",
    "    Returns\n",
    "    ----------\n",
    "    novelty:\n",
    "        The novelty of the recommendations in system level\n",
    "    mean_self_information:\n",
    "        The novelty of the recommendations in recommended top-N list level\n",
    "    ----------\n",
    "    Metric definition: https://arxiv.org/pdf/0808.2670.pdf\n",
    "    \"\"\"\n",
    "    mean_self_information = []\n",
    "    k = 0\n",
    "    for sublist in predicted:\n",
    "        self_information = 0\n",
    "        k += 1\n",
    "        for i in sublist:\n",
    "            self_information += np.sum(-np.log2(pop[i]/u))\n",
    "        mean_self_information.append(self_information/n)\n",
    "    novelty = sum(mean_self_information)/k\n",
    "    return novelty, mean_self_information"
   ]
  },
  {
   "cell_type": "code",
   "execution_count": 41,
   "id": "a3f72433-1d21-4a0a-9278-ce4072b26c81",
   "metadata": {
    "tags": []
   },
   "outputs": [],
   "source": [
    "nov = df_ratings.title.value_counts()\n",
    "pop = dict(nov)\n",
    "users = df_ratings[\"userId\"].value_counts()"
   ]
  },
  {
   "cell_type": "code",
   "execution_count": 42,
   "id": "2b22358f-93b4-4824-9a16-6bf50b71c017",
   "metadata": {},
   "outputs": [],
   "source": [
    "random_novelty,random_mselfinfo_list = novelty(ran_recs, pop, len(users), 10)\n",
    "pop_novelty,pop_mselfinfo_list = novelty(pop_recs, pop, len(users), 10)\n",
    "cf_novelty,cf_mselfinfo_list = novelty(cf_recs, pop, len(users), 10)"
   ]
  },
  {
   "cell_type": "code",
   "execution_count": 43,
   "id": "17ea9e9c-4b0c-489f-a5b5-d136a90651a0",
   "metadata": {
    "tags": []
   },
   "outputs": [
    {
     "name": "stdout",
     "output_type": "stream",
     "text": [
      "Novelty (cf): 0.31385875843373223\n",
      "Novelty (popular): 1.2007395088965802\n",
      "Novelty (random): 4.3404322606026735\n"
     ]
    }
   ],
   "source": [
    "print(\"Novelty (cf): {}\".format(cf_novelty))\n",
    "print(\"Novelty (popular): {}\".format(pop_novelty))\n",
    "print(\"Novelty (random): {}\".format(random_novelty))"
   ]
  },
  {
   "cell_type": "markdown",
   "id": "45b79937-2089-4a6d-96de-1099d1eefd3a",
   "metadata": {},
   "source": [
    "### Hitrate@k"
   ]
  },
  {
   "cell_type": "markdown",
   "id": "97a3d548-2f83-4eee-a6b4-15a3f723f2ef",
   "metadata": {},
   "source": [
    "Напомним, что это сколько верных рекомендаций мы предложили пользователю u на заданном количестве рекомендаций."
   ]
  },
  {
   "cell_type": "code",
   "execution_count": 61,
   "id": "95638334-6048-4dad-99cb-49b2aaaabc8c",
   "metadata": {},
   "outputs": [],
   "source": [
    "def hitrate_k(predicted, actual, k: int) -> int:\n",
    "    \"\"\"\n",
    "    Computes the average number of correct reccommendations for a user\n",
    "    Parameters\n",
    "    ----------\n",
    "    predicted : a list of lists with recommendations\n",
    "    actual: list of lists with actual movie watches\n",
    "    k: integer\n",
    "        The maximum number of recommendations in a list\n",
    "    Returns\n",
    "    ----------\n",
    "    hitrate_k:\n",
    "        The average number of correct recommendations for a user\n",
    "    L_intersect\"\"\"\n",
    "    \n",
    "    L_intersect = 0\n",
    "    for i in predicted.index:\n",
    "        pred = predicted.loc[i][:k]\n",
    "        if len(set.intersection(set(pred), set(actual.loc[i])))>1: L_intersect +=1\n",
    "        \n",
    "    hitrate_k = L_intersect/len(predicted.index)\n",
    "    ######################\n",
    "    # WRITE YOUR CODE HERE\n",
    "    ######################\n",
    "    \n",
    "    return hitrate_k"
   ]
  },
  {
   "cell_type": "code",
   "execution_count": 62,
   "id": "ee9a4a9b-449d-40b3-a4d5-da4fd1ccb0b5",
   "metadata": {},
   "outputs": [],
   "source": [
    "cf_hitrate_k = hitrate_k(test_res.colab_predictions, test_res.actual, 10)\n",
    "pop_hitrate_k = hitrate_k(test_res.pop_predictions, test_res.actual, 10)\n",
    "random_hitrate_k = hitrate_k(test_res.rand_predictions, test_res.actual, 10)"
   ]
  },
  {
   "cell_type": "code",
   "execution_count": 63,
   "id": "81d415b5-284c-4a5a-a71e-e9c081368d69",
   "metadata": {},
   "outputs": [
    {
     "name": "stdout",
     "output_type": "stream",
     "text": [
      "Hitrate_k (cf): 0.20361247947454844\n",
      "Hitrate_k (popular): 0.30870279146141216\n",
      "Hitrate_k (random): 0.042692939244663386\n"
     ]
    }
   ],
   "source": [
    "print(\"Hitrate_k (cf): {}\".format(cf_hitrate_k))\n",
    "print(\"Hitrate_k (popular): {}\".format(pop_hitrate_k))\n",
    "print(\"Hitrate_k (random): {}\".format(random_hitrate_k))"
   ]
  },
  {
   "cell_type": "code",
   "execution_count": null,
   "id": "3b262f3c-e6f3-44aa-b7ae-1ec9d2556f3b",
   "metadata": {},
   "outputs": [],
   "source": []
  }
 ],
 "metadata": {
  "kernelspec": {
   "display_name": "Python 3 (ipykernel)",
   "language": "python",
   "name": "python3"
  },
  "language_info": {
   "codemirror_mode": {
    "name": "ipython",
    "version": 3
   },
   "file_extension": ".py",
   "mimetype": "text/x-python",
   "name": "python",
   "nbconvert_exporter": "python",
   "pygments_lexer": "ipython3",
   "version": "3.10.2"
  }
 },
 "nbformat": 4,
 "nbformat_minor": 5
}
