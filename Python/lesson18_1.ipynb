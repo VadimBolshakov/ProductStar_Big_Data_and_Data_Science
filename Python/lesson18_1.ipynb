{
 "cells": [
  {
   "cell_type": "code",
   "execution_count": 4,
   "id": "76c386c5-9748-4b40-9002-9455b35da041",
   "metadata": {},
   "outputs": [
    {
     "data": {
      "text/plain": [
       "'C:\\\\Users\\\\Vadim\\\\AppData\\\\Local\\\\Programs\\\\Python\\\\Python310\\\\Scripts'"
      ]
     },
     "execution_count": 4,
     "metadata": {},
     "output_type": "execute_result"
    }
   ],
   "source": [
    "%pwd"
   ]
  },
  {
   "cell_type": "code",
   "execution_count": 5,
   "id": "58e99c97-2508-461e-ae76-19895334e4ae",
   "metadata": {},
   "outputs": [
    {
     "name": "stdout",
     "output_type": "stream",
     "text": [
      "D:\\\n"
     ]
    }
   ],
   "source": [
    "%cd D:\\"
   ]
  },
  {
   "cell_type": "code",
   "execution_count": 6,
   "id": "f31e8c6e-a7cd-4df7-9704-7093c01ea76f",
   "metadata": {},
   "outputs": [
    {
     "data": {
      "text/plain": [
       "'D:\\\\'"
      ]
     },
     "execution_count": 6,
     "metadata": {},
     "output_type": "execute_result"
    }
   ],
   "source": [
    "%pwd"
   ]
  },
  {
   "cell_type": "code",
   "execution_count": 7,
   "id": "b9340e74-313d-44c6-8c4e-5677231d194f",
   "metadata": {},
   "outputs": [
    {
     "name": "stdout",
     "output_type": "stream",
     "text": [
      " ’®¬ ў гбва®©бвўҐ D Ё¬ҐҐв ¬ҐвЄг Disk\n",
      " ‘ҐаЁ©­л© ­®¬Ґа в®¬ : 8299-DAB1\n",
      "\n",
      " ‘®¤Ґа¦Ё¬®Ґ Ї ЇЄЁ D:\\\n",
      "\n",
      "21.08.2020  22:31    <DIR>          [TV] Џ®«ЁЈ«®в. €в «мп­бЄЁ© б ­г«п §  16 з б®ў!\n",
      "05.04.2016  22:29    <DIR>          26b7ed015eaf4a84bd29bffb992192\n",
      "21.08.2020  22:31    <DIR>          27 аҐ«Ё§\n",
      "16.04.2016  12:46                45 Acrobat_Reader.txt\n",
      "27.12.2018  23:46           204я800 Alarm.exe\n",
      "27.06.2019  20:34                38 Aliexpress.txt\n",
      "01.11.2021  21:39    <DIR>          Android_Java\n",
      "16.05.2020  00:21    <DIR>          ASP_NET_Core\n",
      "18.05.2018  09:11               343 BigData.txt\n",
      "23.12.2018  13:06    <DIR>          C++_Prog\n",
      "26.10.2021  13:30           127я454 cropped-IMG_0272.JPG\n",
      "17.08.2021  11:07    <DIR>          d\n",
      "29.12.2020  11:28            24я469 dogovor-kupli-prodazhi-1-2-doli-kvartire.docx\n",
      "01.07.2021  04:09                15 fasebook.txt\n",
      "29.04.2020  23:17    <DIR>          Flag_countries_of_world\n",
      "30.10.2021  19:14                67 Git.txt\n",
      "01.03.2021  14:39                32 Huawei.txt\n",
      "21.06.2013  14:51    <DIR>          IDE\n",
      "09.11.2020  05:25    <DIR>          JavaScript\n",
      "13.12.2017  11:19    <DIR>          Keil_v5\n",
      "10.07.2019  15:35               615 likeln-2.txt\n",
      "19.06.2021  15:03                36 Lingualeo.txt\n",
      "08.01.2020  22:59                84 LinkedIn.txt\n",
      "01.03.2021  15:37                43 Microsoft.txt\n",
      "11.08.2019  22:05                16 MicrosoftVisualStudio.txt\n",
      "17.10.2021  20:59    <DIR>          Minig\n",
      "22.04.2020  16:51                26 Mos_ru.txt\n",
      "22.08.2020  09:52             2я887 MyPlayList_TV.m3u\n",
      "27.09.2019  22:31               165 NASA.txt\n",
      "21.12.2019  12:18                51 NetByNet.txt\n",
      "20.12.2014  00:52               490 Network Security Settings.txt\n",
      "12.11.2020  17:09            24я238 obrazets-dogovora-kupli-prodazhi-1-2-doli-kvartire.docx\n",
      "11.11.2021  22:23    <DIR>          ProductStar\n",
      "02.05.2020  03:22    <DIR>          Python_Prog\n",
      "27.10.2019  17:39        26я406я312 python-3.8.0.exe\n",
      "28.07.2017  03:01                42 rgd.txt\n",
      "12.12.2020  00:15    <DIR>          Site_HTML\n",
      "11.09.2019  23:33           253я434 Summ_to_words.xlsm\n",
      "10.09.2019  20:49                27 ted.txt\n",
      "10.09.2019  21:04                85 Tinkoff.txt\n",
      "19.10.2019  13:37    <DIR>          Torrents\n",
      "06.03.2020  20:04                37 Wifi.txt\n",
      "26.01.2020  23:37    <DIR>          Xamarin_prog\n",
      "05.09.2017  09:13                 7 X-Plane.txt\n",
      "25.03.2013  17:34                87  ў ­Ј а¤.txt\n",
      "24.12.2014  22:34    <DIR>          Ђ­ «Ё§л_„ҐЄ Ўам_2014\n",
      "07.11.2021  18:24    <DIR>           ­Ј«Ё©бЄЁ©\n",
      "25.03.2017  09:03    <DIR>          ЃЂ‡Ђ ‘’ЂЌ„Ђђ’Ќ›• €‡„…‹€‰\n",
      "16.03.2014  20:56             2я939 Ѓ«®ЄЁа®ўЄ  б ©в®ў.txt\n",
      "28.11.2017  08:01            18я446 Ѓ®«ми Є®ў_‚ ¤Ё¬_Ђ«ҐЄб ­¤а®ўЁз.docx\n",
      "23.06.2021  15:09    <DIR>          Ѓ®аҐж\n",
      "13.10.2014  14:55    <DIR>          ‚‡”€\n",
      "12.11.2013  16:33    <DIR>          ‚Ё¤Ґ® Ё§ ¤Ґвбвў \n",
      "11.05.2020  22:01            10я341 ‚Ё¤Ґ®­ Ў«о¤Ґ­ЁҐ.docx\n",
      "30.04.2019  22:21                25 ўЄ®­в ЄвҐ.txt\n",
      "02.10.2021  22:16                57 ‚’Ѓ.txt\n",
      "06.05.2020  04:40    <DIR>          ѓЁа«п­¤ \n",
      "23.10.2017  18:24                81 Ј®бгб«гЈЁ.txt\n",
      "06.11.2021  21:17    <DIR>          ѓаЁ­-Є ав \n",
      "20.09.2016  21:41    <DIR>          „‚‘\n",
      "17.02.2020  10:22            13я698 „ЁҐв  ЇаЁ Ї®¤ ЈаҐ.docx\n",
      "25.01.2020  15:45            12я243 „ЁҐв .docx\n",
      "25.01.2020  16:25            13я806 „ЁҐв _2.docx\n",
      "21.08.2017  19:01            23я716 „®Ј®ў®а ­ ©¬  ¦Ё«®Ј® Ї®¬ҐйҐ­Ёп.docx\n",
      "22.12.2015  23:38    <DIR>          „®Єг¬Ґ­вл ­  аҐдҐ­ ­бЁа®ў ­ЁҐ ЄаҐ¤Ёв \n",
      "12.06.2019  14:53            16я583 †Љ•.xlsx\n",
      "01.12.2019  12:26    <DIR>          †га­ «л Ќ гЄЁ Ё ’Ґе­ЁЄЁ\n",
      "24.10.2018  23:36            11я105 § ап¤Є .docx\n",
      "19.07.2015  12:15    <DIR>          ‡ пў«Ґ­ЁҐ ў €”Ќ‘\n",
      "14.04.2019  11:59    <DIR>          €­вҐа­Ґв-Њ Ј §Ё­\n",
      "03.11.2020  22:45    <DIR>          ЁЇ®вҐЄ \n",
      "08.04.2021  01:55                12 €”Ќ‘.txt\n",
      "21.10.2020  11:16               599 Љ ав®зЄ _Ѓ®«ми Є®ў.txt\n",
      "19.07.2017  19:28               660 Љ ав®зЄ _‘ЎҐа_Ѓ®«ми Є®ў.txt\n",
      "23.07.2021  07:02    <DIR>          Љ­ЁЈЁ Ї® Їа®Ја ¬¬Ёа®ў ­Ёо\n",
      "08.11.2020  20:09    <DIR>          Љ­ЁЈЁ-—Ёв вм!!!\n",
      "02.04.2018  09:56                15 Љ®­ Ї«Ґў.txt\n",
      "14.12.2019  22:40    <DIR>          Љ®­ва®««Ґа\n",
      "14.09.2020  21:12    <DIR>          ЉаҐ¤Ёв\n",
      "14.06.2020  21:38               415 Љгабл_Ї®ўлиҐ­Ёп_Єў .txt\n",
      "25.04.2019  13:46    <DIR>          ‹о¤ \n",
      "09.07.2019  20:34                62 ЊЉЃ.txt\n",
      "22.11.2015  22:20    <DIR>          Њ®¤Ґ«м Ѓ®Єб \n",
      "04.01.2015  17:48         7я441я291 Њ®¤Ґ«м Ѓ®Єб .rar\n",
      "11.11.2021  05:56    <DIR>          Њ®©_б«®ў ам_ ­Ј\n",
      "28.06.2015  16:30    <DIR>          Њг§лЄ \n",
      "21.06.2013  15:36    <DIR>          ¬г§лЄ  в®аҐ­в\n",
      "01.07.2018  17:00               149 Њг§лЄ  •Ёвл.txt\n",
      "06.11.2021  12:16    <DIR>          Ќ„”‹-3\n",
      "21.06.2013  15:37    <DIR>          Ќ…Њ…–\n",
      "08.12.2016  11:16                35 Ќ®ўл© ‘ЎҐаЎ ­Є.txt\n",
      "12.12.2020  11:45    <DIR>          Џ бЇ®ав_­®ўл©\n",
      "20.02.2020  21:37    <DIR>          ЏҐб­Ё_“зЁвм\n",
      "17.08.2021  11:55    <DIR>          Џ®ад®«Ё®\n",
      "25.10.2021  09:55                12 Џа®¬®Є®¤_‘ЎҐаЊҐЈ Њ аЄҐв.txt\n",
      "07.11.2020  12:07    <DIR>          а Ў®в  «о¤ \n",
      "16.05.2019  10:53    <DIR>          а Ў®в  «о¤ -2\n",
      "31.10.2020  16:35    <DIR>          аҐиҐ­Ёп\n",
      "12.09.2017  15:18                48 ђ†„.txt\n",
      "03.07.2021  19:03                70 ђ®б’Ґ«ҐЄ®¬.txt\n",
      "22.11.2015  22:11    <DIR>          ђп¤л ”гамҐ\n",
      "14.03.2016  03:00    <DIR>          ‘#\n",
      "14.03.2020  20:50    <DIR>          ‘Є ­ “зҐЎ­ЁЄ \n",
      "30.09.2013  12:41               126 ‘®«п­лҐ ®§Ґа  ђ®ббЁЁ.txt\n",
      "03.03.2019  09:55                13 ‘зҐвзЁЄ‚®¤л.txt\n",
      "12.12.2019  22:40        95я231я176 “зҐЎ­ЁЄ Cambridge English. Business benchmark.pdf\n",
      "27.09.2019  01:00    <DIR>          ”Ё«м¬л\n",
      "17.10.2017  07:01                51 ”Ќ‘.txt\n",
      "02.10.2019  22:26    <DIR>          ”®в®\n",
      "26.07.2014  16:16    <DIR>          ”Ћ’Ћ ђЂ‡Ќ›…\n",
      "30.10.2021  18:56    <DIR>          ”®в®_Ђў в а\n",
      "18.10.2020  02:27                60 –Ґ­ва_§ ­пв®бвЁ.txt\n",
      "              57 д ©«®ў    129я843я779 Ў ©в\n",
      "              55 Ї Ї®Є  742я887я428я096 Ў ©в бў®Ў®¤­®\n"
     ]
    }
   ],
   "source": [
    "%ls"
   ]
  },
  {
   "cell_type": "code",
   "execution_count": 8,
   "id": "546d2f03-900b-4fb3-9e08-18a5dc7b1bed",
   "metadata": {},
   "outputs": [
    {
     "name": "stdout",
     "output_type": "stream",
     "text": [
      "D:\\ProductStar\n"
     ]
    }
   ],
   "source": [
    "%cd \\ProductStar\\"
   ]
  },
  {
   "cell_type": "code",
   "execution_count": 9,
   "id": "4119e3a3-6176-4238-827e-da4f2fe38da5",
   "metadata": {},
   "outputs": [
    {
     "ename": "SyntaxError",
     "evalue": "unexpected character after line continuation character (Temp/ipykernel_1908/3384511929.py, line 1)",
     "output_type": "error",
     "traceback": [
      "\u001b[1;36m  File \u001b[1;32m\"C:\\Users\\Vadim\\AppData\\Local\\Temp/ipykernel_1908/3384511929.py\"\u001b[1;36m, line \u001b[1;32m1\u001b[0m\n\u001b[1;33m    D:\\ProductStar\\Untitled1.ipynb\u001b[0m\n\u001b[1;37m                                 ^\u001b[0m\n\u001b[1;31mSyntaxError\u001b[0m\u001b[1;31m:\u001b[0m unexpected character after line continuation character\n"
     ]
    }
   ],
   "source": [
    "D:\\ProductStar\\Untitled1.ipynb"
   ]
  },
  {
   "cell_type": "code",
   "execution_count": 11,
   "id": "02268da8-32a3-4d4f-9e92-999df2366785",
   "metadata": {},
   "outputs": [
    {
     "name": "stderr",
     "output_type": "stream",
     "text": [
      "UsageError: Line magic function `%ru` not found.\n"
     ]
    }
   ],
   "source": [
    "%ru D:\\ProductStar\\Untitled1"
   ]
  },
  {
   "cell_type": "code",
   "execution_count": 12,
   "id": "7945433c-93fe-4d3e-9b78-686b81730eba",
   "metadata": {},
   "outputs": [
    {
     "data": {
      "text/html": [
       "<a href=\"https://www.dl.dropboxusercontent.com/s/pd9wsh3l2r7amf1/Lesson_5.ipynb\">see image</a>"
      ],
      "text/plain": [
       "<IPython.core.display.HTML object>"
      ]
     },
     "metadata": {},
     "output_type": "display_data"
    }
   ],
   "source": [
    "from IPython.display import display, HTML\n",
    "display(HTML('<a href=\"https://www.dl.dropboxusercontent.com/s/pd9wsh3l2r7amf1/Lesson_5.ipynb\">see image</a>'))"
   ]
  },
  {
   "cell_type": "code",
   "execution_count": 13,
   "id": "4a9a6ecc-983e-42d2-bbd0-42203baa3cf8",
   "metadata": {},
   "outputs": [
    {
     "name": "stdout",
     "output_type": "stream",
     "text": [
      "Collecting gspread-pandas\n",
      "  Downloading gspread_pandas-2.3.0-py2.py3-none-any.whl (26 kB)\n",
      "Collecting google-auth-oauthlib\n",
      "  Downloading google_auth_oauthlib-0.4.6-py2.py3-none-any.whl (18 kB)\n",
      "Collecting gspread>=3.0.0\n",
      "  Downloading gspread-4.0.1-py3-none-any.whl (29 kB)\n",
      "Requirement already satisfied: decorator in c:\\users\\vadim\\appdata\\local\\programs\\python\\python310\\lib\\site-packages (from gspread-pandas) (5.1.0)\n",
      "Requirement already satisfied: six in c:\\users\\vadim\\appdata\\local\\programs\\python\\python310\\lib\\site-packages (from gspread-pandas) (1.16.0)\n",
      "Collecting google-auth\n",
      "  Downloading google_auth-2.3.3-py2.py3-none-any.whl (155 kB)\n",
      "Requirement already satisfied: pandas>=0.20.0 in c:\\users\\vadim\\appdata\\local\\programs\\python\\python310\\lib\\site-packages (from gspread-pandas) (1.3.4)\n",
      "Requirement already satisfied: setuptools>=40.3.0 in c:\\users\\vadim\\appdata\\local\\programs\\python\\python310\\lib\\site-packages (from google-auth->gspread-pandas) (57.4.0)\n",
      "Collecting pyasn1-modules>=0.2.1\n",
      "  Downloading pyasn1_modules-0.2.8-py2.py3-none-any.whl (155 kB)\n",
      "Collecting cachetools<5.0,>=2.0.0\n",
      "  Downloading cachetools-4.2.4-py3-none-any.whl (10 kB)\n",
      "Collecting rsa<5,>=3.1.4\n",
      "  Downloading rsa-4.7.2-py3-none-any.whl (34 kB)\n",
      "Collecting requests-oauthlib>=0.7.0\n",
      "  Downloading requests_oauthlib-1.3.0-py2.py3-none-any.whl (23 kB)\n",
      "Requirement already satisfied: python-dateutil>=2.7.3 in c:\\users\\vadim\\appdata\\local\\programs\\python\\python310\\lib\\site-packages (from pandas>=0.20.0->gspread-pandas) (2.8.2)\n",
      "Requirement already satisfied: pytz>=2017.3 in c:\\users\\vadim\\appdata\\local\\programs\\python\\python310\\lib\\site-packages (from pandas>=0.20.0->gspread-pandas) (2021.3)\n",
      "Requirement already satisfied: numpy>=1.21.0 in c:\\users\\vadim\\appdata\\local\\programs\\python\\python310\\lib\\site-packages (from pandas>=0.20.0->gspread-pandas) (1.21.4)\n",
      "Collecting pyasn1<0.5.0,>=0.4.6\n",
      "  Downloading pyasn1-0.4.8-py2.py3-none-any.whl (77 kB)\n",
      "Requirement already satisfied: requests>=2.0.0 in c:\\users\\vadim\\appdata\\local\\programs\\python\\python310\\lib\\site-packages (from requests-oauthlib>=0.7.0->google-auth-oauthlib->gspread-pandas) (2.26.0)\n",
      "Collecting oauthlib>=3.0.0\n",
      "  Downloading oauthlib-3.1.1-py2.py3-none-any.whl (146 kB)\n",
      "Requirement already satisfied: idna<4,>=2.5 in c:\\users\\vadim\\appdata\\local\\programs\\python\\python310\\lib\\site-packages (from requests>=2.0.0->requests-oauthlib>=0.7.0->google-auth-oauthlib->gspread-pandas) (3.3)\n",
      "Requirement already satisfied: certifi>=2017.4.17 in c:\\users\\vadim\\appdata\\local\\programs\\python\\python310\\lib\\site-packages (from requests>=2.0.0->requests-oauthlib>=0.7.0->google-auth-oauthlib->gspread-pandas) (2021.10.8)\n",
      "Requirement already satisfied: urllib3<1.27,>=1.21.1 in c:\\users\\vadim\\appdata\\local\\programs\\python\\python310\\lib\\site-packages (from requests>=2.0.0->requests-oauthlib>=0.7.0->google-auth-oauthlib->gspread-pandas) (1.26.7)\n",
      "Requirement already satisfied: charset-normalizer~=2.0.0 in c:\\users\\vadim\\appdata\\local\\programs\\python\\python310\\lib\\site-packages (from requests>=2.0.0->requests-oauthlib>=0.7.0->google-auth-oauthlib->gspread-pandas) (2.0.7)\n",
      "Installing collected packages: pyasn1, rsa, pyasn1-modules, oauthlib, cachetools, requests-oauthlib, google-auth, google-auth-oauthlib, gspread, gspread-pandas\n",
      "Successfully installed cachetools-4.2.4 google-auth-2.3.3 google-auth-oauthlib-0.4.6 gspread-4.0.1 gspread-pandas-2.3.0 oauthlib-3.1.1 pyasn1-0.4.8 pyasn1-modules-0.2.8 requests-oauthlib-1.3.0 rsa-4.7.2\n",
      "Note: you may need to restart the kernel to use updated packages.\n"
     ]
    },
    {
     "name": "stderr",
     "output_type": "stream",
     "text": [
      "  WARNING: The scripts pyrsa-decrypt.exe, pyrsa-encrypt.exe, pyrsa-keygen.exe, pyrsa-priv2pub.exe, pyrsa-sign.exe and pyrsa-verify.exe are installed in 'C:\\Users\\Vadim\\AppData\\Local\\Programs\\Python\\Python310\\Scripts' which is not on PATH.\n",
      "  Consider adding this directory to PATH or, if you prefer to suppress this warning, use --no-warn-script-location.\n",
      "  WARNING: The script google-oauthlib-tool.exe is installed in 'C:\\Users\\Vadim\\AppData\\Local\\Programs\\Python\\Python310\\Scripts' which is not on PATH.\n",
      "  Consider adding this directory to PATH or, if you prefer to suppress this warning, use --no-warn-script-location.\n",
      "WARNING: You are using pip version 21.2.3; however, version 21.3.1 is available.\n",
      "You should consider upgrading via the 'C:\\Users\\Vadim\\AppData\\Local\\Programs\\Python\\Python310\\python.exe -m pip install --upgrade pip' command.\n"
     ]
    }
   ],
   "source": [
    "%pip install gspread-pandas"
   ]
  },
  {
   "cell_type": "code",
   "execution_count": 7,
   "id": "fba51cdd-96f9-44b6-83fb-cd27a4f03562",
   "metadata": {},
   "outputs": [],
   "source": [
    "import gspread_pandas\n",
    "from gspread_pandas import Client, Spread"
   ]
  },
  {
   "cell_type": "code",
   "execution_count": 8,
   "id": "b468b41b-9090-44df-a814-f8d82ce1a5d7",
   "metadata": {},
   "outputs": [],
   "source": [
    "conf=gspread_pandas.conf.get_config('.')"
   ]
  },
  {
   "cell_type": "code",
   "execution_count": 9,
   "id": "6ae4af50-29e1-4eb2-b327-d7c852c4adec",
   "metadata": {},
   "outputs": [],
   "source": [
    "client=Client(config=conf)"
   ]
  },
  {
   "cell_type": "code",
   "execution_count": null,
   "id": "767904d5-4128-4538-8008-7877a412d296",
   "metadata": {},
   "outputs": [],
   "source": [
    "spread=Spread('test_sheet',client=client)"
   ]
  },
  {
   "cell_type": "code",
   "execution_count": 15,
   "id": "c1d3a364-0aac-4f9e-a1d0-3a3f1a786b6a",
   "metadata": {},
   "outputs": [],
   "source": [
    "spread=Spread('test_sheets',client=client)"
   ]
  },
  {
   "cell_type": "code",
   "execution_count": 16,
   "id": "06660bdd-8636-4f20-9d89-13097fd89249",
   "metadata": {},
   "outputs": [],
   "source": [
    "import pandas as pd\n",
    "df=pd.read_csv('productstar_df.csv')"
   ]
  },
  {
   "cell_type": "code",
   "execution_count": 17,
   "id": "299f7490-1833-4146-8e89-95f1e522ce4b",
   "metadata": {},
   "outputs": [],
   "source": [
    "spread.df_to_sheet(df.head(30))"
   ]
  },
  {
   "cell_type": "code",
   "execution_count": 18,
   "id": "152c8b59-a9c5-4fe2-be8b-61887c2fc9a4",
   "metadata": {},
   "outputs": [
    {
     "data": {
      "text/plain": [
       "474959"
      ]
     },
     "execution_count": 18,
     "metadata": {},
     "output_type": "execute_result"
    }
   ],
   "source": [
    "len(df)"
   ]
  },
  {
   "cell_type": "code",
   "execution_count": 19,
   "id": "ccda6788-14d6-4a6c-8466-5f5cb458c373",
   "metadata": {},
   "outputs": [
    {
     "data": {
      "text/plain": [
       "277.3234135925197"
      ]
     },
     "execution_count": 19,
     "metadata": {},
     "output_type": "execute_result"
    }
   ],
   "source": [
    "df['item_total'].sum()/df['item_count'].sum()"
   ]
  }
 ],
 "metadata": {
  "kernelspec": {
   "display_name": "Python 3 (ipykernel)",
   "language": "python",
   "name": "python3"
  },
  "language_info": {
   "codemirror_mode": {
    "name": "ipython",
    "version": 3
   },
   "file_extension": ".py",
   "mimetype": "text/x-python",
   "name": "python",
   "nbconvert_exporter": "python",
   "pygments_lexer": "ipython3",
   "version": "3.10.2"
  }
 },
 "nbformat": 4,
 "nbformat_minor": 5
}
