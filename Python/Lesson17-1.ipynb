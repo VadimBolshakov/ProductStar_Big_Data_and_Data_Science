{
 "cells": [
  {
   "cell_type": "code",
   "execution_count": 1,
   "id": "1bad1735-85c2-420c-adf5-b9c3586be6f2",
   "metadata": {},
   "outputs": [],
   "source": [
    "List_f_str=list('string example')"
   ]
  },
  {
   "cell_type": "code",
   "execution_count": 2,
   "id": "f9c251db-0a02-4796-be6c-f8cc06985170",
   "metadata": {},
   "outputs": [
    {
     "name": "stdout",
     "output_type": "stream",
     "text": [
      "['s', 't', 'r', 'i', 'n', 'g', ' ', 'e', 'x', 'a', 'm', 'p', 'l', 'e']\n"
     ]
    }
   ],
   "source": [
    "print(List_f_str)"
   ]
  },
  {
   "cell_type": "code",
   "execution_count": 3,
   "id": "5f25f1e8-5ce3-4d49-8cb7-179478a7f4b9",
   "metadata": {},
   "outputs": [
    {
     "name": "stdout",
     "output_type": "stream",
     "text": [
      "r\n"
     ]
    }
   ],
   "source": [
    "print(List_f_str[2])\n"
   ]
  },
  {
   "cell_type": "code",
   "execution_count": 4,
   "id": "e8c9be73-3490-420e-a7a2-7686087be48c",
   "metadata": {},
   "outputs": [
    {
     "name": "stdout",
     "output_type": "stream",
     "text": [
      "14\n"
     ]
    }
   ],
   "source": [
    "print(len(List_f_str))"
   ]
  },
  {
   "cell_type": "code",
   "execution_count": 5,
   "id": "74f8d115-7051-46cd-9642-b92748cbda69",
   "metadata": {},
   "outputs": [
    {
     "name": "stdout",
     "output_type": "stream",
     "text": [
      "['www', 't', 'r', 'i', 'n', 'g', ' ', 'e', 'x', 'a', 'm', 'p', 'l', 'e']\n"
     ]
    }
   ],
   "source": [
    "List_f_str[0]='www'\n",
    "print(List_f_str)\n"
   ]
  },
  {
   "cell_type": "code",
   "execution_count": 7,
   "id": "0012ff50-0a4a-4662-a131-6d5aa4e5017a",
   "metadata": {},
   "outputs": [
    {
     "name": "stdout",
     "output_type": "stream",
     "text": [
      "['www', 't', 'r', 'i', 'n', 'g', ' ', 'e', 'x', 'a', 'm', 'p', 'l', 'e']\n"
     ]
    },
    {
     "data": {
      "text/plain": [
       "['x', 'www', 't', 'r', 'p', 'n', 'm', 'l', 'i', 'g', 'e', 'e', 'a', ' ']"
      ]
     },
     "execution_count": 7,
     "metadata": {},
     "output_type": "execute_result"
    }
   ],
   "source": [
    "print(List_f_str)\n",
    "sorted(List_f_str, reverse=True)"
   ]
  },
  {
   "cell_type": "code",
   "execution_count": 9,
   "id": "7a457170-7755-4e72-a9aa-9f51c6d13042",
   "metadata": {},
   "outputs": [
    {
     "name": "stdout",
     "output_type": "stream",
     "text": [
      "['www', 't', 'r', 'i', 'n', 'g', ' ', 'e', 'x', 'a', 'm', 'p', 'l', 'e']\n",
      "['www', 't', 'r', 'i', 'n', 'g', ' ', 'e', 'x', 'a', 'm', 'p', 'l', 'e', 'ttt']\n"
     ]
    }
   ],
   "source": [
    "print(List_f_str)\n",
    "List_f_str.append('ttt')\n",
    "print(List_f_str)"
   ]
  },
  {
   "cell_type": "code",
   "execution_count": 10,
   "id": "9945b90c-21e9-494b-8ac5-cf0359ca065e",
   "metadata": {},
   "outputs": [
    {
     "name": "stdout",
     "output_type": "stream",
     "text": [
      "['www', 't', 'r', 'i', 'n', 'g', ' ', 'e', 'x', 'a', 'm', 'p', 'l', 'e', 'ttt', 'rrrr', 'qqq']\n"
     ]
    }
   ],
   "source": [
    "List_f_str[len(List_f_str):]=['rrrr','qqq']\n",
    "print(List_f_str)"
   ]
  },
  {
   "cell_type": "code",
   "execution_count": 11,
   "id": "e5c8099e-93d3-49e8-bc97-b53fe73d9fcf",
   "metadata": {},
   "outputs": [
    {
     "data": {
      "text/plain": [
       "2"
      ]
     },
     "execution_count": 11,
     "metadata": {},
     "output_type": "execute_result"
    }
   ],
   "source": [
    "List_f_str.count('e')"
   ]
  },
  {
   "cell_type": "code",
   "execution_count": 12,
   "id": "693f252e-f66c-492f-8138-ebe0fd464586",
   "metadata": {},
   "outputs": [
    {
     "name": "stdout",
     "output_type": "stream",
     "text": [
      "[1, 3, 5, 7, 9, 11, 13, 15, 17, 19]\n"
     ]
    }
   ],
   "source": [
    "list_from_range=list(range(1,20,2))\n",
    "print(list_from_range)"
   ]
  },
  {
   "cell_type": "code",
   "execution_count": 17,
   "id": "df6a28f4-75bf-4340-8b1e-48c293a62f5f",
   "metadata": {},
   "outputs": [
    {
     "name": "stdout",
     "output_type": "stream",
     "text": [
      "[5, 6, 7, 8, 9, 10, 11, 12, 13, 14]\n"
     ]
    }
   ],
   "source": [
    "ex_list=list(range(5,15))\n",
    "print(ex_list)"
   ]
  },
  {
   "cell_type": "code",
   "execution_count": 27,
   "id": "fd121ad1-13a5-4954-9c2b-ce2cdf1200b6",
   "metadata": {},
   "outputs": [
    {
     "name": "stdout",
     "output_type": "stream",
     "text": [
      "[5, 7, 9, 11, 13]\n"
     ]
    }
   ],
   "source": [
    "ex_list_2=ex_list[0:15:2]\n",
    "print (ex_list_2)"
   ]
  },
  {
   "cell_type": "code",
   "execution_count": 34,
   "id": "c8ec25c9-3ed1-486e-836d-b49d7da989f5",
   "metadata": {},
   "outputs": [
    {
     "name": "stdout",
     "output_type": "stream",
     "text": [
      "45045\n"
     ]
    }
   ],
   "source": [
    "a=1\n",
    "for i in ex_list_2:a*=i\n",
    "print(a)"
   ]
  },
  {
   "cell_type": "code",
   "execution_count": 35,
   "id": "09faa39b-37e0-4070-8bc7-8baff5cb6f0e",
   "metadata": {},
   "outputs": [
    {
     "name": "stdout",
     "output_type": "stream",
     "text": [
      "45\n"
     ]
    }
   ],
   "source": [
    "b=0\n",
    "for i in ex_list_2:b+=i\n",
    "print(b)"
   ]
  },
  {
   "cell_type": "code",
   "execution_count": 47,
   "id": "cf177387-d67f-43f6-9684-899bcbfa6f52",
   "metadata": {},
   "outputs": [
    {
     "ename": "TypeError",
     "evalue": "'<' not supported between instances of 'str' and 'int'",
     "output_type": "error",
     "traceback": [
      "\u001b[1;31m---------------------------------------------------------------------------\u001b[0m",
      "\u001b[1;31mTypeError\u001b[0m                                 Traceback (most recent call last)",
      "\u001b[1;32m~\\AppData\\Local\\Temp/ipykernel_1820/4075895327.py\u001b[0m in \u001b[0;36m<module>\u001b[1;34m\u001b[0m\n\u001b[0;32m      1\u001b[0m \u001b[0mex_list_2\u001b[0m\u001b[1;33m.\u001b[0m\u001b[0mappend\u001b[0m\u001b[1;33m(\u001b[0m\u001b[1;36m45045\u001b[0m\u001b[1;33m)\u001b[0m\u001b[1;33m\u001b[0m\u001b[1;33m\u001b[0m\u001b[0m\n\u001b[0;32m      2\u001b[0m \u001b[0mex_list_2\u001b[0m\u001b[1;33m.\u001b[0m\u001b[0mappend\u001b[0m\u001b[1;33m(\u001b[0m\u001b[1;36m45\u001b[0m\u001b[1;33m)\u001b[0m\u001b[1;33m\u001b[0m\u001b[1;33m\u001b[0m\u001b[0m\n\u001b[1;32m----> 3\u001b[1;33m \u001b[0mex_list_2\u001b[0m\u001b[1;33m=\u001b[0m\u001b[0msorted\u001b[0m\u001b[1;33m(\u001b[0m\u001b[0mex_list_2\u001b[0m\u001b[1;33m,\u001b[0m \u001b[0mreverse\u001b[0m\u001b[1;33m=\u001b[0m\u001b[1;32mTrue\u001b[0m\u001b[1;33m)\u001b[0m\u001b[1;33m\u001b[0m\u001b[1;33m\u001b[0m\u001b[0m\n\u001b[0m\u001b[0;32m      4\u001b[0m \u001b[0mprint\u001b[0m\u001b[1;33m(\u001b[0m\u001b[0mex_list_2\u001b[0m\u001b[1;33m)\u001b[0m\u001b[1;33m\u001b[0m\u001b[1;33m\u001b[0m\u001b[0m\n",
      "\u001b[1;31mTypeError\u001b[0m: '<' not supported between instances of 'str' and 'int'"
     ]
    }
   ],
   "source": [
    "ex_list_2.append(45045)\n",
    "ex_list_2.append(45)\n",
    "ex_list_2=sorted(ex_list_2, reverse=True)\n",
    "print(ex_list_2)"
   ]
  },
  {
   "cell_type": "code",
   "execution_count": 45,
   "id": "ea9a3ceb-07bc-429d-af9b-627c5f490c43",
   "metadata": {},
   "outputs": [
    {
     "name": "stdout",
     "output_type": "stream",
     "text": [
      "['5', '7', '9', '11', '13', '45045', '45']\n"
     ]
    }
   ],
   "source": [
    "for i in range(len(ex_list_2)): ex_list_2[i]=str(ex_list_2[i])\n",
    "print(ex_list_2)"
   ]
  },
  {
   "cell_type": "code",
   "execution_count": 46,
   "id": "21b20aad-5fd7-45b5-853c-34601b49ec39",
   "metadata": {},
   "outputs": [
    {
     "data": {
      "text/plain": [
       "'5=7=9=11=13=45045=45'"
      ]
     },
     "execution_count": 46,
     "metadata": {},
     "output_type": "execute_result"
    }
   ],
   "source": [
    "'='.join(ex_list_2)"
   ]
  },
  {
   "cell_type": "code",
   "execution_count": 48,
   "id": "a29497ae-fddd-445f-bec9-4a73816bcc68",
   "metadata": {},
   "outputs": [
    {
     "name": "stdout",
     "output_type": "stream",
     "text": [
      "[1, 1, 2, 3, 5, 8, 13, 21, 34, 55, 89, 5, 9, -7, -10]\n"
     ]
    }
   ],
   "source": [
    "a = [1, 1, 2, 3, 5, 8, 13, 21, 34, 55, 89, 5, 9, -7, -10]\n",
    "print(a)\n"
   ]
  },
  {
   "cell_type": "code",
   "execution_count": 57,
   "id": "0d134567-5a1c-4195-ad88-0aa0cd090cc9",
   "metadata": {},
   "outputs": [
    {
     "name": "stdout",
     "output_type": "stream",
     "text": [
      "[1, 1, 2, 3, -7, -10]\n"
     ]
    }
   ],
   "source": [
    "b.clear()\n",
    "[b.append(i) for i in a if i<5]\n",
    "print(b)"
   ]
  },
  {
   "cell_type": "code",
   "execution_count": null,
   "id": "36f8f93d-f9bf-4d08-8083-9936da667906",
   "metadata": {},
   "outputs": [],
   "source": []
  },
  {
   "cell_type": "code",
   "execution_count": 56,
   "id": "732f832c-b6f6-437b-9547-f6dc1b9e4adb",
   "metadata": {},
   "outputs": [
    {
     "name": "stdout",
     "output_type": "stream",
     "text": [
      "[1, 1, 2, 3, -7, -10]\n"
     ]
    }
   ],
   "source": [
    "print(b)"
   ]
  },
  {
   "cell_type": "code",
   "execution_count": 61,
   "id": "6500b24f-1ca2-416e-9eee-b53a8cd90976",
   "metadata": {},
   "outputs": [
    {
     "name": "stdout",
     "output_type": "stream",
     "text": [
      "[1, 1, 1, 2, 2, 3, 3, 4, 5, 5, 6, 7, 8, 8, 9, 10, 11, 11, 12, 13, 13, 21, 34, 34, 55, 89]\n",
      "[]\n"
     ]
    }
   ],
   "source": [
    "a = [1, 1, 2, 3, 5, 8, 13, 21, 34, 55, 89, 11]\n",
    "b = [1, 2, 3, 4, 5, 6, 7, 8, 9, 10, 34, 11, 12, 13]\n",
    "c=a+b\n",
    "print(sorted(c))\n",
    "c.clear()\n",
    "print(c)"
   ]
  },
  {
   "cell_type": "code",
   "execution_count": 62,
   "id": "2774e020-eafe-43af-953d-4600588029ea",
   "metadata": {},
   "outputs": [
    {
     "name": "stdout",
     "output_type": "stream",
     "text": [
      "[1, 2, 3, 5, 8, 34, 11, 13]\n"
     ]
    }
   ],
   "source": [
    "[c.append(i) for i in b if i in a]\n",
    "print(c)"
   ]
  },
  {
   "cell_type": "code",
   "execution_count": 65,
   "id": "a0b63062-0c6c-4b21-869c-283ba2a60921",
   "metadata": {},
   "outputs": [
    {
     "name": "stdout",
     "output_type": "stream",
     "text": [
      "[1, 2, 3, 5, 8, 11, 13, 34]\n"
     ]
    }
   ],
   "source": [
    "print(sorted(c))"
   ]
  },
  {
   "cell_type": "code",
   "execution_count": 66,
   "id": "1de4e73e-e6b0-4a21-beb9-a6db92882401",
   "metadata": {},
   "outputs": [
    {
     "data": {
      "text/plain": [
       "{1, 2, 3, 5, 8, 11, 13, 34}"
      ]
     },
     "execution_count": 66,
     "metadata": {},
     "output_type": "execute_result"
    }
   ],
   "source": [
    "set(a).intersection(b)"
   ]
  },
  {
   "cell_type": "code",
   "execution_count": 67,
   "id": "9c2e2891-687e-4157-96bf-bc31c3d5ef58",
   "metadata": {},
   "outputs": [
    {
     "data": {
      "text/plain": [
       "[1, 2, 3, 34, 5, 8, 11, 13]"
      ]
     },
     "execution_count": 67,
     "metadata": {},
     "output_type": "execute_result"
    }
   ],
   "source": [
    "list(set(a) & set(b))"
   ]
  },
  {
   "cell_type": "code",
   "execution_count": 68,
   "id": "c1fd0d7d-d1f4-4909-aaa8-f966c6a58c32",
   "metadata": {},
   "outputs": [],
   "source": [
    "s = 'kafka python course stack flow dict list python stack course star product star product analytics flow star kafka stack flow ython list set ist fit predict dict list python ourse ython ourse star product ist fit predict analytics kafka stack flow product ist fit predict analytics star flow dict flow list python course stack flow dict list python stack course'\n",
    "a=s.split(' ')"
   ]
  },
  {
   "cell_type": "code",
   "execution_count": 69,
   "id": "d7eedb42-6c31-4946-bfd6-319fbaa9c275",
   "metadata": {},
   "outputs": [
    {
     "name": "stdout",
     "output_type": "stream",
     "text": [
      "['kafka', 'python', 'course', 'stack', 'flow', 'dict', 'list', 'python', 'stack', 'course', 'star', 'product', 'star', 'product', 'analytics', 'flow', 'star', 'kafka', 'stack', 'flow', 'ython', 'list', 'set', 'ist', 'fit', 'predict', 'dict', 'list', 'python', 'ourse', 'ython', 'ourse', 'star', 'product', 'ist', 'fit', 'predict', 'analytics', 'kafka', 'stack', 'flow', 'product', 'ist', 'fit', 'predict', 'analytics', 'star', 'flow', 'dict', 'flow', 'list', 'python', 'course', 'stack', 'flow', 'dict', 'list', 'python', 'stack', 'course']\n"
     ]
    }
   ],
   "source": [
    "print(a)"
   ]
  },
  {
   "cell_type": "code",
   "execution_count": 70,
   "id": "b68c4759-4271-4a50-b5ba-0db45e1d8e0e",
   "metadata": {},
   "outputs": [],
   "source": [
    "from collections import Counter\n",
    "b=Counter(a)"
   ]
  },
  {
   "cell_type": "code",
   "execution_count": null,
   "id": "8f343cba-9160-445c-893b-8b37c657320f",
   "metadata": {},
   "outputs": [],
   "source": []
  },
  {
   "cell_type": "code",
   "execution_count": 71,
   "id": "815b83c2-1203-4a2e-83e3-093fe94de010",
   "metadata": {},
   "outputs": [
    {
     "name": "stdout",
     "output_type": "stream",
     "text": [
      "Counter({'flow': 7, 'stack': 6, 'python': 5, 'list': 5, 'star': 5, 'course': 4, 'dict': 4, 'product': 4, 'kafka': 3, 'analytics': 3, 'ist': 3, 'fit': 3, 'predict': 3, 'ython': 2, 'ourse': 2, 'set': 1})\n"
     ]
    }
   ],
   "source": [
    "print(b)\n"
   ]
  },
  {
   "cell_type": "code",
   "execution_count": null,
   "id": "210fa757-1d08-4f02-9465-1a6b693f23e9",
   "metadata": {},
   "outputs": [],
   "source": []
  },
  {
   "cell_type": "code",
   "execution_count": 72,
   "id": "59a6ef44-bac4-42fd-a7ae-0a5e8b817f31",
   "metadata": {},
   "outputs": [],
   "source": [
    "m={i:a.count(i) for i in a}"
   ]
  },
  {
   "cell_type": "code",
   "execution_count": 73,
   "id": "f5514dac-6f15-485f-b1af-f42149641a1f",
   "metadata": {},
   "outputs": [
    {
     "name": "stdout",
     "output_type": "stream",
     "text": [
      "{'kafka': 3, 'python': 5, 'course': 4, 'stack': 6, 'flow': 7, 'dict': 4, 'list': 5, 'star': 5, 'product': 4, 'analytics': 3, 'ython': 2, 'set': 1, 'ist': 3, 'fit': 3, 'predict': 3, 'ourse': 2}\n"
     ]
    }
   ],
   "source": [
    "print(m)"
   ]
  },
  {
   "cell_type": "code",
   "execution_count": 76,
   "id": "9d587587-ae0a-4c6c-90da-89d9b65ccc3a",
   "metadata": {},
   "outputs": [
    {
     "ename": "AttributeError",
     "evalue": "'Counter' object has no attribute 'sort'",
     "output_type": "error",
     "traceback": [
      "\u001b[1;31m---------------------------------------------------------------------------\u001b[0m",
      "\u001b[1;31mAttributeError\u001b[0m                            Traceback (most recent call last)",
      "\u001b[1;32m~\\AppData\\Local\\Temp/ipykernel_1820/3651035942.py\u001b[0m in \u001b[0;36m<module>\u001b[1;34m\u001b[0m\n\u001b[1;32m----> 1\u001b[1;33m \u001b[0mprint\u001b[0m\u001b[1;33m(\u001b[0m\u001b[0mb\u001b[0m\u001b[1;33m.\u001b[0m\u001b[0msort\u001b[0m\u001b[1;33m(\u001b[0m\u001b[0mvalue\u001b[0m\u001b[1;33m)\u001b[0m\u001b[1;33m)\u001b[0m\u001b[1;33m\u001b[0m\u001b[1;33m\u001b[0m\u001b[0m\n\u001b[0m\u001b[0;32m      2\u001b[0m \u001b[0mprint\u001b[0m\u001b[1;33m(\u001b[0m\u001b[0msorted\u001b[0m\u001b[1;33m(\u001b[0m\u001b[0mm\u001b[0m\u001b[1;33m.\u001b[0m\u001b[0mvalue\u001b[0m\u001b[1;33m)\u001b[0m\u001b[1;33m)\u001b[0m\u001b[1;33m\u001b[0m\u001b[1;33m\u001b[0m\u001b[0m\n",
      "\u001b[1;31mAttributeError\u001b[0m: 'Counter' object has no attribute 'sort'"
     ]
    }
   ],
   "source": [
    "print(b.ort(value))\n",
    "print(sorted(m.value))"
   ]
  },
  {
   "cell_type": "code",
   "execution_count": 81,
   "id": "df67c841-9610-4574-b1f1-e638cc015a6b",
   "metadata": {},
   "outputs": [],
   "source": [
    "names = ['igor', 'dasha', 'martin', 'vladimir', 'rishat', 'maria', 'marat', 'petr', 'dima', 'polina', 'katya', 'elena']\n",
    "occupations = ['smm', 'developer', 'analyst', 'president', 'analyst', 'ceo', 'customer development', 'founder', 'developer', 'ml engineer', 'product manager', 'cmo']\n"
   ]
  },
  {
   "cell_type": "code",
   "execution_count": 84,
   "id": "7b32600a-b3ae-48c2-b156-0ca59b950e93",
   "metadata": {},
   "outputs": [
    {
     "name": "stdout",
     "output_type": "stream",
     "text": [
      "{'igor': 'smm', 'dasha': 'developer', 'martin': 'analyst', 'vladimir': 'president', 'rishat': 'analyst', 'maria': 'ceo', 'marat': 'customer development', 'petr': 'founder', 'dima': 'developer', 'polina': 'ml engineer', 'katya': 'product manager', 'elena': 'cmo'}\n"
     ]
    }
   ],
   "source": [
    "d={}\n",
    "for k in range(len(names)):\n",
    "    d[names[k]]=occupations[k]\n",
    "print(d)"
   ]
  },
  {
   "cell_type": "code",
   "execution_count": 85,
   "id": "5970b90a-43b2-4210-9853-4874cd153ad9",
   "metadata": {},
   "outputs": [
    {
     "name": "stdout",
     "output_type": "stream",
     "text": [
      "{1: 10, 2: 20, 3901: 11, 384: 13, 8489: 1, 48: 10, 3: 13, 4: 40, 93: 12, 91: 41, 95: 1, 841: 11, 584: 11, 5: 50, 6: 60, 9: 90, 7: 11}\n"
     ]
    }
   ],
   "source": [
    "dict1={1:10, 2:20, 3901:11, 384:13, 8489:1, 48:10}\n",
    "\n",
    "dict2={3:30, 4:40, 93:12, 91:41, 95:1, 841:11, 584:11}\n",
    "\n",
    "dict3={5:50, 6:60, 9:90, 3:13, 7:11}\n",
    "d={}\n",
    "d.update(dict1)\n",
    "d.update(dict2)\n",
    "d.update(dict3)\n",
    "print(d)"
   ]
  },
  {
   "cell_type": "code",
   "execution_count": 86,
   "id": "bac9423c-d854-4565-be64-7aaea575da6c",
   "metadata": {},
   "outputs": [
    {
     "name": "stdout",
     "output_type": "stream",
     "text": [
      "17\n"
     ]
    }
   ],
   "source": [
    "print(len(d))"
   ]
  },
  {
   "cell_type": "code",
   "execution_count": 87,
   "id": "eb657998-287a-4e1e-99b1-fe29935affc1",
   "metadata": {},
   "outputs": [
    {
     "name": "stdout",
     "output_type": "stream",
     "text": [
      "P y t h o n   S t a r   C o u r s e   f o r   b e g i n n e r s   a n d   e x p e r t s   f o r   d a t a   s c i e n c e   a n d   a n a l y t i c s   w i t h o u t   s q l   w i t h   c o d e\n"
     ]
    }
   ],
   "source": [
    "given_string = 'Python Star Course for beginners and experts for data science and analytics without sql with code'\n",
    "str=' '.join(given_string)\n",
    "print(str)\n",
    "#from collections import Counter\n",
    "#b=Counter(a)"
   ]
  },
  {
   "cell_type": "code",
   "execution_count": 90,
   "id": "2e63c5cd-1fb7-44a2-a33c-036bcb2a1d9d",
   "metadata": {},
   "outputs": [
    {
     "name": "stdout",
     "output_type": "stream",
     "text": [
      "PythonStarCourseforbeginnersandexpertsfordatascienceandanalyticswithoutsqlwithcode\n",
      "Counter({'t': 8, 'e': 8, 'n': 7, 'a': 7, 'o': 6, 'r': 6, 's': 6, 'i': 5, 'd': 4, 'c': 4, 'h': 3, 'y': 2, 'u': 2, 'f': 2, 'l': 2, 'w': 2, 'P': 1, 'S': 1, 'C': 1, 'b': 1, 'g': 1, 'x': 1, 'p': 1, 'q': 1})\n"
     ]
    }
   ],
   "source": [
    "given_string = 'Python Star Course for beginners and experts for data science and analytics without sql with code'\n",
    "str=''.join(given_string.split())\n",
    "print(str)\n",
    "from collections import Counter\n",
    "b=Counter(str)\n",
    "print(b)"
   ]
  }
 ],
 "metadata": {
  "kernelspec": {
   "display_name": "Python 3 (ipykernel)",
   "language": "python",
   "name": "python3"
  },
  "language_info": {
   "codemirror_mode": {
    "name": "ipython",
    "version": 3
   },
   "file_extension": ".py",
   "mimetype": "text/x-python",
   "name": "python",
   "nbconvert_exporter": "python",
   "pygments_lexer": "ipython3",
   "version": "3.10.2"
  }
 },
 "nbformat": 4,
 "nbformat_minor": 5
}
