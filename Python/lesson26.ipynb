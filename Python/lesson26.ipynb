{
 "cells": [
  {
   "cell_type": "code",
   "execution_count": 1,
   "id": "1af93986-5793-4db6-b46a-13e9bc074e34",
   "metadata": {},
   "outputs": [],
   "source": [
    "import numpy as np\n",
    "mt=np.array([[1,2,3],[4,5,6]])"
   ]
  },
  {
   "cell_type": "code",
   "execution_count": 2,
   "id": "32cfe522-0f2e-47f8-a820-4c0fdee5d54d",
   "metadata": {},
   "outputs": [
    {
     "name": "stdout",
     "output_type": "stream",
     "text": [
      "[[1 2 3]\n",
      " [4 5 6]]\n"
     ]
    }
   ],
   "source": [
    "print(mt)"
   ]
  },
  {
   "cell_type": "code",
   "execution_count": 5,
   "id": "01fd6336-d689-4a39-bc11-9698439f936b",
   "metadata": {},
   "outputs": [
    {
     "name": "stdout",
     "output_type": "stream",
     "text": [
      "(2, 3)\n"
     ]
    }
   ],
   "source": [
    "print(mt.shape)"
   ]
  },
  {
   "cell_type": "code",
   "execution_count": 6,
   "id": "ee90ec79-7b51-4c80-8584-544f94571d46",
   "metadata": {},
   "outputs": [
    {
     "name": "stdout",
     "output_type": "stream",
     "text": [
      "mt.shape=(2, 3)\n"
     ]
    }
   ],
   "source": [
    "print(f'{mt.shape=}')"
   ]
  },
  {
   "cell_type": "code",
   "execution_count": 8,
   "id": "980a9e1d-8f35-4acb-86ae-319548af39f6",
   "metadata": {},
   "outputs": [
    {
     "name": "stdout",
     "output_type": "stream",
     "text": [
      "[[[1]\n",
      "  [2]\n",
      "  [3]]\n",
      "\n",
      " [[4]\n",
      "  [5]\n",
      "  [6]]]\n",
      "mt_r.shape=(2, 3, 1)\n"
     ]
    }
   ],
   "source": [
    "mt_r=mt.reshape([2,3,1])\n",
    "print(mt_r)\n",
    "print(f'{mt_r.shape=}')"
   ]
  },
  {
   "cell_type": "code",
   "execution_count": 12,
   "id": "80a7a8f2-17ad-481d-953f-a005580c25c4",
   "metadata": {},
   "outputs": [
    {
     "name": "stdout",
     "output_type": "stream",
     "text": [
      "[[0. 0. 0.]\n",
      " [0. 0. 0.]]\n",
      "[[[1 1 1 1]\n",
      "  [1 1 1 1]\n",
      "  [1 1 1 1]]\n",
      "\n",
      " [[1 1 1 1]\n",
      "  [1 1 1 1]\n",
      "  [1 1 1 1]]]\n"
     ]
    }
   ],
   "source": [
    "print(np.zeros((2,3)))\n",
    "print(np.ones((2,3,4), dtype=np.int32))"
   ]
  },
  {
   "cell_type": "code",
   "execution_count": null,
   "id": "32a723eb-a8a4-448d-9d92-561f4f07664d",
   "metadata": {},
   "outputs": [],
   "source": []
  }
 ],
 "metadata": {
  "kernelspec": {
   "display_name": "Python 3 (ipykernel)",
   "language": "python",
   "name": "python3"
  },
  "language_info": {
   "codemirror_mode": {
    "name": "ipython",
    "version": 3
   },
   "file_extension": ".py",
   "mimetype": "text/x-python",
   "name": "python",
   "nbconvert_exporter": "python",
   "pygments_lexer": "ipython3",
   "version": "3.10.0"
  }
 },
 "nbformat": 4,
 "nbformat_minor": 5
}
