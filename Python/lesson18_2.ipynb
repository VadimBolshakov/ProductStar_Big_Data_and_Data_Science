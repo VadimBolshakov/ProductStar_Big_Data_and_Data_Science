{
 "cells": [
  {
   "cell_type": "code",
   "execution_count": 1,
   "id": "ff061b73-6512-4000-8d03-5362091ef614",
   "metadata": {},
   "outputs": [],
   "source": [
    "with open('exercise_1', mode='wb') as file:\n",
    "    file.write(b'\\xd1\\xe5\\xea\\xf0\\xe5\\xf2\\xed\\xee\\xe5 \\xf1\\xeb\\xee\\xe2\\xee: \\xef\\xf3\\xf5\\xee\\xe2\\xe8\\xf7\\xee\\xea')\n"
   ]
  },
  {
   "cell_type": "code",
   "execution_count": 5,
   "id": "8155b1e4-4102-4e86-8ecf-2841ff71e886",
   "metadata": {},
   "outputs": [
    {
     "data": {
      "text/plain": [
       "['Секретное слово: пуховичок']"
      ]
     },
     "execution_count": 5,
     "metadata": {},
     "output_type": "execute_result"
    }
   ],
   "source": [
    "with open('exercise_1', mode='r', encoding='1251') as f:\n",
    "    word=f.readlines()\n",
    "word\n",
    "\n"
   ]
  }
 ],
 "metadata": {
  "kernelspec": {
   "display_name": "Python 3 (ipykernel)",
   "language": "python",
   "name": "python3"
  },
  "language_info": {
   "codemirror_mode": {
    "name": "ipython",
    "version": 3
   },
   "file_extension": ".py",
   "mimetype": "text/x-python",
   "name": "python",
   "nbconvert_exporter": "python",
   "pygments_lexer": "ipython3",
   "version": "3.10.2"
  }
 },
 "nbformat": 4,
 "nbformat_minor": 5
}
