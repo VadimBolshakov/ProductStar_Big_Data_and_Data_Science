{
 "cells": [
  {
   "cell_type": "code",
   "execution_count": 5,
   "id": "2fc9cb62-0e8e-4654-81e2-e720105f0d00",
   "metadata": {},
   "outputs": [
    {
     "name": "stdout",
     "output_type": "stream",
     "text": [
      "[]\n",
      "<class 'matplotlib.figure.Figure'>\n",
      "[<AxesSubplot:>]\n"
     ]
    },
    {
     "data": {
      "image/png": "[encoded data removed]",
      "text/plain": [
       "<Figure size 432x288 with 1 Axes>"
      ]
     },
     "metadata": {
      "needs_background": "light"
     },
     "output_type": "display_data"
    }
   ],
   "source": [
    "import matplotlib.pyplot as plt\n",
    "\n",
    "fig=plt.figure()\n",
    "print(fig.axes)\n",
    "print(type(fig))\n",
    "plt.scatter(1.0,1.0)\n",
    "\n",
    "print(fig.axes)\n",
    "\n",
    "plt.savefig('pic_1.pdf')\n",
    "#plt.savefig(name-'pic_1', fmt='png')\n",
    "\n",
    "plt.show()"
   ]
  },
  {
   "cell_type": "code",
   "execution_count": 5,
   "id": "fc4a0612-1341-4479-ac05-ef96b333c7e3",
   "metadata": {},
   "outputs": [
    {
     "name": "stdout",
     "output_type": "stream",
     "text": [
      "[]\n",
      "<class 'matplotlib.figure.Figure'>\n",
      "[<AxesSubplot:>]\n"
     ]
    },
    {
     "data": {
      "image/png": "[encoded data removed]",
      "text/plain": [
       "<Figure size 432x288 with 1 Axes>"
      ]
     },
     "metadata": {
      "needs_background": "light"
     },
     "output_type": "display_data"
    }
   ],
   "source": [
    "import matplotlib.pyplot as plt\n",
    "\n",
    "fig=plt.figure()\n",
    "print(fig.axes)\n",
    "print(type(fig))\n",
    "plt.scatter(1.0,1.0)\n",
    "\n",
    "fig=plt.figure()\n",
    "\n",
    "#plt.savefig('pic_1.pdf')\n",
    "#plt.savefig(name-'pic_1', fmt='png')\n",
    "\n",
    "plt.show()"
   ]
  },
  {
   "cell_type": "code",
   "execution_count": null,
   "id": "c1675bbc-b47d-4268-a080-317aadf2828e",
   "metadata": {},
   "outputs": [],
   "source": []
  }
 ],
 "metadata": {
  "kernelspec": {
   "display_name": "Python 3 (ipykernel)",
   "language": "python",
   "name": "python3"
  },
  "language_info": {
   "codemirror_mode": {
    "name": "ipython",
    "version": 3
   },
   "file_extension": ".py",
   "mimetype": "text/x-python",
   "name": "python",
   "nbconvert_exporter": "python",
   "pygments_lexer": "ipython3",
   "version": "3.10.0"
  }
 },
 "nbformat": 4,
 "nbformat_minor": 5
}
