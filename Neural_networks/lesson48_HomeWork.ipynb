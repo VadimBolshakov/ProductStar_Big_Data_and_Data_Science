{
 "cells": [
  {
   "cell_type": "code",
   "execution_count": 1,
   "id": "c88f0d97-7af2-4115-8ce7-9a6a0cd8d212",
   "metadata": {},
   "outputs": [
    {
     "name": "stderr",
     "output_type": "stream",
     "text": [
      "\n"
     ]
    }
   ],
   "source": [
    "import gym\n",
    "import numpy as np\n",
    "import tensorflow as tf\n",
    "from tensorflow import keras\n",
    "from tensorflow.keras import layers\n",
    "\n",
    "np.random.seed(17)\n",
    "tf.random.set_seed(17)"
   ]
  },
  {
   "cell_type": "code",
   "execution_count": 2,
   "id": "ef911c96-51ba-4738-9f0b-e34fd5d21165",
   "metadata": {},
   "outputs": [
    {
     "name": "stderr",
     "output_type": "stream",
     "text": [
      "C:\\Users\\Vadim\\AppData\\Local\\Programs\\Python\\Python310\\lib\\site-packages\\gym\\envs\\registration.py:505: UserWarning: \u001b[33mWARN: The environment CartPole-v0 is out of date. You should consider upgrading to version `v1` with the environment ID `CartPole-v1`.\u001b[0m\n",
      "  logger.warn(\n"
     ]
    },
    {
     "data": {
      "text/plain": [
       "[17]"
      ]
     },
     "execution_count": 2,
     "metadata": {},
     "output_type": "execute_result"
    }
   ],
   "source": [
    "env = gym.make('CartPole-v0')\n",
    "env.seed(17)"
   ]
  },
  {
   "cell_type": "code",
   "execution_count": 3,
   "id": "10441202-fa3a-4289-b557-223ec2f87d93",
   "metadata": {},
   "outputs": [
    {
     "data": {
      "text/plain": [
       "Discrete(2)"
      ]
     },
     "execution_count": 3,
     "metadata": {},
     "output_type": "execute_result"
    }
   ],
   "source": [
    "env.action_space"
   ]
  },
  {
   "cell_type": "code",
   "execution_count": 5,
   "id": "baac92ee-be52-475a-b91d-2dfbefe69ec3",
   "metadata": {},
   "outputs": [],
   "source": [
    "num_inputs = 4\n",
    "num_actions = 2\n",
    "\n",
    "num_hidden = 64\n",
    "\n",
    "inputs = layers.Input(shape=(num_inputs,))\n",
    "common_1 = layers.Dense(num_hidden, activation=\"relu\")(inputs)\n",
    "common_2 = layers.Dense(num_hidden, activation=\"relu\")(common_1)\n",
    "action = layers.Dense(num_actions, activation=\"softmax\")(common_2)\n",
    "critic = layers.Dense(1)(common_2)\n",
    "\n",
    "model = keras.Model(inputs=inputs, outputs=[action, critic])"
   ]
  },
  {
   "cell_type": "code",
   "execution_count": 6,
   "id": "0d8301a9-eadf-4ec6-9194-127b7f530379",
   "metadata": {},
   "outputs": [],
   "source": [
    "optimizer = keras.optimizers.Adam(learning_rate=0.01)\n",
    "loss = keras.losses.Huber()"
   ]
  },
  {
   "cell_type": "code",
   "execution_count": 7,
   "id": "b1e1daac-acfb-4cc8-acab-126ecb10136d",
   "metadata": {},
   "outputs": [
    {
     "name": "stdout",
     "output_type": "stream",
     "text": [
      "Episode: 10  running_reward: 8.45\n",
      "Episode: 20  running_reward: 11.34\n",
      "Episode: 30  running_reward: 13.18\n",
      "Episode: 40  running_reward: 18.95\n",
      "Episode: 50  running_reward: 21.21\n",
      "Episode: 60  running_reward: 43.92\n",
      "Episode: 70  running_reward: 74.22\n",
      "Episode: 80  running_reward: 111.04\n",
      "Episode: 90  running_reward: 107.12\n",
      "Episode: 100  running_reward: 83.94\n",
      "Episode: 110  running_reward: 87.98\n",
      "Episode: 120  running_reward: 115.91\n",
      "Episode: 130  running_reward: 128.33\n",
      "Episode: 140  running_reward: 117.30\n",
      "Episode: 150  running_reward: 129.44\n",
      "Episode: 160  running_reward: 137.00\n",
      "Episode: 170  running_reward: 161.71\n",
      "Episode: 180  running_reward: 147.79\n",
      "Episode: 190  running_reward: 135.06\n",
      "Episode: 200  running_reward: 140.24\n",
      "Episode: 210  running_reward: 121.26\n",
      "Episode: 220  running_reward: 129.15\n",
      "Episode: 230  running_reward: 132.02\n",
      "Episode: 240  running_reward: 124.40\n",
      "Episode: 250  running_reward: 115.77\n",
      "Episode: 260  running_reward: 110.43\n",
      "Episode: 270  running_reward: 119.86\n",
      "Episode: 280  running_reward: 125.43\n",
      "Episode: 290  running_reward: 151.84\n",
      "Episode: 300  running_reward: 162.84\n",
      "Episode: 310  running_reward: 120.81\n",
      "Episode: 320  running_reward: 88.58\n",
      "Episode: 330  running_reward: 105.41\n",
      "Episode: 340  running_reward: 126.57\n",
      "Episode: 350  running_reward: 125.93\n",
      "Episode: 360  running_reward: 146.47\n",
      "Episode: 370  running_reward: 152.87\n",
      "Episode: 380  running_reward: 110.61\n",
      "Episode: 390  running_reward: 77.81\n",
      "Episode: 400  running_reward: 104.19\n",
      "Episode: 410  running_reward: 142.64\n",
      "Episode: 420  running_reward: 165.65\n",
      "Episode: 430  running_reward: 178.80\n",
      "Episode: 440  running_reward: 187.31\n",
      "Episode: 450  running_reward: 192.40\n",
      "Solved at episode 459!\n"
     ]
    }
   ],
   "source": [
    "gamma = 0.995\n",
    "max_steps_per_episode = 1000\n",
    "eps = np.finfo(np.float32).eps.item()\n",
    "\n",
    "action_probs_history = []\n",
    "critic_value_history = []\n",
    "rewards_history = []\n",
    "\n",
    "running_reward = 0\n",
    "episode_count = 0\n",
    "\n",
    "while True:\n",
    "    state = env.reset()\n",
    "    episode_reward = 0\n",
    "    \n",
    "    with tf.GradientTape() as tape:\n",
    "        for timestep in range(1, max_steps_per_episode):\n",
    "            env.render()\n",
    "            \n",
    "            state = tf.convert_to_tensor(state)\n",
    "            state = tf.expand_dims(state, 0)\n",
    "            \n",
    "            action_probs, critic_value = model(state)\n",
    "            critic_value_history.append(critic_value[0, 0])\n",
    "            \n",
    "            action = np.random.choice(num_actions, p=np.squeeze(action_probs))\n",
    "            action_probs_history.append(tf.math.log(action_probs[0, action]))\n",
    "            \n",
    "            state, reward, done, _ = env.step(action)\n",
    "            \n",
    "            rewards_history.append(reward)\n",
    "            episode_reward += reward\n",
    "            \n",
    "            if done:\n",
    "                break\n",
    "            \n",
    "        running_reward = 0.05 * episode_reward + (1 - 0.05) * running_reward\n",
    "        returns = []\n",
    "        discounted_sum = 0\n",
    "        for r in rewards_history[::-1]:\n",
    "            discounted_sum = r + gamma * discounted_sum\n",
    "            returns.insert(0, discounted_sum)\n",
    "\n",
    "        returns = np.array(returns)\n",
    "        returns = (returns - np.mean(returns))/(np.std(returns) + eps)\n",
    "        returns = returns.tolist()\n",
    "\n",
    "        history = zip(action_probs_history, critic_value_history, returns)\n",
    "        actor_losses = []\n",
    "        critic_losses =[]\n",
    "\n",
    "        for log_prob, value, ret in history:\n",
    "            diff = ret - value\n",
    "            actor_losses.append(-log_prob * diff)\n",
    "            critic_losses.append(loss(tf.expand_dims(value, 0), tf.expand_dims(ret, 0)))\n",
    "\n",
    "        loss_value = sum(actor_losses) + sum(critic_losses)\n",
    "        grads = tape.gradient(loss_value, model.trainable_variables)\n",
    "        optimizer.apply_gradients(zip(grads, model.trainable_variables))\n",
    "\n",
    "        action_probs_history.clear()\n",
    "        critic_value_history.clear()\n",
    "        rewards_history.clear()\n",
    "    \n",
    "    episode_count +=1\n",
    "    \n",
    "    if episode_count % 10 == 0:\n",
    "        print(f'Episode: {episode_count}  running_reward: {running_reward:.2f}')\n",
    "        \n",
    "    if running_reward > 195:\n",
    "        print(f\"Solved at episode {episode_count}!\")\n",
    "        break\n",
    "\n",
    "env.close()    "
   ]
  },
  {
   "cell_type": "code",
   "execution_count": 13,
   "id": "cbdda37c-81c8-4e3e-a19e-6b89038cf98e",
   "metadata": {},
   "outputs": [],
   "source": [
    "env = gym.make('CartPole-v0')\n",
    "max_test_timestaps = 100000\n",
    "test_episodes = 10\n",
    "\n",
    "for ep in range(test_episodes):\n",
    "    state = env.reset()\n",
    "    for timestap in range(max_test_timestaps):\n",
    "        env.render()\n",
    "        \n",
    "        state = tf.convert_to_tensor(state)\n",
    "        state = tf.expand_dims(state, 0)\n",
    "        \n",
    "        action_probs, _ = model(state)\n",
    "        \n",
    "        if action_probs[0][0].numpy() >=0.5:\n",
    "            action = 0\n",
    "        else:\n",
    "            action = 1\n",
    "            \n",
    "        state, _, done, _ =env.step(action)\n",
    "        \n",
    "        if done:\n",
    "            break\n",
    "env.close()"
   ]
  },
  {
   "cell_type": "code",
   "execution_count": null,
   "id": "aeb7380b-b275-478e-967f-f9c8d8cb6e19",
   "metadata": {},
   "outputs": [],
   "source": []
  },
  {
   "cell_type": "code",
   "execution_count": null,
   "id": "7d16b3ca-5cbd-4c54-b2b1-7f32ffd3d6a3",
   "metadata": {},
   "outputs": [],
   "source": []
  }
 ],
 "metadata": {
  "kernelspec": {
   "display_name": "Python 3 (ipykernel)",
   "language": "python",
   "name": "python3"
  },
  "language_info": {
   "codemirror_mode": {
    "name": "ipython",
    "version": 3
   },
   "file_extension": ".py",
   "mimetype": "text/x-python",
   "name": "python",
   "nbconvert_exporter": "python",
   "pygments_lexer": "ipython3",
   "version": "3.10.2"
  }
 },
 "nbformat": 4,
 "nbformat_minor": 5
}
