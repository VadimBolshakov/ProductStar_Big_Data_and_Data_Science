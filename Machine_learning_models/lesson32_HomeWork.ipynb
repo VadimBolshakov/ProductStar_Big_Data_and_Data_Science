{
 "cells": [
  {
   "cell_type": "code",
   "execution_count": 1,
   "id": "aaa1ba8e-a7c5-4eed-baec-e6ce98fe88d1",
   "metadata": {},
   "outputs": [],
   "source": [
    "import warnings\n",
    "\n",
    "warnings.filterwarnings('ignore')\n",
    "warnings.simplefilter('ignore')\n",
    "\n",
    "from typing import Tuple, List\n",
    "\n",
    "import numpy as np\n",
    "import pandas as pd\n",
    "import seaborn as sns\n",
    "import matplotlib.pyplot as plt\n",
    "\n",
    "from sklearn.pipeline import Pipeline\n",
    "from sklearn.metrics import roc_auc_score\n",
    "from sklearn.tree import DecisionTreeClassifier\n",
    "from sklearn.preprocessing import StandardScaler\n",
    "from sklearn.linear_model import LogisticRegression\n",
    "from sklearn.ensemble import BaggingClassifier, RandomForestClassifier\n",
    "from sklearn.model_selection import train_test_split, validation_curve,learning_curve"
   ]
  },
  {
   "cell_type": "code",
   "execution_count": 2,
   "id": "6d9d5a29-4ce1-43bc-8ba5-09c531aa8144",
   "metadata": {},
   "outputs": [
    {
     "name": "stdout",
     "output_type": "stream",
     "text": [
      "data.shape=100000 rows, 394 columns\n",
      "data 100000 rows, 394 columns\n"
     ]
    },
    {
     "data": {
      "text/html": [
       "<div>\n",
       "<style scoped>\n",
       "    .dataframe tbody tr th:only-of-type {\n",
       "        vertical-align: middle;\n",
       "    }\n",
       "\n",
       "    .dataframe tbody tr th {\n",
       "        vertical-align: top;\n",
       "    }\n",
       "\n",
       "    .dataframe thead th {\n",
       "        text-align: right;\n",
       "    }\n",
       "</style>\n",
       "<table border=\"1\" class=\"dataframe\">\n",
       "  <thead>\n",
       "    <tr style=\"text-align: right;\">\n",
       "      <th></th>\n",
       "      <th>TransactionID</th>\n",
       "      <th>isFraud</th>\n",
       "      <th>TransactionDT</th>\n",
       "      <th>TransactionAmt</th>\n",
       "      <th>ProductCD</th>\n",
       "      <th>card1</th>\n",
       "      <th>card2</th>\n",
       "      <th>card3</th>\n",
       "      <th>card4</th>\n",
       "      <th>card5</th>\n",
       "      <th>...</th>\n",
       "      <th>V330</th>\n",
       "      <th>V331</th>\n",
       "      <th>V332</th>\n",
       "      <th>V333</th>\n",
       "      <th>V334</th>\n",
       "      <th>V335</th>\n",
       "      <th>V336</th>\n",
       "      <th>V337</th>\n",
       "      <th>V338</th>\n",
       "      <th>V339</th>\n",
       "    </tr>\n",
       "  </thead>\n",
       "  <tbody>\n",
       "    <tr>\n",
       "      <th>0</th>\n",
       "      <td>2987000</td>\n",
       "      <td>0</td>\n",
       "      <td>86400</td>\n",
       "      <td>68.5</td>\n",
       "      <td>W</td>\n",
       "      <td>13926</td>\n",
       "      <td>NaN</td>\n",
       "      <td>150.0</td>\n",
       "      <td>discover</td>\n",
       "      <td>142.0</td>\n",
       "      <td>...</td>\n",
       "      <td>NaN</td>\n",
       "      <td>NaN</td>\n",
       "      <td>NaN</td>\n",
       "      <td>NaN</td>\n",
       "      <td>NaN</td>\n",
       "      <td>NaN</td>\n",
       "      <td>NaN</td>\n",
       "      <td>NaN</td>\n",
       "      <td>NaN</td>\n",
       "      <td>NaN</td>\n",
       "    </tr>\n",
       "    <tr>\n",
       "      <th>1</th>\n",
       "      <td>2987001</td>\n",
       "      <td>0</td>\n",
       "      <td>86401</td>\n",
       "      <td>29.0</td>\n",
       "      <td>W</td>\n",
       "      <td>2755</td>\n",
       "      <td>404.0</td>\n",
       "      <td>150.0</td>\n",
       "      <td>mastercard</td>\n",
       "      <td>102.0</td>\n",
       "      <td>...</td>\n",
       "      <td>NaN</td>\n",
       "      <td>NaN</td>\n",
       "      <td>NaN</td>\n",
       "      <td>NaN</td>\n",
       "      <td>NaN</td>\n",
       "      <td>NaN</td>\n",
       "      <td>NaN</td>\n",
       "      <td>NaN</td>\n",
       "      <td>NaN</td>\n",
       "      <td>NaN</td>\n",
       "    </tr>\n",
       "    <tr>\n",
       "      <th>2</th>\n",
       "      <td>2987002</td>\n",
       "      <td>0</td>\n",
       "      <td>86469</td>\n",
       "      <td>59.0</td>\n",
       "      <td>W</td>\n",
       "      <td>4663</td>\n",
       "      <td>490.0</td>\n",
       "      <td>150.0</td>\n",
       "      <td>visa</td>\n",
       "      <td>166.0</td>\n",
       "      <td>...</td>\n",
       "      <td>NaN</td>\n",
       "      <td>NaN</td>\n",
       "      <td>NaN</td>\n",
       "      <td>NaN</td>\n",
       "      <td>NaN</td>\n",
       "      <td>NaN</td>\n",
       "      <td>NaN</td>\n",
       "      <td>NaN</td>\n",
       "      <td>NaN</td>\n",
       "      <td>NaN</td>\n",
       "    </tr>\n",
       "    <tr>\n",
       "      <th>3</th>\n",
       "      <td>2987003</td>\n",
       "      <td>0</td>\n",
       "      <td>86499</td>\n",
       "      <td>50.0</td>\n",
       "      <td>W</td>\n",
       "      <td>18132</td>\n",
       "      <td>567.0</td>\n",
       "      <td>150.0</td>\n",
       "      <td>mastercard</td>\n",
       "      <td>117.0</td>\n",
       "      <td>...</td>\n",
       "      <td>NaN</td>\n",
       "      <td>NaN</td>\n",
       "      <td>NaN</td>\n",
       "      <td>NaN</td>\n",
       "      <td>NaN</td>\n",
       "      <td>NaN</td>\n",
       "      <td>NaN</td>\n",
       "      <td>NaN</td>\n",
       "      <td>NaN</td>\n",
       "      <td>NaN</td>\n",
       "    </tr>\n",
       "  </tbody>\n",
       "</table>\n",
       "<p>4 rows × 394 columns</p>\n",
       "</div>"
      ],
      "text/plain": [
       "   TransactionID  isFraud  TransactionDT  TransactionAmt ProductCD  card1  \\\n",
       "0        2987000        0          86400            68.5         W  13926   \n",
       "1        2987001        0          86401            29.0         W   2755   \n",
       "2        2987002        0          86469            59.0         W   4663   \n",
       "3        2987003        0          86499            50.0         W  18132   \n",
       "\n",
       "   card2  card3       card4  card5  ... V330  V331  V332  V333  V334 V335  \\\n",
       "0    NaN  150.0    discover  142.0  ...  NaN   NaN   NaN   NaN   NaN  NaN   \n",
       "1  404.0  150.0  mastercard  102.0  ...  NaN   NaN   NaN   NaN   NaN  NaN   \n",
       "2  490.0  150.0        visa  166.0  ...  NaN   NaN   NaN   NaN   NaN  NaN   \n",
       "3  567.0  150.0  mastercard  117.0  ...  NaN   NaN   NaN   NaN   NaN  NaN   \n",
       "\n",
       "  V336  V337  V338  V339  \n",
       "0  NaN   NaN   NaN   NaN  \n",
       "1  NaN   NaN   NaN   NaN  \n",
       "2  NaN   NaN   NaN   NaN  \n",
       "3  NaN   NaN   NaN   NaN  \n",
       "\n",
       "[4 rows x 394 columns]"
      ]
     },
     "execution_count": 2,
     "metadata": {},
     "output_type": "execute_result"
    }
   ],
   "source": [
    "data=pd.read_csv('data30.csv')\n",
    "print('data.shape={} rows, {} columns'.format(*data.shape))\n",
    "print(f'data {len(data.index)} rows, {len(data.axes[1])} columns')\n",
    "data.head(4)"
   ]
  },
  {
   "cell_type": "code",
   "execution_count": 3,
   "id": "9fb6e910-bec7-4edb-b674-b6ed2bbf106b",
   "metadata": {},
   "outputs": [
    {
     "data": {
      "text/plain": [
       "TransactionAmt    0\n",
       "card1             0\n",
       "C1                0\n",
       "C2                0\n",
       "C3                0\n",
       "C4                0\n",
       "C5                0\n",
       "C6                0\n",
       "C7                0\n",
       "C8                0\n",
       "C9                0\n",
       "C10               0\n",
       "C11               0\n",
       "C12               0\n",
       "C13               0\n",
       "C14               0\n",
       "D1                0\n",
       "dtype: int64"
      ]
     },
     "execution_count": 3,
     "metadata": {},
     "output_type": "execute_result"
    }
   ],
   "source": [
    "data[['TransactionAmt', 'card1', 'C1', 'C2', 'C3', 'C4', 'C5', 'C6', 'C7', 'C8', 'C9', 'C10', 'C11', 'C12', 'C13', 'C14', 'D1']].isna().sum()"
   ]
  },
  {
   "cell_type": "code",
   "execution_count": 4,
   "id": "fa3e195c-13e0-4e37-802e-4deb6ebd3a8c",
   "metadata": {},
   "outputs": [
    {
     "name": "stdout",
     "output_type": "stream",
     "text": [
      "x_train = 70000 rows, 17 columns\n",
      "x_valid = 30000 rows, 17 columns\n"
     ]
    }
   ],
   "source": [
    "x_train, x_valid=train_test_split(data\n",
    "    [[ 'TransactionAmt', 'card1', 'C1', 'C2', 'C3', 'C4', 'C5', 'C6', 'C7', 'C8', 'C9', 'C10', 'C11', 'C12', 'C13', 'C14', 'D1']],\n",
    "                                  train_size=0.7, shuffle=True, random_state=1)\n",
    "\n",
    "y_train, y_valid=train_test_split(data['isFraud'], train_size=0.7, shuffle=True, random_state=1)\n",
    "\n",
    "print(f'x_train = {len(x_train.axes[0])} rows, {len(x_train.axes[1])} columns')\n",
    "print(f'x_valid = {len(x_valid.axes[0])} rows, {len(x_valid.axes[1])} columns')"
   ]
  },
  {
   "cell_type": "code",
   "execution_count": 5,
   "id": "b91df4dc-30fa-439d-8714-8e538a020837",
   "metadata": {},
   "outputs": [],
   "source": [
    "def fit_evaluate_model(estimator, x_train, y_train, x_valid, y_valid):\n",
    "    \n",
    "    estimator.fit(x_train, y_train)\n",
    "    y_train_pred=estimator.predict_proba(x_train)[:,1]\n",
    "    y_valid_pred=estimator.predict_proba(x_valid)[:,1]\n",
    "    \n",
    "    train_score=roc_auc_score(y_train, y_train_pred)\n",
    "    valid_score=roc_auc_score(y_valid, y_valid_pred)\n",
    "    print(f' Model score: train = {round(train_score, 4)}, valid = {round(valid_score, 4)}')\n",
    "    \n",
    "    return y_train_pred, y_valid_pred\n",
    "\n",
    "def plot_validation_curves(train_scores: np.array, valid_scores: np.array, figsize: Tuple[int, int] = (8, 8)):\n",
    "    \n",
    "    fig=plt.figure(figsize=figsize)\n",
    "    \n",
    "    plt.title('Validation Curves', size=15)\n",
    "    \n",
    "    plt.plot(range(train_scores.shape[0]), np.mean(train_scores, axis=1), label='Train', linewidth=3, marker='s')\n",
    "    \n",
    "    plt.fill_between(x=range(train_scores.shape[0]), y1=np.mean(train_scores, axis=1)-np.std(train_scores, axis=1), y2=np.mean(train_scores, axis=1)+np.std(train_scores, axis=1), alpha=0.25)\n",
    "    \n",
    "    plt.plot(range(train_scores.shape[0]), np.mean(valid_scores, axis=1), label='Valid', linewidth=3, marker='s')\n",
    "    \n",
    "    plt.fill_between(x=range(train_scores.shape[0]), y1=np.mean(valid_scores, axis=1)-np.std(valid_scores, axis=1), y2=np.mean(valid_scores, axis=1)+np.std(valid_scores, axis=1), alpha=0.25)\n",
    "    \n",
    "    plt.legend(loc='best', fontsize=14)\n",
    "    plt.ylabel('roc_auc', size=15)\n",
    "    "
   ]
  },
  {
   "cell_type": "code",
   "execution_count": 6,
   "id": "143d12f1-9c76-4de8-a95f-08dc9191836e",
   "metadata": {},
   "outputs": [
    {
     "name": "stdout",
     "output_type": "stream",
     "text": [
      " Model score: train = 0.9998, valid = 0.8984\n"
     ]
    }
   ],
   "source": [
    "forest=RandomForestClassifier(random_state=27)\n",
    "\n",
    "y_train_pred, y_valid_pred=fit_evaluate_model(forest, x_train, y_train, x_valid, y_valid)"
   ]
  },
  {
   "cell_type": "code",
   "execution_count": 7,
   "id": "420abe4a-cc08-4d2d-a50c-a5eabb8232ba",
   "metadata": {},
   "outputs": [
    {
     "name": "stdout",
     "output_type": "stream",
     "text": [
      "Wall time: 1min 43s\n"
     ]
    }
   ],
   "source": [
    "%%time\n",
    "train_scores, valid_scores = validation_curve(\n",
    "    X=x_train,\n",
    "    y=y_train,\n",
    "    estimator=forest,\n",
    "    param_range=range(2, 15),\n",
    "    param_name=\"max_depth\",\n",
    "    scoring=\"roc_auc\",\n",
    "    n_jobs=1,\n",
    "    cv=3,\n",
    ")"
   ]
  },
  {
   "cell_type": "code",
   "execution_count": 8,
   "id": "5ff626e8-3805-4fed-808a-d137b42660dc",
   "metadata": {},
   "outputs": [
    {
     "data": {
      "image/png": "[encoded data removed]",
      "text/plain": [
       "<Figure size 576x576 with 1 Axes>"
      ]
     },
     "metadata": {
      "needs_background": "light"
     },
     "output_type": "display_data"
    }
   ],
   "source": [
    "plot_validation_curves (train_scores, valid_scores)"
   ]
  },
  {
   "cell_type": "code",
   "execution_count": 9,
   "id": "49824b91-8035-46c7-aec4-73e27b6cc227",
   "metadata": {},
   "outputs": [],
   "source": [
    "def create_bootstrap_samples(data: np.array, n_samples: int=1000) -> np.array:\n",
    "    \n",
    "    bootstrap_index=np.random.randint(low=0, high=len(data), size=(n_samples, len(data)))\n",
    "    \n",
    "    return bootstrap_index\n",
    "\n",
    "def create_bootstrap_metrics(y_true: np.array, y_pred: np.array, metric: callable, n_samples: int=1000)->List[float]:\n",
    "    \n",
    "    scores=[]\n",
    "    \n",
    "    if isinstance(y_true, pd.Series):\n",
    "        y_true =y_true.values\n",
    "        \n",
    "    bootstrap_index=create_bootstrap_samples(y_true)\n",
    "    for idx in bootstrap_index:\n",
    "        y_true_bootstrap = y_true[idx]\n",
    "        y_pred_bootstrap = y_pred[idx]\n",
    "        \n",
    "        score= metric(y_true_bootstrap, y_pred_bootstrap)\n",
    "        scores.append(score)\n",
    "        \n",
    "    return scores\n",
    "    \n",
    "def calculate_confidence_interval(scores: list, conf_interval: float=0.95)-> Tuple[float]:\n",
    "    \n",
    "    left_bound = np.percentile(scores, ((1-conf_interval)/2)*100)\n",
    "    right_bound = np.percentile(scores, (conf_interval+((1-conf_interval)/2))*100)    \n",
    "    \n",
    "    return round(left_bound, 4), round(right_bound, 4), round(left_bound+right_bound, 4)"
   ]
  },
  {
   "cell_type": "code",
   "execution_count": 10,
   "id": "0869c57b-d39b-4e26-a6f0-984362388de4",
   "metadata": {},
   "outputs": [
    {
     "name": "stdout",
     "output_type": "stream",
     "text": [
      " Model score: train = 0.9714, valid = 0.9078\n",
      "Wall time: 6.04 s\n"
     ]
    }
   ],
   "source": [
    "%%time\n",
    "forest=RandomForestClassifier(max_depth=14, random_state=27)\n",
    "\n",
    "y_train_pred, y_valid_pred=fit_evaluate_model(forest, x_train, y_train, x_valid, y_valid)"
   ]
  },
  {
   "cell_type": "code",
   "execution_count": 12,
   "id": "aa482bdc-68db-4555-8587-464b66a876ba",
   "metadata": {},
   "outputs": [
    {
     "name": "stdout",
     "output_type": "stream",
     "text": [
      "Wall time: 7.13 s\n"
     ]
    },
    {
     "data": {
      "text/plain": [
       "(0.8932, 0.9221, 1.8153)"
      ]
     },
     "execution_count": 12,
     "metadata": {},
     "output_type": "execute_result"
    }
   ],
   "source": [
    "%%time\n",
    "np.random.seed(27)\n",
    "scores = create_bootstrap_metrics(y_valid, y_valid_pred, roc_auc_score)\n",
    "calculate_confidence_interval(scores)"
   ]
  },
  {
   "cell_type": "code",
   "execution_count": null,
   "id": "0ba0e402-3788-4e34-a9f1-bee5f79a2546",
   "metadata": {},
   "outputs": [],
   "source": []
  }
 ],
 "metadata": {
  "kernelspec": {
   "display_name": "Python 3 (ipykernel)",
   "language": "python",
   "name": "python3"
  },
  "language_info": {
   "codemirror_mode": {
    "name": "ipython",
    "version": 3
   },
   "file_extension": ".py",
   "mimetype": "text/x-python",
   "name": "python",
   "nbconvert_exporter": "python",
   "pygments_lexer": "ipython3",
   "version": "3.10.2"
  }
 },
 "nbformat": 4,
 "nbformat_minor": 5
}
