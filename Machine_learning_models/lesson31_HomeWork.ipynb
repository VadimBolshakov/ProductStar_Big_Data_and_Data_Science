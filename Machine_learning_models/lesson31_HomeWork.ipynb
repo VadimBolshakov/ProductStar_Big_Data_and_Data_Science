{
 "cells": [
  {
   "cell_type": "code",
   "execution_count": 1,
   "id": "7adc5fdf-ce87-4776-a113-dbe689d70354",
   "metadata": {},
   "outputs": [],
   "source": [
    "from typing import Tuple\n",
    "\n",
    "import numpy as np\n",
    "import pandas as pd\n",
    "import matplotlib.pyplot as plt\n",
    "\n",
    "from sklearn.metrics import roc_auc_score\n",
    "from sklearn.tree import DecisionTreeRegressor\n",
    "from sklearn.tree import DecisionTreeClassifier\n",
    "from sklearn.model_selection import train_test_split\n",
    "from sklearn.model_selection import validation_curve, learning_curve"
   ]
  },
  {
   "cell_type": "code",
   "execution_count": 2,
   "id": "5ab6c356-26bc-42ba-9b82-10bc54060bbf",
   "metadata": {},
   "outputs": [
    {
     "name": "stdout",
     "output_type": "stream",
     "text": [
      "data.shape=100000 rows, 394 columns\n",
      "data 100000 rows, 394 columns\n"
     ]
    },
    {
     "data": {
      "text/html": [
       "<div>\n",
       "<style scoped>\n",
       "    .dataframe tbody tr th:only-of-type {\n",
       "        vertical-align: middle;\n",
       "    }\n",
       "\n",
       "    .dataframe tbody tr th {\n",
       "        vertical-align: top;\n",
       "    }\n",
       "\n",
       "    .dataframe thead th {\n",
       "        text-align: right;\n",
       "    }\n",
       "</style>\n",
       "<table border=\"1\" class=\"dataframe\">\n",
       "  <thead>\n",
       "    <tr style=\"text-align: right;\">\n",
       "      <th></th>\n",
       "      <th>TransactionID</th>\n",
       "      <th>isFraud</th>\n",
       "      <th>TransactionDT</th>\n",
       "      <th>TransactionAmt</th>\n",
       "      <th>ProductCD</th>\n",
       "      <th>card1</th>\n",
       "      <th>card2</th>\n",
       "      <th>card3</th>\n",
       "      <th>card4</th>\n",
       "      <th>card5</th>\n",
       "      <th>...</th>\n",
       "      <th>V330</th>\n",
       "      <th>V331</th>\n",
       "      <th>V332</th>\n",
       "      <th>V333</th>\n",
       "      <th>V334</th>\n",
       "      <th>V335</th>\n",
       "      <th>V336</th>\n",
       "      <th>V337</th>\n",
       "      <th>V338</th>\n",
       "      <th>V339</th>\n",
       "    </tr>\n",
       "  </thead>\n",
       "  <tbody>\n",
       "    <tr>\n",
       "      <th>0</th>\n",
       "      <td>2987000</td>\n",
       "      <td>0</td>\n",
       "      <td>86400</td>\n",
       "      <td>68.5</td>\n",
       "      <td>W</td>\n",
       "      <td>13926</td>\n",
       "      <td>NaN</td>\n",
       "      <td>150.0</td>\n",
       "      <td>discover</td>\n",
       "      <td>142.0</td>\n",
       "      <td>...</td>\n",
       "      <td>NaN</td>\n",
       "      <td>NaN</td>\n",
       "      <td>NaN</td>\n",
       "      <td>NaN</td>\n",
       "      <td>NaN</td>\n",
       "      <td>NaN</td>\n",
       "      <td>NaN</td>\n",
       "      <td>NaN</td>\n",
       "      <td>NaN</td>\n",
       "      <td>NaN</td>\n",
       "    </tr>\n",
       "    <tr>\n",
       "      <th>1</th>\n",
       "      <td>2987001</td>\n",
       "      <td>0</td>\n",
       "      <td>86401</td>\n",
       "      <td>29.0</td>\n",
       "      <td>W</td>\n",
       "      <td>2755</td>\n",
       "      <td>404.0</td>\n",
       "      <td>150.0</td>\n",
       "      <td>mastercard</td>\n",
       "      <td>102.0</td>\n",
       "      <td>...</td>\n",
       "      <td>NaN</td>\n",
       "      <td>NaN</td>\n",
       "      <td>NaN</td>\n",
       "      <td>NaN</td>\n",
       "      <td>NaN</td>\n",
       "      <td>NaN</td>\n",
       "      <td>NaN</td>\n",
       "      <td>NaN</td>\n",
       "      <td>NaN</td>\n",
       "      <td>NaN</td>\n",
       "    </tr>\n",
       "    <tr>\n",
       "      <th>2</th>\n",
       "      <td>2987002</td>\n",
       "      <td>0</td>\n",
       "      <td>86469</td>\n",
       "      <td>59.0</td>\n",
       "      <td>W</td>\n",
       "      <td>4663</td>\n",
       "      <td>490.0</td>\n",
       "      <td>150.0</td>\n",
       "      <td>visa</td>\n",
       "      <td>166.0</td>\n",
       "      <td>...</td>\n",
       "      <td>NaN</td>\n",
       "      <td>NaN</td>\n",
       "      <td>NaN</td>\n",
       "      <td>NaN</td>\n",
       "      <td>NaN</td>\n",
       "      <td>NaN</td>\n",
       "      <td>NaN</td>\n",
       "      <td>NaN</td>\n",
       "      <td>NaN</td>\n",
       "      <td>NaN</td>\n",
       "    </tr>\n",
       "    <tr>\n",
       "      <th>3</th>\n",
       "      <td>2987003</td>\n",
       "      <td>0</td>\n",
       "      <td>86499</td>\n",
       "      <td>50.0</td>\n",
       "      <td>W</td>\n",
       "      <td>18132</td>\n",
       "      <td>567.0</td>\n",
       "      <td>150.0</td>\n",
       "      <td>mastercard</td>\n",
       "      <td>117.0</td>\n",
       "      <td>...</td>\n",
       "      <td>NaN</td>\n",
       "      <td>NaN</td>\n",
       "      <td>NaN</td>\n",
       "      <td>NaN</td>\n",
       "      <td>NaN</td>\n",
       "      <td>NaN</td>\n",
       "      <td>NaN</td>\n",
       "      <td>NaN</td>\n",
       "      <td>NaN</td>\n",
       "      <td>NaN</td>\n",
       "    </tr>\n",
       "  </tbody>\n",
       "</table>\n",
       "<p>4 rows × 394 columns</p>\n",
       "</div>"
      ],
      "text/plain": [
       "   TransactionID  isFraud  TransactionDT  TransactionAmt ProductCD  card1  \\\n",
       "0        2987000        0          86400            68.5         W  13926   \n",
       "1        2987001        0          86401            29.0         W   2755   \n",
       "2        2987002        0          86469            59.0         W   4663   \n",
       "3        2987003        0          86499            50.0         W  18132   \n",
       "\n",
       "   card2  card3       card4  card5  ... V330  V331  V332  V333  V334 V335  \\\n",
       "0    NaN  150.0    discover  142.0  ...  NaN   NaN   NaN   NaN   NaN  NaN   \n",
       "1  404.0  150.0  mastercard  102.0  ...  NaN   NaN   NaN   NaN   NaN  NaN   \n",
       "2  490.0  150.0        visa  166.0  ...  NaN   NaN   NaN   NaN   NaN  NaN   \n",
       "3  567.0  150.0  mastercard  117.0  ...  NaN   NaN   NaN   NaN   NaN  NaN   \n",
       "\n",
       "  V336  V337  V338  V339  \n",
       "0  NaN   NaN   NaN   NaN  \n",
       "1  NaN   NaN   NaN   NaN  \n",
       "2  NaN   NaN   NaN   NaN  \n",
       "3  NaN   NaN   NaN   NaN  \n",
       "\n",
       "[4 rows x 394 columns]"
      ]
     },
     "execution_count": 2,
     "metadata": {},
     "output_type": "execute_result"
    }
   ],
   "source": [
    "data=pd.read_csv('data30.csv')\n",
    "print('data.shape={} rows, {} columns'.format(*data.shape))\n",
    "print(f'data {len(data.index)} rows, {len(data.axes[1])} columns')\n",
    "data.head(4)"
   ]
  },
  {
   "cell_type": "code",
   "execution_count": 3,
   "id": "6407f63d-fb7a-4bee-9845-12a1402403fd",
   "metadata": {},
   "outputs": [
    {
     "data": {
      "text/plain": [
       "TransactionID       int64\n",
       "isFraud             int64\n",
       "TransactionDT       int64\n",
       "TransactionAmt    float64\n",
       "ProductCD          object\n",
       "                   ...   \n",
       "V335              float64\n",
       "V336              float64\n",
       "V337              float64\n",
       "V338              float64\n",
       "V339              float64\n",
       "Length: 394, dtype: object"
      ]
     },
     "execution_count": 3,
     "metadata": {},
     "output_type": "execute_result"
    }
   ],
   "source": [
    "data.dtypes"
   ]
  },
  {
   "cell_type": "code",
   "execution_count": 4,
   "id": "5c49bf58-d95d-4102-b423-353f4b973028",
   "metadata": {
    "tags": []
   },
   "outputs": [
    {
     "name": "stdout",
     "output_type": "stream",
     "text": [
      "---- ProductCD -----\n",
      "W    56878\n",
      "H    15521\n",
      "R    13724\n",
      "C    11351\n",
      "S     2526\n",
      "Name: ProductCD, dtype: int64\n",
      "---- card4 -----\n",
      "visa                65602\n",
      "mastercard          29599\n",
      "american express     3330\n",
      "discover             1462\n",
      "Name: card4, dtype: int64\n",
      "---- card6 -----\n",
      "debit              64923\n",
      "credit             35063\n",
      "debit or credit        7\n",
      "charge card            3\n",
      "Name: card6, dtype: int64\n",
      "---- P_emaildomain -----\n",
      "gmail.com           36290\n",
      "yahoo.com           15883\n",
      "anonymous.com        8663\n",
      "hotmail.com          8119\n",
      "aol.com              4866\n",
      "comcast.net          1856\n",
      "icloud.com            894\n",
      "msn.com               852\n",
      "outlook.com           767\n",
      "att.net               694\n",
      "sbcglobal.net         671\n",
      "verizon.net           626\n",
      "live.com              501\n",
      "bellsouth.net         440\n",
      "cox.net               376\n",
      "me.com                373\n",
      "ymail.com             369\n",
      "yahoo.com.mx          292\n",
      "charter.net           233\n",
      "optonline.net         212\n",
      "live.com.mx           133\n",
      "mac.com               122\n",
      "rocketmail.com        110\n",
      "earthlink.net          98\n",
      "mail.com               76\n",
      "embarqmail.com         70\n",
      "roadrunner.com         68\n",
      "juno.com               66\n",
      "outlook.es             60\n",
      "gmail                  60\n",
      "twc.com                54\n",
      "windstream.net         54\n",
      "frontier.com           49\n",
      "hotmail.es             47\n",
      "frontiernet.net        42\n",
      "netzero.com            41\n",
      "q.com                  41\n",
      "cfl.rr.com             39\n",
      "web.de                 39\n",
      "aim.com                39\n",
      "prodigy.net.mx         36\n",
      "hotmail.fr             32\n",
      "suddenlink.net         29\n",
      "yahoo.fr               27\n",
      "netzero.net            26\n",
      "cableone.net           23\n",
      "gmx.de                 21\n",
      "centurylink.net        20\n",
      "ptd.net                20\n",
      "yahoo.es               19\n",
      "yahoo.co.uk            16\n",
      "sc.rr.com              15\n",
      "hotmail.co.uk          11\n",
      "protonmail.com          8\n",
      "servicios-ta.com        7\n",
      "yahoo.de                7\n",
      "hotmail.de              2\n",
      "live.fr                 2\n",
      "yahoo.co.jp             1\n",
      "Name: P_emaildomain, dtype: int64\n",
      "---- R_emaildomain -----\n",
      "gmail.com           13024\n",
      "anonymous.com        6954\n",
      "hotmail.com          5422\n",
      "yahoo.com            3222\n",
      "aol.com              1327\n",
      "comcast.net           783\n",
      "outlook.com           438\n",
      "icloud.com            318\n",
      "msn.com               308\n",
      "yahoo.com.mx          291\n",
      "verizon.net           260\n",
      "sbcglobal.net         235\n",
      "cox.net               214\n",
      "bellsouth.net         185\n",
      "me.com                184\n",
      "live.com              173\n",
      "att.net               162\n",
      "live.com.mx           133\n",
      "ymail.com              79\n",
      "optonline.net          72\n",
      "mac.com                66\n",
      "outlook.es             59\n",
      "hotmail.es             47\n",
      "mail.com               42\n",
      "charter.net            41\n",
      "web.de                 38\n",
      "prodigy.net.mx         36\n",
      "hotmail.fr             32\n",
      "earthlink.net          30\n",
      "embarqmail.com         30\n",
      "frontier.com           28\n",
      "juno.com               26\n",
      "yahoo.fr               24\n",
      "windstream.net         22\n",
      "gmx.de                 20\n",
      "roadrunner.com         19\n",
      "rocketmail.com         18\n",
      "cfl.rr.com             18\n",
      "q.com                  16\n",
      "twc.com                14\n",
      "gmail                  14\n",
      "suddenlink.net         13\n",
      "yahoo.es               11\n",
      "ptd.net                11\n",
      "yahoo.co.uk            10\n",
      "yahoo.de               10\n",
      "frontiernet.net         9\n",
      "hotmail.co.uk           8\n",
      "aim.com                 8\n",
      "servicios-ta.com        7\n",
      "netzero.net             6\n",
      "cableone.net            6\n",
      "scranton.edu            5\n",
      "centurylink.net         5\n",
      "netzero.com             3\n",
      "hotmail.de              2\n",
      "live.fr                 2\n",
      "yahoo.co.jp             2\n",
      "protonmail.com          2\n",
      "sc.rr.com               2\n",
      "Name: R_emaildomain, dtype: int64\n",
      "---- M1 -----\n",
      "T    31447\n",
      "Name: M1, dtype: int64\n",
      "---- M2 -----\n",
      "T    28299\n",
      "F     3148\n",
      "Name: M2, dtype: int64\n",
      "---- M3 -----\n",
      "T    24600\n",
      "F     6847\n",
      "Name: M3, dtype: int64\n",
      "---- M4 -----\n",
      "M0    26211\n",
      "M2     9410\n",
      "M1     6709\n",
      "Name: M4, dtype: int64\n",
      "---- M5 -----\n",
      "F    17198\n",
      "T    13878\n",
      "Name: M5, dtype: int64\n",
      "---- M6 -----\n",
      "F    29255\n",
      "T    25158\n",
      "Name: M6, dtype: int64\n",
      "---- M7 -----\n",
      "F    13777\n",
      "T     2262\n",
      "Name: M7, dtype: int64\n",
      "---- M8 -----\n",
      "F    9956\n",
      "T    6083\n",
      "Name: M8, dtype: int64\n",
      "---- M9 -----\n",
      "T    13744\n",
      "F     2295\n",
      "Name: M9, dtype: int64\n",
      "Wall time: 79.1 ms\n"
     ]
    }
   ],
   "source": [
    "%%time\n",
    "for c in data.dtypes[data.dtypes==object].keys():\n",
    "    print('---- %s -----' %c)\n",
    "    print(data[c].value_counts())"
   ]
  },
  {
   "cell_type": "code",
   "execution_count": 5,
   "id": "84f9cb07-ed1a-4b14-ace5-55784e5af629",
   "metadata": {},
   "outputs": [
    {
     "data": {
      "text/plain": [
       "TransactionID         0\n",
       "isFraud               0\n",
       "TransactionDT         0\n",
       "TransactionAmt        0\n",
       "ProductCD             0\n",
       "                  ...  \n",
       "V335              68229\n",
       "V336              68229\n",
       "V337              68229\n",
       "V338              68229\n",
       "V339              68229\n",
       "Length: 394, dtype: int64"
      ]
     },
     "execution_count": 5,
     "metadata": {},
     "output_type": "execute_result"
    }
   ],
   "source": [
    "data.isna().sum()"
   ]
  },
  {
   "cell_type": "code",
   "execution_count": 6,
   "id": "d77f62d2-d007-4a3c-b563-af8df45569a7",
   "metadata": {},
   "outputs": [],
   "source": [
    "data.fillna(0, inplace=True)"
   ]
  },
  {
   "cell_type": "code",
   "execution_count": 7,
   "id": "0c9453e6-af93-436d-b76f-307e53b793ae",
   "metadata": {},
   "outputs": [
    {
     "data": {
      "text/plain": [
       "TransactionID     0\n",
       "isFraud           0\n",
       "TransactionDT     0\n",
       "TransactionAmt    0\n",
       "ProductCD         0\n",
       "                 ..\n",
       "V335              0\n",
       "V336              0\n",
       "V337              0\n",
       "V338              0\n",
       "V339              0\n",
       "Length: 394, dtype: int64"
      ]
     },
     "execution_count": 7,
     "metadata": {},
     "output_type": "execute_result"
    }
   ],
   "source": [
    "data.isna().sum()"
   ]
  },
  {
   "cell_type": "code",
   "execution_count": 14,
   "id": "4fcdd634-5731-4448-b650-4d990af98e48",
   "metadata": {},
   "outputs": [],
   "source": [
    "cat_features=['M1', 'M2', 'M3', 'M5', 'M6', 'M7', 'M8', 'M9']"
   ]
  },
  {
   "cell_type": "code",
   "execution_count": 16,
   "id": "0f47bb8f-d676-4028-9fe7-454cedd87fb9",
   "metadata": {},
   "outputs": [
    {
     "data": {
      "text/plain": [
       "TransactionAmt    0\n",
       "card1             0\n",
       "C1                0\n",
       "C2                0\n",
       "C3                0\n",
       "C4                0\n",
       "C5                0\n",
       "C6                0\n",
       "C7                0\n",
       "C8                0\n",
       "C9                0\n",
       "C10               0\n",
       "C11               0\n",
       "C12               0\n",
       "C13               0\n",
       "C14               0\n",
       "D1                0\n",
       "dtype: int64"
      ]
     },
     "execution_count": 16,
     "metadata": {},
     "output_type": "execute_result"
    }
   ],
   "source": [
    "data[['TransactionAmt', 'card1', 'C1', 'C2', 'C3', 'C4', 'C5', 'C6', 'C7', 'C8', 'C9', 'C10', 'C11', 'C12', 'C13', 'C14', 'D1']].isna().sum()"
   ]
  },
  {
   "cell_type": "code",
   "execution_count": 17,
   "id": "075d2f6c-f9af-4a31-b3df-b1cad7f6da39",
   "metadata": {},
   "outputs": [
    {
     "name": "stdout",
     "output_type": "stream",
     "text": [
      "x_train = 70000 rows, 17 columns\n",
      "x_valid = 30000 rows, 17 columns\n"
     ]
    }
   ],
   "source": [
    "#x_train, x_valid=train_test_split(data.drop(\n",
    "#    ['TransactionID', 'isFraud', 'ProductCD', 'card4', 'card6', 'P_emaildomain', 'R_emaildomain', 'M1', 'M2', 'M3', 'M4', 'M5', 'M6', 'M7', 'M8', 'M9'], axis=1),\n",
    "#                                  train_size=0.7, shuffle=True, random_state=1)\n",
    "\n",
    "x_train, x_valid=train_test_split(data\n",
    "    [[ 'TransactionAmt', 'card1', 'C1', 'C2', 'C3', 'C4', 'C5', 'C6', 'C7', 'C8', 'C9', 'C10', 'C11', 'C12', 'C13', 'C14', 'D1']],\n",
    "                                  train_size=0.7, shuffle=True, random_state=1)\n",
    "\n",
    "y_train, y_valid=train_test_split(data['isFraud'], train_size=0.7, shuffle=True, random_state=1)\n",
    "\n",
    "print(f'x_train = {len(x_train.axes[0])} rows, {len(x_train.axes[1])} columns')\n",
    "print(f'x_valid = {len(x_valid.axes[0])} rows, {len(x_valid.axes[1])} columns')"
   ]
  },
  {
   "cell_type": "code",
   "execution_count": 18,
   "id": "ac8dd272-ccb0-4783-8bb2-6dbe79061c31",
   "metadata": {},
   "outputs": [
    {
     "name": "stdout",
     "output_type": "stream",
     "text": [
      "Wall time: 342 ms\n"
     ]
    },
    {
     "data": {
      "text/plain": [
       "DecisionTreeClassifier(random_state=1)"
      ]
     },
     "execution_count": 18,
     "metadata": {},
     "output_type": "execute_result"
    }
   ],
   "source": [
    "%%time\n",
    "model=DecisionTreeClassifier(random_state=1)\n",
    "model.fit(x_train, y_train)"
   ]
  },
  {
   "cell_type": "code",
   "execution_count": 19,
   "id": "9872cbfc-c23a-4737-a595-8679932ecce9",
   "metadata": {},
   "outputs": [
    {
     "name": "stdout",
     "output_type": "stream",
     "text": [
      "train_score= 0.999969416935695, valid_score= 0.78439\n"
     ]
    }
   ],
   "source": [
    "train_score=roc_auc_score(y_train, model.predict_proba(x_train)[:,1])\n",
    "valid_score=roc_auc_score(y_valid, model.predict_proba(x_valid)[:,1])\n",
    "\n",
    "print(f'train_score= {round(train_score, 34)}, valid_score= {round(valid_score, 5)}')"
   ]
  },
  {
   "cell_type": "code",
   "execution_count": 27,
   "id": "d940c197-7886-4d43-8e30-b54f40f4bdcc",
   "metadata": {},
   "outputs": [],
   "source": [
    "def plot_validation_curves (train_scores: np.array, valid_scores: np.array, figsize: Tuple[int, int] = (12, 8)):\n",
    "    \n",
    "    fig=plt.figure(figsize=figsize)\n",
    "    \n",
    "    plt.title('Validation Curves', size=15)\n",
    "    \n",
    "    plt.plot(range(train_scores.shape[0]), np.mean(train_scores, axis=1), label='Train', linewidth=3, marker='s')\n",
    "    \n",
    "    plt.fill_between(x=range(train_scores.shape[0]), y1=np.mean(train_scores, axis=1)-np.std(train_scores, axis=1), y2=np.mean(train_scores, axis=1)+np.std(train_scores, axis=1), alpha=0.25)\n",
    "    \n",
    "    plt.plot(range(train_scores.shape[0]), np.mean(valid_scores, axis=1), label='Valid', linewidth=3, marker='s')\n",
    "    \n",
    "    plt.fill_between(x=range(train_scores.shape[0]), y1=np.mean(valid_scores, axis=1)-np.std(valid_scores, axis=1), y2=np.mean(valid_scores, axis=1)+np.std(valid_scores, axis=1), alpha=0.25)\n",
    "    \n",
    "    plt.legend(loc='best', fontsize=14)\n",
    "    plt.ylabel('roc_auc', size=15)"
   ]
  },
  {
   "cell_type": "code",
   "execution_count": 35,
   "id": "b24523ea-a401-49be-b2b6-f889ad8acb19",
   "metadata": {},
   "outputs": [
    {
     "name": "stdout",
     "output_type": "stream",
     "text": [
      "Wall time: 2.91 s\n"
     ]
    }
   ],
   "source": [
    "%%time\n",
    "train_scores, valid_scores = validation_curve(\n",
    "    X=x_train,\n",
    "    y=y_train,\n",
    "    estimator=DecisionTreeClassifier(random_state=1),\n",
    "    param_range=[-1, 2, 3, 4, 5, 6, 7, 8, 9, 10, 11, 12],\n",
    "    param_name='max_depth',\n",
    "    scoring='roc_auc',\n",
    "    n_jobs=-1,\n",
    "    cv=5,)"
   ]
  },
  {
   "cell_type": "code",
   "execution_count": 36,
   "id": "7577f886-5ada-456d-8516-7212fb3ee924",
   "metadata": {},
   "outputs": [
    {
     "data": {
      "text/plain": [
       "(12, 5)"
      ]
     },
     "execution_count": 36,
     "metadata": {},
     "output_type": "execute_result"
    }
   ],
   "source": [
    "train_scores.shape"
   ]
  },
  {
   "cell_type": "code",
   "execution_count": 37,
   "id": "81761d80-ac3b-473f-b3de-41f4e76f2cb3",
   "metadata": {},
   "outputs": [
    {
     "data": {
      "image/png": "[encoded data removed]",
      "text/plain": [
       "<Figure size 864x576 with 1 Axes>"
      ]
     },
     "metadata": {
      "needs_background": "light"
     },
     "output_type": "display_data"
    }
   ],
   "source": [
    "plot_validation_curves (train_scores, valid_scores)"
   ]
  },
  {
   "cell_type": "code",
   "execution_count": 38,
   "id": "7798e422-14a8-4511-a798-31de26c057b3",
   "metadata": {},
   "outputs": [
    {
     "data": {
      "text/plain": [
       "array([       nan, 0.66891588, 0.70032688, 0.73783158, 0.77629956,\n",
       "       0.78593014, 0.79428181, 0.79695735, 0.79279986, 0.78614543,\n",
       "       0.78176499, 0.78335514])"
      ]
     },
     "execution_count": 38,
     "metadata": {},
     "output_type": "execute_result"
    }
   ],
   "source": [
    "np.mean(valid_scores, axis=1)"
   ]
  }
 ],
 "metadata": {
  "kernelspec": {
   "display_name": "Python 3 (ipykernel)",
   "language": "python",
   "name": "python3"
  },
  "language_info": {
   "codemirror_mode": {
    "name": "ipython",
    "version": 3
   },
   "file_extension": ".py",
   "mimetype": "text/x-python",
   "name": "python",
   "nbconvert_exporter": "python",
   "pygments_lexer": "ipython3",
   "version": "3.10.2"
  }
 },
 "nbformat": 4,
 "nbformat_minor": 5
}
