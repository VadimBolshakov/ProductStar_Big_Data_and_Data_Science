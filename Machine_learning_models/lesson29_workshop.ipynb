{
 "cells": [
  {
   "cell_type": "code",
   "execution_count": 1,
   "id": "ca196888-e8ed-4bbd-89fa-5b678cb2ba81",
   "metadata": {},
   "outputs": [
    {
     "name": "stdout",
     "output_type": "stream",
     "text": [
      "Wall time: 435 ms\n"
     ]
    }
   ],
   "source": [
    "%%time\n",
    "import numpy as np\n",
    "import pandas as pd"
   ]
  },
  {
   "cell_type": "code",
   "execution_count": 2,
   "id": "2b05fbef-3487-4cd1-9d86-8284baf47aca",
   "metadata": {},
   "outputs": [],
   "source": [
    "df=pd.read_csv('application_train.csv')"
   ]
  },
  {
   "cell_type": "code",
   "execution_count": 3,
   "id": "6612d220-c495-46ea-aa90-7c1cf9325300",
   "metadata": {},
   "outputs": [
    {
     "data": {
      "text/html": [
       "<div>\n",
       "<style scoped>\n",
       "    .dataframe tbody tr th:only-of-type {\n",
       "        vertical-align: middle;\n",
       "    }\n",
       "\n",
       "    .dataframe tbody tr th {\n",
       "        vertical-align: top;\n",
       "    }\n",
       "\n",
       "    .dataframe thead th {\n",
       "        text-align: right;\n",
       "    }\n",
       "</style>\n",
       "<table border=\"1\" class=\"dataframe\">\n",
       "  <thead>\n",
       "    <tr style=\"text-align: right;\">\n",
       "      <th></th>\n",
       "      <th>SK_ID_CURR</th>\n",
       "      <th>TARGET</th>\n",
       "      <th>NAME_CONTRACT_TYPE</th>\n",
       "      <th>CODE_GENDER</th>\n",
       "      <th>FLAG_OWN_CAR</th>\n",
       "      <th>FLAG_OWN_REALTY</th>\n",
       "      <th>CNT_CHILDREN</th>\n",
       "      <th>AMT_INCOME_TOTAL</th>\n",
       "      <th>AMT_CREDIT</th>\n",
       "      <th>AMT_ANNUITY</th>\n",
       "      <th>...</th>\n",
       "      <th>FLAG_DOCUMENT_18</th>\n",
       "      <th>FLAG_DOCUMENT_19</th>\n",
       "      <th>FLAG_DOCUMENT_20</th>\n",
       "      <th>FLAG_DOCUMENT_21</th>\n",
       "      <th>AMT_REQ_CREDIT_BUREAU_HOUR</th>\n",
       "      <th>AMT_REQ_CREDIT_BUREAU_DAY</th>\n",
       "      <th>AMT_REQ_CREDIT_BUREAU_WEEK</th>\n",
       "      <th>AMT_REQ_CREDIT_BUREAU_MON</th>\n",
       "      <th>AMT_REQ_CREDIT_BUREAU_QRT</th>\n",
       "      <th>AMT_REQ_CREDIT_BUREAU_YEAR</th>\n",
       "    </tr>\n",
       "  </thead>\n",
       "  <tbody>\n",
       "    <tr>\n",
       "      <th>0</th>\n",
       "      <td>149741</td>\n",
       "      <td>1</td>\n",
       "      <td>Cash loans</td>\n",
       "      <td>F</td>\n",
       "      <td>N</td>\n",
       "      <td>N</td>\n",
       "      <td>0</td>\n",
       "      <td>117000.0</td>\n",
       "      <td>417024.0</td>\n",
       "      <td>20191.5</td>\n",
       "      <td>...</td>\n",
       "      <td>0</td>\n",
       "      <td>0</td>\n",
       "      <td>0</td>\n",
       "      <td>0</td>\n",
       "      <td>0.0</td>\n",
       "      <td>0.0</td>\n",
       "      <td>0.0</td>\n",
       "      <td>0.0</td>\n",
       "      <td>0.0</td>\n",
       "      <td>3.0</td>\n",
       "    </tr>\n",
       "    <tr>\n",
       "      <th>1</th>\n",
       "      <td>363290</td>\n",
       "      <td>0</td>\n",
       "      <td>Cash loans</td>\n",
       "      <td>M</td>\n",
       "      <td>N</td>\n",
       "      <td>Y</td>\n",
       "      <td>0</td>\n",
       "      <td>450000.0</td>\n",
       "      <td>640080.0</td>\n",
       "      <td>31261.5</td>\n",
       "      <td>...</td>\n",
       "      <td>0</td>\n",
       "      <td>0</td>\n",
       "      <td>0</td>\n",
       "      <td>0</td>\n",
       "      <td>0.0</td>\n",
       "      <td>0.0</td>\n",
       "      <td>0.0</td>\n",
       "      <td>0.0</td>\n",
       "      <td>0.0</td>\n",
       "      <td>1.0</td>\n",
       "    </tr>\n",
       "    <tr>\n",
       "      <th>2</th>\n",
       "      <td>436006</td>\n",
       "      <td>0</td>\n",
       "      <td>Revolving loans</td>\n",
       "      <td>M</td>\n",
       "      <td>Y</td>\n",
       "      <td>Y</td>\n",
       "      <td>0</td>\n",
       "      <td>450000.0</td>\n",
       "      <td>900000.0</td>\n",
       "      <td>45000.0</td>\n",
       "      <td>...</td>\n",
       "      <td>0</td>\n",
       "      <td>0</td>\n",
       "      <td>0</td>\n",
       "      <td>0</td>\n",
       "      <td>0.0</td>\n",
       "      <td>0.0</td>\n",
       "      <td>0.0</td>\n",
       "      <td>0.0</td>\n",
       "      <td>2.0</td>\n",
       "      <td>0.0</td>\n",
       "    </tr>\n",
       "    <tr>\n",
       "      <th>3</th>\n",
       "      <td>377703</td>\n",
       "      <td>0</td>\n",
       "      <td>Cash loans</td>\n",
       "      <td>M</td>\n",
       "      <td>Y</td>\n",
       "      <td>N</td>\n",
       "      <td>1</td>\n",
       "      <td>360000.0</td>\n",
       "      <td>1125000.0</td>\n",
       "      <td>33025.5</td>\n",
       "      <td>...</td>\n",
       "      <td>0</td>\n",
       "      <td>0</td>\n",
       "      <td>0</td>\n",
       "      <td>0</td>\n",
       "      <td>0.0</td>\n",
       "      <td>0.0</td>\n",
       "      <td>0.0</td>\n",
       "      <td>0.0</td>\n",
       "      <td>0.0</td>\n",
       "      <td>1.0</td>\n",
       "    </tr>\n",
       "    <tr>\n",
       "      <th>4</th>\n",
       "      <td>188624</td>\n",
       "      <td>0</td>\n",
       "      <td>Cash loans</td>\n",
       "      <td>M</td>\n",
       "      <td>Y</td>\n",
       "      <td>Y</td>\n",
       "      <td>0</td>\n",
       "      <td>675000.0</td>\n",
       "      <td>835380.0</td>\n",
       "      <td>42840.0</td>\n",
       "      <td>...</td>\n",
       "      <td>0</td>\n",
       "      <td>0</td>\n",
       "      <td>0</td>\n",
       "      <td>0</td>\n",
       "      <td>0.0</td>\n",
       "      <td>0.0</td>\n",
       "      <td>0.0</td>\n",
       "      <td>0.0</td>\n",
       "      <td>0.0</td>\n",
       "      <td>2.0</td>\n",
       "    </tr>\n",
       "    <tr>\n",
       "      <th>...</th>\n",
       "      <td>...</td>\n",
       "      <td>...</td>\n",
       "      <td>...</td>\n",
       "      <td>...</td>\n",
       "      <td>...</td>\n",
       "      <td>...</td>\n",
       "      <td>...</td>\n",
       "      <td>...</td>\n",
       "      <td>...</td>\n",
       "      <td>...</td>\n",
       "      <td>...</td>\n",
       "      <td>...</td>\n",
       "      <td>...</td>\n",
       "      <td>...</td>\n",
       "      <td>...</td>\n",
       "      <td>...</td>\n",
       "      <td>...</td>\n",
       "      <td>...</td>\n",
       "      <td>...</td>\n",
       "      <td>...</td>\n",
       "      <td>...</td>\n",
       "    </tr>\n",
       "    <tr>\n",
       "      <th>49995</th>\n",
       "      <td>162717</td>\n",
       "      <td>0</td>\n",
       "      <td>Cash loans</td>\n",
       "      <td>M</td>\n",
       "      <td>N</td>\n",
       "      <td>N</td>\n",
       "      <td>0</td>\n",
       "      <td>202500.0</td>\n",
       "      <td>733315.5</td>\n",
       "      <td>39069.0</td>\n",
       "      <td>...</td>\n",
       "      <td>0</td>\n",
       "      <td>0</td>\n",
       "      <td>0</td>\n",
       "      <td>0</td>\n",
       "      <td>0.0</td>\n",
       "      <td>0.0</td>\n",
       "      <td>0.0</td>\n",
       "      <td>0.0</td>\n",
       "      <td>0.0</td>\n",
       "      <td>0.0</td>\n",
       "    </tr>\n",
       "    <tr>\n",
       "      <th>49996</th>\n",
       "      <td>167487</td>\n",
       "      <td>0</td>\n",
       "      <td>Revolving loans</td>\n",
       "      <td>F</td>\n",
       "      <td>N</td>\n",
       "      <td>Y</td>\n",
       "      <td>0</td>\n",
       "      <td>315000.0</td>\n",
       "      <td>157500.0</td>\n",
       "      <td>7875.0</td>\n",
       "      <td>...</td>\n",
       "      <td>0</td>\n",
       "      <td>0</td>\n",
       "      <td>0</td>\n",
       "      <td>0</td>\n",
       "      <td>0.0</td>\n",
       "      <td>0.0</td>\n",
       "      <td>0.0</td>\n",
       "      <td>0.0</td>\n",
       "      <td>2.0</td>\n",
       "      <td>3.0</td>\n",
       "    </tr>\n",
       "    <tr>\n",
       "      <th>49997</th>\n",
       "      <td>127931</td>\n",
       "      <td>0</td>\n",
       "      <td>Cash loans</td>\n",
       "      <td>M</td>\n",
       "      <td>N</td>\n",
       "      <td>Y</td>\n",
       "      <td>0</td>\n",
       "      <td>112500.0</td>\n",
       "      <td>225000.0</td>\n",
       "      <td>12915.0</td>\n",
       "      <td>...</td>\n",
       "      <td>0</td>\n",
       "      <td>0</td>\n",
       "      <td>0</td>\n",
       "      <td>0</td>\n",
       "      <td>0.0</td>\n",
       "      <td>0.0</td>\n",
       "      <td>0.0</td>\n",
       "      <td>0.0</td>\n",
       "      <td>0.0</td>\n",
       "      <td>1.0</td>\n",
       "    </tr>\n",
       "    <tr>\n",
       "      <th>49998</th>\n",
       "      <td>235316</td>\n",
       "      <td>0</td>\n",
       "      <td>Cash loans</td>\n",
       "      <td>M</td>\n",
       "      <td>N</td>\n",
       "      <td>Y</td>\n",
       "      <td>0</td>\n",
       "      <td>247500.0</td>\n",
       "      <td>755190.0</td>\n",
       "      <td>36459.0</td>\n",
       "      <td>...</td>\n",
       "      <td>0</td>\n",
       "      <td>0</td>\n",
       "      <td>0</td>\n",
       "      <td>0</td>\n",
       "      <td>0.0</td>\n",
       "      <td>0.0</td>\n",
       "      <td>0.0</td>\n",
       "      <td>0.0</td>\n",
       "      <td>0.0</td>\n",
       "      <td>1.0</td>\n",
       "    </tr>\n",
       "    <tr>\n",
       "      <th>49999</th>\n",
       "      <td>267946</td>\n",
       "      <td>0</td>\n",
       "      <td>Cash loans</td>\n",
       "      <td>F</td>\n",
       "      <td>Y</td>\n",
       "      <td>N</td>\n",
       "      <td>0</td>\n",
       "      <td>189000.0</td>\n",
       "      <td>545040.0</td>\n",
       "      <td>19575.0</td>\n",
       "      <td>...</td>\n",
       "      <td>0</td>\n",
       "      <td>0</td>\n",
       "      <td>0</td>\n",
       "      <td>0</td>\n",
       "      <td>0.0</td>\n",
       "      <td>0.0</td>\n",
       "      <td>0.0</td>\n",
       "      <td>2.0</td>\n",
       "      <td>2.0</td>\n",
       "      <td>3.0</td>\n",
       "    </tr>\n",
       "  </tbody>\n",
       "</table>\n",
       "<p>50000 rows × 122 columns</p>\n",
       "</div>"
      ],
      "text/plain": [
       "       SK_ID_CURR  TARGET NAME_CONTRACT_TYPE CODE_GENDER FLAG_OWN_CAR  \\\n",
       "0          149741       1         Cash loans           F            N   \n",
       "1          363290       0         Cash loans           M            N   \n",
       "2          436006       0    Revolving loans           M            Y   \n",
       "3          377703       0         Cash loans           M            Y   \n",
       "4          188624       0         Cash loans           M            Y   \n",
       "...           ...     ...                ...         ...          ...   \n",
       "49995      162717       0         Cash loans           M            N   \n",
       "49996      167487       0    Revolving loans           F            N   \n",
       "49997      127931       0         Cash loans           M            N   \n",
       "49998      235316       0         Cash loans           M            N   \n",
       "49999      267946       0         Cash loans           F            Y   \n",
       "\n",
       "      FLAG_OWN_REALTY  CNT_CHILDREN  AMT_INCOME_TOTAL  AMT_CREDIT  \\\n",
       "0                   N             0          117000.0    417024.0   \n",
       "1                   Y             0          450000.0    640080.0   \n",
       "2                   Y             0          450000.0    900000.0   \n",
       "3                   N             1          360000.0   1125000.0   \n",
       "4                   Y             0          675000.0    835380.0   \n",
       "...               ...           ...               ...         ...   \n",
       "49995               N             0          202500.0    733315.5   \n",
       "49996               Y             0          315000.0    157500.0   \n",
       "49997               Y             0          112500.0    225000.0   \n",
       "49998               Y             0          247500.0    755190.0   \n",
       "49999               N             0          189000.0    545040.0   \n",
       "\n",
       "       AMT_ANNUITY  ...  FLAG_DOCUMENT_18 FLAG_DOCUMENT_19 FLAG_DOCUMENT_20  \\\n",
       "0          20191.5  ...                 0                0                0   \n",
       "1          31261.5  ...                 0                0                0   \n",
       "2          45000.0  ...                 0                0                0   \n",
       "3          33025.5  ...                 0                0                0   \n",
       "4          42840.0  ...                 0                0                0   \n",
       "...            ...  ...               ...              ...              ...   \n",
       "49995      39069.0  ...                 0                0                0   \n",
       "49996       7875.0  ...                 0                0                0   \n",
       "49997      12915.0  ...                 0                0                0   \n",
       "49998      36459.0  ...                 0                0                0   \n",
       "49999      19575.0  ...                 0                0                0   \n",
       "\n",
       "      FLAG_DOCUMENT_21 AMT_REQ_CREDIT_BUREAU_HOUR AMT_REQ_CREDIT_BUREAU_DAY  \\\n",
       "0                    0                        0.0                       0.0   \n",
       "1                    0                        0.0                       0.0   \n",
       "2                    0                        0.0                       0.0   \n",
       "3                    0                        0.0                       0.0   \n",
       "4                    0                        0.0                       0.0   \n",
       "...                ...                        ...                       ...   \n",
       "49995                0                        0.0                       0.0   \n",
       "49996                0                        0.0                       0.0   \n",
       "49997                0                        0.0                       0.0   \n",
       "49998                0                        0.0                       0.0   \n",
       "49999                0                        0.0                       0.0   \n",
       "\n",
       "       AMT_REQ_CREDIT_BUREAU_WEEK  AMT_REQ_CREDIT_BUREAU_MON  \\\n",
       "0                             0.0                        0.0   \n",
       "1                             0.0                        0.0   \n",
       "2                             0.0                        0.0   \n",
       "3                             0.0                        0.0   \n",
       "4                             0.0                        0.0   \n",
       "...                           ...                        ...   \n",
       "49995                         0.0                        0.0   \n",
       "49996                         0.0                        0.0   \n",
       "49997                         0.0                        0.0   \n",
       "49998                         0.0                        0.0   \n",
       "49999                         0.0                        2.0   \n",
       "\n",
       "       AMT_REQ_CREDIT_BUREAU_QRT  AMT_REQ_CREDIT_BUREAU_YEAR  \n",
       "0                            0.0                         3.0  \n",
       "1                            0.0                         1.0  \n",
       "2                            2.0                         0.0  \n",
       "3                            0.0                         1.0  \n",
       "4                            0.0                         2.0  \n",
       "...                          ...                         ...  \n",
       "49995                        0.0                         0.0  \n",
       "49996                        2.0                         3.0  \n",
       "49997                        0.0                         1.0  \n",
       "49998                        0.0                         1.0  \n",
       "49999                        2.0                         3.0  \n",
       "\n",
       "[50000 rows x 122 columns]"
      ]
     },
     "execution_count": 3,
     "metadata": {},
     "output_type": "execute_result"
    }
   ],
   "source": [
    "df=df.sample(n=50000, random_state=0).reset_index(drop=True)\n",
    "df"
   ]
  },
  {
   "cell_type": "code",
   "execution_count": 4,
   "id": "6d824eac-ebba-4cfd-8c1a-080923029bc4",
   "metadata": {},
   "outputs": [],
   "source": [
    "df.drop(columns=['SK_ID_CURR'],inplace=True)"
   ]
  },
  {
   "cell_type": "code",
   "execution_count": 5,
   "id": "f75b2baf-486b-48f8-92cd-14fadbb9efd8",
   "metadata": {
    "collapsed": true,
    "jupyter": {
     "outputs_hidden": true
    },
    "tags": []
   },
   "outputs": [
    {
     "name": "stdout",
     "output_type": "stream",
     "text": [
      "---- NAME_CONTRACT_TYPE -----\n",
      "Cash loans         45188\n",
      "Revolving loans     4812\n",
      "Name: NAME_CONTRACT_TYPE, dtype: int64\n",
      "---- CODE_GENDER -----\n",
      "F      33029\n",
      "M      16970\n",
      "XNA        1\n",
      "Name: CODE_GENDER, dtype: int64\n",
      "---- FLAG_OWN_CAR -----\n",
      "N    32981\n",
      "Y    17019\n",
      "Name: FLAG_OWN_CAR, dtype: int64\n",
      "---- FLAG_OWN_REALTY -----\n",
      "Y    34758\n",
      "N    15242\n",
      "Name: FLAG_OWN_REALTY, dtype: int64\n",
      "---- NAME_TYPE_SUITE -----\n",
      "Unaccompanied      40492\n",
      "Family              6490\n",
      "Spouse, partner     1838\n",
      "Children             523\n",
      "Other_B              260\n",
      "Other_A              154\n",
      "Group of people       41\n",
      "Name: NAME_TYPE_SUITE, dtype: int64\n",
      "---- NAME_INCOME_TYPE -----\n",
      "Working                 25905\n",
      "Commercial associate    11653\n",
      "Pensioner                8910\n",
      "State servant            3520\n",
      "Student                     6\n",
      "Unemployed                  4\n",
      "Maternity leave             2\n",
      "Name: NAME_INCOME_TYPE, dtype: int64\n",
      "---- NAME_EDUCATION_TYPE -----\n",
      "Secondary / secondary special    35397\n",
      "Higher education                 12231\n",
      "Incomplete higher                 1709\n",
      "Lower secondary                    637\n",
      "Academic degree                     26\n",
      "Name: NAME_EDUCATION_TYPE, dtype: int64\n",
      "---- NAME_FAMILY_STATUS -----\n",
      "Married                 31958\n",
      "Single / not married     7372\n",
      "Civil marriage           4858\n",
      "Separated                3173\n",
      "Widow                    2638\n",
      "Unknown                     1\n",
      "Name: NAME_FAMILY_STATUS, dtype: int64\n",
      "---- NAME_HOUSING_TYPE -----\n",
      "House / apartment      44390\n",
      "With parents            2376\n",
      "Municipal apartment     1852\n",
      "Rented apartment         803\n",
      "Office apartment         414\n",
      "Co-op apartment          165\n",
      "Name: NAME_HOUSING_TYPE, dtype: int64\n",
      "---- OCCUPATION_TYPE -----\n",
      "Laborers                 8968\n",
      "Sales staff              5208\n",
      "Core staff               4645\n",
      "Managers                 3556\n",
      "Drivers                  2961\n",
      "High skill tech staff    1835\n",
      "Accountants              1569\n",
      "Medicine staff           1393\n",
      "Security staff           1110\n",
      "Cooking staff             992\n",
      "Cleaning staff            776\n",
      "Private service staff     454\n",
      "Low-skill Laborers        316\n",
      "Waiters/barmen staff      207\n",
      "Secretaries               201\n",
      "Realty agents             119\n",
      "HR staff                   93\n",
      "IT staff                   73\n",
      "Name: OCCUPATION_TYPE, dtype: int64\n",
      "---- WEEKDAY_APPR_PROCESS_START -----\n",
      "TUESDAY      8808\n",
      "WEDNESDAY    8584\n",
      "FRIDAY       8258\n",
      "THURSDAY     8190\n",
      "MONDAY       8106\n",
      "SATURDAY     5456\n",
      "SUNDAY       2598\n",
      "Name: WEEKDAY_APPR_PROCESS_START, dtype: int64\n",
      "---- ORGANIZATION_TYPE -----\n",
      "Business Entity Type 3    10992\n",
      "XNA                        8911\n",
      "Self-employed              6306\n",
      "Other                      2691\n",
      "Medicine                   1802\n",
      "Business Entity Type 2     1710\n",
      "Government                 1642\n",
      "School                     1469\n",
      "Trade: type 7              1269\n",
      "Kindergarten               1166\n",
      "Construction               1096\n",
      "Transport: type 4           918\n",
      "Business Entity Type 1      917\n",
      "Trade: type 3               597\n",
      "Industry: type 9            535\n",
      "Security                    532\n",
      "Industry: type 3            521\n",
      "Housing                     478\n",
      "Industry: type 11           467\n",
      "Bank                        436\n",
      "Military                    421\n",
      "Agriculture                 407\n",
      "Police                      383\n",
      "Transport: type 2           376\n",
      "Postal                      361\n",
      "Security Ministries         338\n",
      "Trade: type 2               321\n",
      "Services                    266\n",
      "Restaurant                  255\n",
      "Industry: type 7            232\n",
      "University                  223\n",
      "Transport: type 3           211\n",
      "Industry: type 1            172\n",
      "Electricity                 161\n",
      "Hotel                       157\n",
      "Industry: type 4            133\n",
      "Insurance                   107\n",
      "Trade: type 6               101\n",
      "Emergency                    91\n",
      "Telecom                      83\n",
      "Industry: type 5             81\n",
      "Advertising                  78\n",
      "Industry: type 12            75\n",
      "Industry: type 2             71\n",
      "Culture                      64\n",
      "Trade: type 1                61\n",
      "Legal Services               55\n",
      "Realtor                      51\n",
      "Cleaning                     44\n",
      "Mobile                       40\n",
      "Transport: type 1            35\n",
      "Industry: type 6             22\n",
      "Industry: type 10            18\n",
      "Industry: type 13            17\n",
      "Religion                     15\n",
      "Trade: type 5                 8\n",
      "Trade: type 4                 7\n",
      "Industry: type 8              4\n",
      "Name: ORGANIZATION_TYPE, dtype: int64\n",
      "---- FONDKAPREMONT_MODE -----\n",
      "reg oper account         12093\n",
      "reg oper spec account     1983\n",
      "org spec account           964\n",
      "not specified              946\n",
      "Name: FONDKAPREMONT_MODE, dtype: int64\n",
      "---- HOUSETYPE_MODE -----\n",
      "block of flats      24692\n",
      "specific housing      227\n",
      "terraced house        194\n",
      "Name: HOUSETYPE_MODE, dtype: int64\n",
      "---- WALLSMATERIAL_MODE -----\n",
      "Panel           10804\n",
      "Stone, brick    10610\n",
      "Block            1539\n",
      "Wooden            887\n",
      "Mixed             363\n",
      "Monolithic        293\n",
      "Others            269\n",
      "Name: WALLSMATERIAL_MODE, dtype: int64\n",
      "---- EMERGENCYSTATE_MODE -----\n",
      "No     26179\n",
      "Yes      372\n",
      "Name: EMERGENCYSTATE_MODE, dtype: int64\n",
      "Wall time: 72.7 ms\n"
     ]
    }
   ],
   "source": [
    "%%time\n",
    "for c in df.dtypes[df.dtypes==object].keys():\n",
    "    print('---- %s -----' %c)\n",
    "    print(df[c].value_counts())"
   ]
  },
  {
   "cell_type": "code",
   "execution_count": 6,
   "id": "af3b9f23-b117-40bd-902d-228bfd588e94",
   "metadata": {},
   "outputs": [],
   "source": [
    "df.replace('XNA',np.nan, inplace=True)"
   ]
  },
  {
   "cell_type": "code",
   "execution_count": 7,
   "id": "7df724ab-85a8-41ac-a9f3-da267a10bd4e",
   "metadata": {},
   "outputs": [],
   "source": [
    "numeric_features=df.dtypes[(df.dtypes==np.float64)|(df.dtypes==np.int64)].keys().tolist()\n",
    "cat_features=['NAME_CONTRACT_TYPE', 'CODE_GENDER', 'FLAG_OWN_CAR', 'FLAG_OWN_REALTY','EMERGENCYSTATE_MODE']"
   ]
  },
  {
   "cell_type": "code",
   "execution_count": 8,
   "id": "932696ec-804a-4965-9196-1ed788fd6199",
   "metadata": {},
   "outputs": [],
   "source": [
    "df=df[numeric_features+cat_features]"
   ]
  },
  {
   "cell_type": "code",
   "execution_count": 9,
   "id": "c65ed4aa-1c42-4bf9-845c-7f42a9e076cc",
   "metadata": {},
   "outputs": [],
   "source": [
    "df_test=df.sample(n=10000, random_state=0)\n",
    "df_train=df.drop(index=df_test.index)\n",
    "\n",
    "df_test=df_test.reset_index(drop=True)\n",
    "df_train=df_train.reset_index(drop=True)"
   ]
  },
  {
   "cell_type": "code",
   "execution_count": 10,
   "id": "833ae695-1141-4424-a15a-22d76304ea81",
   "metadata": {},
   "outputs": [],
   "source": [
    "from sklearn.impute import SimpleImputer"
   ]
  },
  {
   "cell_type": "code",
   "execution_count": 11,
   "id": "5e0ca0fc-5110-483d-a138-a93d11909b07",
   "metadata": {},
   "outputs": [],
   "source": [
    "imp_cat=SimpleImputer(strategy='most_frequent')"
   ]
  },
  {
   "cell_type": "code",
   "execution_count": 12,
   "id": "dadd1d4c-684b-42fc-898e-950e47c8baed",
   "metadata": {},
   "outputs": [
    {
     "name": "stdout",
     "output_type": "stream",
     "text": [
      "Wall time: 33.4 ms\n"
     ]
    }
   ],
   "source": [
    "%%time\n",
    "df_train[cat_features]=imp_cat.fit_transform(df_train[cat_features])\n",
    "df_test[cat_features]=imp_cat.transform(df_test[cat_features])\n",
    "#заполнили пропуски"
   ]
  },
  {
   "cell_type": "code",
   "execution_count": 13,
   "id": "72b47f5a-11c2-4333-8d3d-10f43a0274c1",
   "metadata": {},
   "outputs": [
    {
     "data": {
      "text/html": [
       "<div>\n",
       "<style scoped>\n",
       "    .dataframe tbody tr th:only-of-type {\n",
       "        vertical-align: middle;\n",
       "    }\n",
       "\n",
       "    .dataframe tbody tr th {\n",
       "        vertical-align: top;\n",
       "    }\n",
       "\n",
       "    .dataframe thead th {\n",
       "        text-align: right;\n",
       "    }\n",
       "</style>\n",
       "<table border=\"1\" class=\"dataframe\">\n",
       "  <thead>\n",
       "    <tr style=\"text-align: right;\">\n",
       "      <th></th>\n",
       "      <th>NAME_CONTRACT_TYPE</th>\n",
       "      <th>CODE_GENDER</th>\n",
       "      <th>FLAG_OWN_CAR</th>\n",
       "      <th>FLAG_OWN_REALTY</th>\n",
       "      <th>EMERGENCYSTATE_MODE</th>\n",
       "    </tr>\n",
       "  </thead>\n",
       "  <tbody>\n",
       "    <tr>\n",
       "      <th>0</th>\n",
       "      <td>Cash loans</td>\n",
       "      <td>F</td>\n",
       "      <td>N</td>\n",
       "      <td>N</td>\n",
       "      <td>No</td>\n",
       "    </tr>\n",
       "    <tr>\n",
       "      <th>1</th>\n",
       "      <td>Revolving loans</td>\n",
       "      <td>M</td>\n",
       "      <td>Y</td>\n",
       "      <td>Y</td>\n",
       "      <td>No</td>\n",
       "    </tr>\n",
       "    <tr>\n",
       "      <th>2</th>\n",
       "      <td>Cash loans</td>\n",
       "      <td>M</td>\n",
       "      <td>Y</td>\n",
       "      <td>Y</td>\n",
       "      <td>No</td>\n",
       "    </tr>\n",
       "    <tr>\n",
       "      <th>3</th>\n",
       "      <td>Cash loans</td>\n",
       "      <td>M</td>\n",
       "      <td>Y</td>\n",
       "      <td>Y</td>\n",
       "      <td>No</td>\n",
       "    </tr>\n",
       "    <tr>\n",
       "      <th>4</th>\n",
       "      <td>Cash loans</td>\n",
       "      <td>F</td>\n",
       "      <td>N</td>\n",
       "      <td>Y</td>\n",
       "      <td>No</td>\n",
       "    </tr>\n",
       "  </tbody>\n",
       "</table>\n",
       "</div>"
      ],
      "text/plain": [
       "  NAME_CONTRACT_TYPE CODE_GENDER FLAG_OWN_CAR FLAG_OWN_REALTY  \\\n",
       "0         Cash loans           F            N               N   \n",
       "1    Revolving loans           M            Y               Y   \n",
       "2         Cash loans           M            Y               Y   \n",
       "3         Cash loans           M            Y               Y   \n",
       "4         Cash loans           F            N               Y   \n",
       "\n",
       "  EMERGENCYSTATE_MODE  \n",
       "0                  No  \n",
       "1                  No  \n",
       "2                  No  \n",
       "3                  No  \n",
       "4                  No  "
      ]
     },
     "execution_count": 13,
     "metadata": {},
     "output_type": "execute_result"
    }
   ],
   "source": [
    "df_train[cat_features].head()"
   ]
  },
  {
   "cell_type": "code",
   "execution_count": 14,
   "id": "877c2e6b-34e5-4fcf-a99b-00dcaf3538e0",
   "metadata": {},
   "outputs": [
    {
     "data": {
      "text/plain": [
       "NAME_CONTRACT_TYPE     0\n",
       "CODE_GENDER            0\n",
       "FLAG_OWN_CAR           0\n",
       "FLAG_OWN_REALTY        0\n",
       "EMERGENCYSTATE_MODE    0\n",
       "dtype: int64"
      ]
     },
     "execution_count": 14,
     "metadata": {},
     "output_type": "execute_result"
    }
   ],
   "source": [
    "df_train[cat_features].isna().sum()"
   ]
  },
  {
   "cell_type": "code",
   "execution_count": 15,
   "id": "1d6311de-c0d4-45be-b4e9-4c725ac429cf",
   "metadata": {},
   "outputs": [],
   "source": [
    "from sklearn.preprocessing import OrdinalEncoder"
   ]
  },
  {
   "cell_type": "code",
   "execution_count": 16,
   "id": "53e73fed-476e-4185-a0b6-d69d7cad6046",
   "metadata": {},
   "outputs": [],
   "source": [
    "enc=OrdinalEncoder()"
   ]
  },
  {
   "cell_type": "code",
   "execution_count": 17,
   "id": "245c6171-1246-481c-bc21-f9d5f5f5b49b",
   "metadata": {},
   "outputs": [],
   "source": [
    "#переводим в бинарный вид\n",
    "df_train[cat_features]=enc.fit_transform(df_train[cat_features])\n",
    "df_test[cat_features]=enc.transform(df_test[cat_features])"
   ]
  },
  {
   "cell_type": "code",
   "execution_count": 18,
   "id": "5c5a8ff3-9a48-42e2-9411-da58a1599962",
   "metadata": {},
   "outputs": [
    {
     "data": {
      "text/html": [
       "<div>\n",
       "<style scoped>\n",
       "    .dataframe tbody tr th:only-of-type {\n",
       "        vertical-align: middle;\n",
       "    }\n",
       "\n",
       "    .dataframe tbody tr th {\n",
       "        vertical-align: top;\n",
       "    }\n",
       "\n",
       "    .dataframe thead th {\n",
       "        text-align: right;\n",
       "    }\n",
       "</style>\n",
       "<table border=\"1\" class=\"dataframe\">\n",
       "  <thead>\n",
       "    <tr style=\"text-align: right;\">\n",
       "      <th></th>\n",
       "      <th>NAME_CONTRACT_TYPE</th>\n",
       "      <th>CODE_GENDER</th>\n",
       "      <th>FLAG_OWN_CAR</th>\n",
       "      <th>FLAG_OWN_REALTY</th>\n",
       "      <th>EMERGENCYSTATE_MODE</th>\n",
       "    </tr>\n",
       "  </thead>\n",
       "  <tbody>\n",
       "    <tr>\n",
       "      <th>0</th>\n",
       "      <td>0.0</td>\n",
       "      <td>0.0</td>\n",
       "      <td>0.0</td>\n",
       "      <td>0.0</td>\n",
       "      <td>0.0</td>\n",
       "    </tr>\n",
       "    <tr>\n",
       "      <th>1</th>\n",
       "      <td>1.0</td>\n",
       "      <td>1.0</td>\n",
       "      <td>1.0</td>\n",
       "      <td>1.0</td>\n",
       "      <td>0.0</td>\n",
       "    </tr>\n",
       "    <tr>\n",
       "      <th>2</th>\n",
       "      <td>0.0</td>\n",
       "      <td>1.0</td>\n",
       "      <td>1.0</td>\n",
       "      <td>1.0</td>\n",
       "      <td>0.0</td>\n",
       "    </tr>\n",
       "    <tr>\n",
       "      <th>3</th>\n",
       "      <td>0.0</td>\n",
       "      <td>1.0</td>\n",
       "      <td>1.0</td>\n",
       "      <td>1.0</td>\n",
       "      <td>0.0</td>\n",
       "    </tr>\n",
       "    <tr>\n",
       "      <th>4</th>\n",
       "      <td>0.0</td>\n",
       "      <td>0.0</td>\n",
       "      <td>0.0</td>\n",
       "      <td>1.0</td>\n",
       "      <td>0.0</td>\n",
       "    </tr>\n",
       "  </tbody>\n",
       "</table>\n",
       "</div>"
      ],
      "text/plain": [
       "   NAME_CONTRACT_TYPE  CODE_GENDER  FLAG_OWN_CAR  FLAG_OWN_REALTY  \\\n",
       "0                 0.0          0.0           0.0              0.0   \n",
       "1                 1.0          1.0           1.0              1.0   \n",
       "2                 0.0          1.0           1.0              1.0   \n",
       "3                 0.0          1.0           1.0              1.0   \n",
       "4                 0.0          0.0           0.0              1.0   \n",
       "\n",
       "   EMERGENCYSTATE_MODE  \n",
       "0                  0.0  \n",
       "1                  0.0  \n",
       "2                  0.0  \n",
       "3                  0.0  \n",
       "4                  0.0  "
      ]
     },
     "execution_count": 18,
     "metadata": {},
     "output_type": "execute_result"
    }
   ],
   "source": [
    "df_train[cat_features].head()"
   ]
  },
  {
   "cell_type": "code",
   "execution_count": 19,
   "id": "45bca3d8-e9df-4a55-883c-ced2bcd1ae9d",
   "metadata": {},
   "outputs": [
    {
     "data": {
      "text/html": [
       "<div>\n",
       "<style scoped>\n",
       "    .dataframe tbody tr th:only-of-type {\n",
       "        vertical-align: middle;\n",
       "    }\n",
       "\n",
       "    .dataframe tbody tr th {\n",
       "        vertical-align: top;\n",
       "    }\n",
       "\n",
       "    .dataframe thead th {\n",
       "        text-align: right;\n",
       "    }\n",
       "</style>\n",
       "<table border=\"1\" class=\"dataframe\">\n",
       "  <thead>\n",
       "    <tr style=\"text-align: right;\">\n",
       "      <th></th>\n",
       "      <th>TARGET</th>\n",
       "      <th>CNT_CHILDREN</th>\n",
       "      <th>AMT_INCOME_TOTAL</th>\n",
       "      <th>AMT_CREDIT</th>\n",
       "      <th>AMT_ANNUITY</th>\n",
       "      <th>AMT_GOODS_PRICE</th>\n",
       "      <th>REGION_POPULATION_RELATIVE</th>\n",
       "      <th>DAYS_BIRTH</th>\n",
       "      <th>DAYS_EMPLOYED</th>\n",
       "      <th>DAYS_REGISTRATION</th>\n",
       "      <th>...</th>\n",
       "      <th>FLAG_DOCUMENT_18</th>\n",
       "      <th>FLAG_DOCUMENT_19</th>\n",
       "      <th>FLAG_DOCUMENT_20</th>\n",
       "      <th>FLAG_DOCUMENT_21</th>\n",
       "      <th>AMT_REQ_CREDIT_BUREAU_HOUR</th>\n",
       "      <th>AMT_REQ_CREDIT_BUREAU_DAY</th>\n",
       "      <th>AMT_REQ_CREDIT_BUREAU_WEEK</th>\n",
       "      <th>AMT_REQ_CREDIT_BUREAU_MON</th>\n",
       "      <th>AMT_REQ_CREDIT_BUREAU_QRT</th>\n",
       "      <th>AMT_REQ_CREDIT_BUREAU_YEAR</th>\n",
       "    </tr>\n",
       "  </thead>\n",
       "  <tbody>\n",
       "    <tr>\n",
       "      <th>0</th>\n",
       "      <td>1</td>\n",
       "      <td>0</td>\n",
       "      <td>117000.0</td>\n",
       "      <td>417024.0</td>\n",
       "      <td>20191.5</td>\n",
       "      <td>360000.0</td>\n",
       "      <td>0.020246</td>\n",
       "      <td>-21774</td>\n",
       "      <td>-2125</td>\n",
       "      <td>-4611.0</td>\n",
       "      <td>...</td>\n",
       "      <td>0</td>\n",
       "      <td>0</td>\n",
       "      <td>0</td>\n",
       "      <td>0</td>\n",
       "      <td>0.0</td>\n",
       "      <td>0.0</td>\n",
       "      <td>0.0</td>\n",
       "      <td>0.0</td>\n",
       "      <td>0.0</td>\n",
       "      <td>3.0</td>\n",
       "    </tr>\n",
       "    <tr>\n",
       "      <th>1</th>\n",
       "      <td>0</td>\n",
       "      <td>0</td>\n",
       "      <td>450000.0</td>\n",
       "      <td>640080.0</td>\n",
       "      <td>31261.5</td>\n",
       "      <td>450000.0</td>\n",
       "      <td>0.046220</td>\n",
       "      <td>-18499</td>\n",
       "      <td>-2055</td>\n",
       "      <td>-3052.0</td>\n",
       "      <td>...</td>\n",
       "      <td>0</td>\n",
       "      <td>0</td>\n",
       "      <td>0</td>\n",
       "      <td>0</td>\n",
       "      <td>0.0</td>\n",
       "      <td>0.0</td>\n",
       "      <td>0.0</td>\n",
       "      <td>0.0</td>\n",
       "      <td>0.0</td>\n",
       "      <td>1.0</td>\n",
       "    </tr>\n",
       "    <tr>\n",
       "      <th>2</th>\n",
       "      <td>0</td>\n",
       "      <td>0</td>\n",
       "      <td>450000.0</td>\n",
       "      <td>900000.0</td>\n",
       "      <td>45000.0</td>\n",
       "      <td>900000.0</td>\n",
       "      <td>0.010643</td>\n",
       "      <td>-18084</td>\n",
       "      <td>-4159</td>\n",
       "      <td>-8525.0</td>\n",
       "      <td>...</td>\n",
       "      <td>0</td>\n",
       "      <td>0</td>\n",
       "      <td>0</td>\n",
       "      <td>0</td>\n",
       "      <td>0.0</td>\n",
       "      <td>0.0</td>\n",
       "      <td>0.0</td>\n",
       "      <td>0.0</td>\n",
       "      <td>2.0</td>\n",
       "      <td>0.0</td>\n",
       "    </tr>\n",
       "    <tr>\n",
       "      <th>3</th>\n",
       "      <td>0</td>\n",
       "      <td>1</td>\n",
       "      <td>360000.0</td>\n",
       "      <td>1125000.0</td>\n",
       "      <td>33025.5</td>\n",
       "      <td>1125000.0</td>\n",
       "      <td>0.018634</td>\n",
       "      <td>-12319</td>\n",
       "      <td>-2532</td>\n",
       "      <td>-12304.0</td>\n",
       "      <td>...</td>\n",
       "      <td>0</td>\n",
       "      <td>0</td>\n",
       "      <td>0</td>\n",
       "      <td>0</td>\n",
       "      <td>0.0</td>\n",
       "      <td>0.0</td>\n",
       "      <td>0.0</td>\n",
       "      <td>0.0</td>\n",
       "      <td>0.0</td>\n",
       "      <td>1.0</td>\n",
       "    </tr>\n",
       "    <tr>\n",
       "      <th>4</th>\n",
       "      <td>0</td>\n",
       "      <td>0</td>\n",
       "      <td>675000.0</td>\n",
       "      <td>835380.0</td>\n",
       "      <td>42840.0</td>\n",
       "      <td>675000.0</td>\n",
       "      <td>0.020713</td>\n",
       "      <td>-10151</td>\n",
       "      <td>-2516</td>\n",
       "      <td>-2789.0</td>\n",
       "      <td>...</td>\n",
       "      <td>0</td>\n",
       "      <td>0</td>\n",
       "      <td>0</td>\n",
       "      <td>0</td>\n",
       "      <td>0.0</td>\n",
       "      <td>0.0</td>\n",
       "      <td>0.0</td>\n",
       "      <td>0.0</td>\n",
       "      <td>0.0</td>\n",
       "      <td>2.0</td>\n",
       "    </tr>\n",
       "  </tbody>\n",
       "</table>\n",
       "<p>5 rows × 105 columns</p>\n",
       "</div>"
      ],
      "text/plain": [
       "   TARGET  CNT_CHILDREN  AMT_INCOME_TOTAL  AMT_CREDIT  AMT_ANNUITY  \\\n",
       "0       1             0          117000.0    417024.0      20191.5   \n",
       "1       0             0          450000.0    640080.0      31261.5   \n",
       "2       0             0          450000.0    900000.0      45000.0   \n",
       "3       0             1          360000.0   1125000.0      33025.5   \n",
       "4       0             0          675000.0    835380.0      42840.0   \n",
       "\n",
       "   AMT_GOODS_PRICE  REGION_POPULATION_RELATIVE  DAYS_BIRTH  DAYS_EMPLOYED  \\\n",
       "0         360000.0                    0.020246      -21774          -2125   \n",
       "1         450000.0                    0.046220      -18499          -2055   \n",
       "2         900000.0                    0.010643      -18084          -4159   \n",
       "3        1125000.0                    0.018634      -12319          -2532   \n",
       "4         675000.0                    0.020713      -10151          -2516   \n",
       "\n",
       "   DAYS_REGISTRATION  ...  FLAG_DOCUMENT_18  FLAG_DOCUMENT_19  \\\n",
       "0            -4611.0  ...                 0                 0   \n",
       "1            -3052.0  ...                 0                 0   \n",
       "2            -8525.0  ...                 0                 0   \n",
       "3           -12304.0  ...                 0                 0   \n",
       "4            -2789.0  ...                 0                 0   \n",
       "\n",
       "   FLAG_DOCUMENT_20  FLAG_DOCUMENT_21  AMT_REQ_CREDIT_BUREAU_HOUR  \\\n",
       "0                 0                 0                         0.0   \n",
       "1                 0                 0                         0.0   \n",
       "2                 0                 0                         0.0   \n",
       "3                 0                 0                         0.0   \n",
       "4                 0                 0                         0.0   \n",
       "\n",
       "   AMT_REQ_CREDIT_BUREAU_DAY  AMT_REQ_CREDIT_BUREAU_WEEK  \\\n",
       "0                        0.0                         0.0   \n",
       "1                        0.0                         0.0   \n",
       "2                        0.0                         0.0   \n",
       "3                        0.0                         0.0   \n",
       "4                        0.0                         0.0   \n",
       "\n",
       "   AMT_REQ_CREDIT_BUREAU_MON  AMT_REQ_CREDIT_BUREAU_QRT  \\\n",
       "0                        0.0                        0.0   \n",
       "1                        0.0                        0.0   \n",
       "2                        0.0                        2.0   \n",
       "3                        0.0                        0.0   \n",
       "4                        0.0                        0.0   \n",
       "\n",
       "   AMT_REQ_CREDIT_BUREAU_YEAR  \n",
       "0                         3.0  \n",
       "1                         1.0  \n",
       "2                         0.0  \n",
       "3                         1.0  \n",
       "4                         2.0  \n",
       "\n",
       "[5 rows x 105 columns]"
      ]
     },
     "execution_count": 19,
     "metadata": {},
     "output_type": "execute_result"
    }
   ],
   "source": [
    "df[numeric_features].head()"
   ]
  },
  {
   "cell_type": "code",
   "execution_count": 20,
   "id": "d39f2e4d-3af9-4233-9968-623947451a1c",
   "metadata": {},
   "outputs": [],
   "source": [
    "cat_bin_features=[]\n",
    "for i in numeric_features:\n",
    "    if len(df[i].value_counts().keys().tolist())==2:\n",
    "        cat_bin_features.append(i)"
   ]
  },
  {
   "cell_type": "code",
   "execution_count": 21,
   "id": "abfdaafb-be65-4983-9cb1-eef003888657",
   "metadata": {},
   "outputs": [
    {
     "data": {
      "text/plain": [
       "['TARGET',\n",
       " 'FLAG_EMP_PHONE',\n",
       " 'FLAG_WORK_PHONE',\n",
       " 'FLAG_CONT_MOBILE',\n",
       " 'FLAG_PHONE',\n",
       " 'FLAG_EMAIL',\n",
       " 'REG_REGION_NOT_LIVE_REGION',\n",
       " 'REG_REGION_NOT_WORK_REGION',\n",
       " 'LIVE_REGION_NOT_WORK_REGION',\n",
       " 'REG_CITY_NOT_LIVE_CITY',\n",
       " 'REG_CITY_NOT_WORK_CITY',\n",
       " 'LIVE_CITY_NOT_WORK_CITY',\n",
       " 'FLAG_DOCUMENT_2',\n",
       " 'FLAG_DOCUMENT_3',\n",
       " 'FLAG_DOCUMENT_4',\n",
       " 'FLAG_DOCUMENT_5',\n",
       " 'FLAG_DOCUMENT_6',\n",
       " 'FLAG_DOCUMENT_7',\n",
       " 'FLAG_DOCUMENT_8',\n",
       " 'FLAG_DOCUMENT_9',\n",
       " 'FLAG_DOCUMENT_10',\n",
       " 'FLAG_DOCUMENT_11',\n",
       " 'FLAG_DOCUMENT_13',\n",
       " 'FLAG_DOCUMENT_14',\n",
       " 'FLAG_DOCUMENT_15',\n",
       " 'FLAG_DOCUMENT_16',\n",
       " 'FLAG_DOCUMENT_17',\n",
       " 'FLAG_DOCUMENT_18',\n",
       " 'FLAG_DOCUMENT_19',\n",
       " 'FLAG_DOCUMENT_20',\n",
       " 'FLAG_DOCUMENT_21']"
      ]
     },
     "execution_count": 21,
     "metadata": {},
     "output_type": "execute_result"
    }
   ],
   "source": [
    "cat_bin_features"
   ]
  },
  {
   "cell_type": "code",
   "execution_count": 22,
   "id": "4fa36c1e-b80d-4f03-acde-72092886a355",
   "metadata": {},
   "outputs": [
    {
     "name": "stdout",
     "output_type": "stream",
     "text": [
      "Wall time: 61 ms\n"
     ]
    }
   ],
   "source": [
    "%%time\n",
    "imp_bin_cat=SimpleImputer(strategy='most_frequent')\n",
    "\n",
    "df_train[cat_bin_features]=imp_cat.fit_transform(df_train[cat_bin_features])\n",
    "df_test[cat_bin_features]=imp_cat.transform(df_test[cat_bin_features])\n",
    "#заполнили пропуски наиболее частым значением"
   ]
  },
  {
   "cell_type": "code",
   "execution_count": 23,
   "id": "1d0bda87-5311-49a8-8058-0df0f254f976",
   "metadata": {},
   "outputs": [],
   "source": [
    "imp_numeric=SimpleImputer(missing_values=np.nan, strategy='mean')"
   ]
  },
  {
   "cell_type": "code",
   "execution_count": 24,
   "id": "56e3015c-bf80-41fb-9e50-d86ddd94897c",
   "metadata": {},
   "outputs": [
    {
     "name": "stdout",
     "output_type": "stream",
     "text": [
      "Wall time: 402 ms\n"
     ]
    }
   ],
   "source": [
    "%%time\n",
    "\n",
    "df_train[numeric_features]=imp_cat.fit_transform(df_train[numeric_features])\n",
    "df_test[numeric_features]=imp_cat.transform(df_test[numeric_features])\n",
    "#заполнили пропуски средним значением"
   ]
  },
  {
   "cell_type": "code",
   "execution_count": 25,
   "id": "dffd0b33-b153-469b-b64f-169b5f1da1e6",
   "metadata": {},
   "outputs": [
    {
     "data": {
      "text/html": [
       "<div>\n",
       "<style scoped>\n",
       "    .dataframe tbody tr th:only-of-type {\n",
       "        vertical-align: middle;\n",
       "    }\n",
       "\n",
       "    .dataframe tbody tr th {\n",
       "        vertical-align: top;\n",
       "    }\n",
       "\n",
       "    .dataframe thead th {\n",
       "        text-align: right;\n",
       "    }\n",
       "</style>\n",
       "<table border=\"1\" class=\"dataframe\">\n",
       "  <thead>\n",
       "    <tr style=\"text-align: right;\">\n",
       "      <th></th>\n",
       "      <th>TARGET</th>\n",
       "      <th>CNT_CHILDREN</th>\n",
       "      <th>AMT_INCOME_TOTAL</th>\n",
       "      <th>AMT_CREDIT</th>\n",
       "      <th>AMT_ANNUITY</th>\n",
       "      <th>AMT_GOODS_PRICE</th>\n",
       "      <th>REGION_POPULATION_RELATIVE</th>\n",
       "      <th>DAYS_BIRTH</th>\n",
       "      <th>DAYS_EMPLOYED</th>\n",
       "      <th>DAYS_REGISTRATION</th>\n",
       "      <th>...</th>\n",
       "      <th>FLAG_DOCUMENT_18</th>\n",
       "      <th>FLAG_DOCUMENT_19</th>\n",
       "      <th>FLAG_DOCUMENT_20</th>\n",
       "      <th>FLAG_DOCUMENT_21</th>\n",
       "      <th>AMT_REQ_CREDIT_BUREAU_HOUR</th>\n",
       "      <th>AMT_REQ_CREDIT_BUREAU_DAY</th>\n",
       "      <th>AMT_REQ_CREDIT_BUREAU_WEEK</th>\n",
       "      <th>AMT_REQ_CREDIT_BUREAU_MON</th>\n",
       "      <th>AMT_REQ_CREDIT_BUREAU_QRT</th>\n",
       "      <th>AMT_REQ_CREDIT_BUREAU_YEAR</th>\n",
       "    </tr>\n",
       "  </thead>\n",
       "  <tbody>\n",
       "    <tr>\n",
       "      <th>0</th>\n",
       "      <td>1</td>\n",
       "      <td>0</td>\n",
       "      <td>117000.0</td>\n",
       "      <td>417024.0</td>\n",
       "      <td>20191.5</td>\n",
       "      <td>360000.0</td>\n",
       "      <td>0.020246</td>\n",
       "      <td>-21774</td>\n",
       "      <td>-2125</td>\n",
       "      <td>-4611.0</td>\n",
       "      <td>...</td>\n",
       "      <td>0</td>\n",
       "      <td>0</td>\n",
       "      <td>0</td>\n",
       "      <td>0</td>\n",
       "      <td>0.0</td>\n",
       "      <td>0.0</td>\n",
       "      <td>0.0</td>\n",
       "      <td>0.0</td>\n",
       "      <td>0.0</td>\n",
       "      <td>3.0</td>\n",
       "    </tr>\n",
       "    <tr>\n",
       "      <th>1</th>\n",
       "      <td>0</td>\n",
       "      <td>0</td>\n",
       "      <td>450000.0</td>\n",
       "      <td>640080.0</td>\n",
       "      <td>31261.5</td>\n",
       "      <td>450000.0</td>\n",
       "      <td>0.046220</td>\n",
       "      <td>-18499</td>\n",
       "      <td>-2055</td>\n",
       "      <td>-3052.0</td>\n",
       "      <td>...</td>\n",
       "      <td>0</td>\n",
       "      <td>0</td>\n",
       "      <td>0</td>\n",
       "      <td>0</td>\n",
       "      <td>0.0</td>\n",
       "      <td>0.0</td>\n",
       "      <td>0.0</td>\n",
       "      <td>0.0</td>\n",
       "      <td>0.0</td>\n",
       "      <td>1.0</td>\n",
       "    </tr>\n",
       "    <tr>\n",
       "      <th>2</th>\n",
       "      <td>0</td>\n",
       "      <td>0</td>\n",
       "      <td>450000.0</td>\n",
       "      <td>900000.0</td>\n",
       "      <td>45000.0</td>\n",
       "      <td>900000.0</td>\n",
       "      <td>0.010643</td>\n",
       "      <td>-18084</td>\n",
       "      <td>-4159</td>\n",
       "      <td>-8525.0</td>\n",
       "      <td>...</td>\n",
       "      <td>0</td>\n",
       "      <td>0</td>\n",
       "      <td>0</td>\n",
       "      <td>0</td>\n",
       "      <td>0.0</td>\n",
       "      <td>0.0</td>\n",
       "      <td>0.0</td>\n",
       "      <td>0.0</td>\n",
       "      <td>2.0</td>\n",
       "      <td>0.0</td>\n",
       "    </tr>\n",
       "    <tr>\n",
       "      <th>3</th>\n",
       "      <td>0</td>\n",
       "      <td>1</td>\n",
       "      <td>360000.0</td>\n",
       "      <td>1125000.0</td>\n",
       "      <td>33025.5</td>\n",
       "      <td>1125000.0</td>\n",
       "      <td>0.018634</td>\n",
       "      <td>-12319</td>\n",
       "      <td>-2532</td>\n",
       "      <td>-12304.0</td>\n",
       "      <td>...</td>\n",
       "      <td>0</td>\n",
       "      <td>0</td>\n",
       "      <td>0</td>\n",
       "      <td>0</td>\n",
       "      <td>0.0</td>\n",
       "      <td>0.0</td>\n",
       "      <td>0.0</td>\n",
       "      <td>0.0</td>\n",
       "      <td>0.0</td>\n",
       "      <td>1.0</td>\n",
       "    </tr>\n",
       "    <tr>\n",
       "      <th>4</th>\n",
       "      <td>0</td>\n",
       "      <td>0</td>\n",
       "      <td>675000.0</td>\n",
       "      <td>835380.0</td>\n",
       "      <td>42840.0</td>\n",
       "      <td>675000.0</td>\n",
       "      <td>0.020713</td>\n",
       "      <td>-10151</td>\n",
       "      <td>-2516</td>\n",
       "      <td>-2789.0</td>\n",
       "      <td>...</td>\n",
       "      <td>0</td>\n",
       "      <td>0</td>\n",
       "      <td>0</td>\n",
       "      <td>0</td>\n",
       "      <td>0.0</td>\n",
       "      <td>0.0</td>\n",
       "      <td>0.0</td>\n",
       "      <td>0.0</td>\n",
       "      <td>0.0</td>\n",
       "      <td>2.0</td>\n",
       "    </tr>\n",
       "    <tr>\n",
       "      <th>...</th>\n",
       "      <td>...</td>\n",
       "      <td>...</td>\n",
       "      <td>...</td>\n",
       "      <td>...</td>\n",
       "      <td>...</td>\n",
       "      <td>...</td>\n",
       "      <td>...</td>\n",
       "      <td>...</td>\n",
       "      <td>...</td>\n",
       "      <td>...</td>\n",
       "      <td>...</td>\n",
       "      <td>...</td>\n",
       "      <td>...</td>\n",
       "      <td>...</td>\n",
       "      <td>...</td>\n",
       "      <td>...</td>\n",
       "      <td>...</td>\n",
       "      <td>...</td>\n",
       "      <td>...</td>\n",
       "      <td>...</td>\n",
       "      <td>...</td>\n",
       "    </tr>\n",
       "    <tr>\n",
       "      <th>49995</th>\n",
       "      <td>0</td>\n",
       "      <td>0</td>\n",
       "      <td>202500.0</td>\n",
       "      <td>733315.5</td>\n",
       "      <td>39069.0</td>\n",
       "      <td>679500.0</td>\n",
       "      <td>0.046220</td>\n",
       "      <td>-15016</td>\n",
       "      <td>-539</td>\n",
       "      <td>-923.0</td>\n",
       "      <td>...</td>\n",
       "      <td>0</td>\n",
       "      <td>0</td>\n",
       "      <td>0</td>\n",
       "      <td>0</td>\n",
       "      <td>0.0</td>\n",
       "      <td>0.0</td>\n",
       "      <td>0.0</td>\n",
       "      <td>0.0</td>\n",
       "      <td>0.0</td>\n",
       "      <td>0.0</td>\n",
       "    </tr>\n",
       "    <tr>\n",
       "      <th>49996</th>\n",
       "      <td>0</td>\n",
       "      <td>0</td>\n",
       "      <td>315000.0</td>\n",
       "      <td>157500.0</td>\n",
       "      <td>7875.0</td>\n",
       "      <td>157500.0</td>\n",
       "      <td>0.018801</td>\n",
       "      <td>-18626</td>\n",
       "      <td>-5339</td>\n",
       "      <td>-2876.0</td>\n",
       "      <td>...</td>\n",
       "      <td>0</td>\n",
       "      <td>0</td>\n",
       "      <td>0</td>\n",
       "      <td>0</td>\n",
       "      <td>0.0</td>\n",
       "      <td>0.0</td>\n",
       "      <td>0.0</td>\n",
       "      <td>0.0</td>\n",
       "      <td>2.0</td>\n",
       "      <td>3.0</td>\n",
       "    </tr>\n",
       "    <tr>\n",
       "      <th>49997</th>\n",
       "      <td>0</td>\n",
       "      <td>0</td>\n",
       "      <td>112500.0</td>\n",
       "      <td>225000.0</td>\n",
       "      <td>12915.0</td>\n",
       "      <td>225000.0</td>\n",
       "      <td>0.020246</td>\n",
       "      <td>-14586</td>\n",
       "      <td>365243</td>\n",
       "      <td>-4916.0</td>\n",
       "      <td>...</td>\n",
       "      <td>0</td>\n",
       "      <td>0</td>\n",
       "      <td>0</td>\n",
       "      <td>0</td>\n",
       "      <td>0.0</td>\n",
       "      <td>0.0</td>\n",
       "      <td>0.0</td>\n",
       "      <td>0.0</td>\n",
       "      <td>0.0</td>\n",
       "      <td>1.0</td>\n",
       "    </tr>\n",
       "    <tr>\n",
       "      <th>49998</th>\n",
       "      <td>0</td>\n",
       "      <td>0</td>\n",
       "      <td>247500.0</td>\n",
       "      <td>755190.0</td>\n",
       "      <td>36459.0</td>\n",
       "      <td>675000.0</td>\n",
       "      <td>0.005084</td>\n",
       "      <td>-19149</td>\n",
       "      <td>-5704</td>\n",
       "      <td>-871.0</td>\n",
       "      <td>...</td>\n",
       "      <td>0</td>\n",
       "      <td>0</td>\n",
       "      <td>0</td>\n",
       "      <td>0</td>\n",
       "      <td>0.0</td>\n",
       "      <td>0.0</td>\n",
       "      <td>0.0</td>\n",
       "      <td>0.0</td>\n",
       "      <td>0.0</td>\n",
       "      <td>1.0</td>\n",
       "    </tr>\n",
       "    <tr>\n",
       "      <th>49999</th>\n",
       "      <td>0</td>\n",
       "      <td>0</td>\n",
       "      <td>189000.0</td>\n",
       "      <td>545040.0</td>\n",
       "      <td>19575.0</td>\n",
       "      <td>450000.0</td>\n",
       "      <td>0.022625</td>\n",
       "      <td>-12482</td>\n",
       "      <td>-763</td>\n",
       "      <td>-4706.0</td>\n",
       "      <td>...</td>\n",
       "      <td>0</td>\n",
       "      <td>0</td>\n",
       "      <td>0</td>\n",
       "      <td>0</td>\n",
       "      <td>0.0</td>\n",
       "      <td>0.0</td>\n",
       "      <td>0.0</td>\n",
       "      <td>2.0</td>\n",
       "      <td>2.0</td>\n",
       "      <td>3.0</td>\n",
       "    </tr>\n",
       "  </tbody>\n",
       "</table>\n",
       "<p>50000 rows × 105 columns</p>\n",
       "</div>"
      ],
      "text/plain": [
       "       TARGET  CNT_CHILDREN  AMT_INCOME_TOTAL  AMT_CREDIT  AMT_ANNUITY  \\\n",
       "0           1             0          117000.0    417024.0      20191.5   \n",
       "1           0             0          450000.0    640080.0      31261.5   \n",
       "2           0             0          450000.0    900000.0      45000.0   \n",
       "3           0             1          360000.0   1125000.0      33025.5   \n",
       "4           0             0          675000.0    835380.0      42840.0   \n",
       "...       ...           ...               ...         ...          ...   \n",
       "49995       0             0          202500.0    733315.5      39069.0   \n",
       "49996       0             0          315000.0    157500.0       7875.0   \n",
       "49997       0             0          112500.0    225000.0      12915.0   \n",
       "49998       0             0          247500.0    755190.0      36459.0   \n",
       "49999       0             0          189000.0    545040.0      19575.0   \n",
       "\n",
       "       AMT_GOODS_PRICE  REGION_POPULATION_RELATIVE  DAYS_BIRTH  DAYS_EMPLOYED  \\\n",
       "0             360000.0                    0.020246      -21774          -2125   \n",
       "1             450000.0                    0.046220      -18499          -2055   \n",
       "2             900000.0                    0.010643      -18084          -4159   \n",
       "3            1125000.0                    0.018634      -12319          -2532   \n",
       "4             675000.0                    0.020713      -10151          -2516   \n",
       "...                ...                         ...         ...            ...   \n",
       "49995         679500.0                    0.046220      -15016           -539   \n",
       "49996         157500.0                    0.018801      -18626          -5339   \n",
       "49997         225000.0                    0.020246      -14586         365243   \n",
       "49998         675000.0                    0.005084      -19149          -5704   \n",
       "49999         450000.0                    0.022625      -12482           -763   \n",
       "\n",
       "       DAYS_REGISTRATION  ...  FLAG_DOCUMENT_18  FLAG_DOCUMENT_19  \\\n",
       "0                -4611.0  ...                 0                 0   \n",
       "1                -3052.0  ...                 0                 0   \n",
       "2                -8525.0  ...                 0                 0   \n",
       "3               -12304.0  ...                 0                 0   \n",
       "4                -2789.0  ...                 0                 0   \n",
       "...                  ...  ...               ...               ...   \n",
       "49995             -923.0  ...                 0                 0   \n",
       "49996            -2876.0  ...                 0                 0   \n",
       "49997            -4916.0  ...                 0                 0   \n",
       "49998             -871.0  ...                 0                 0   \n",
       "49999            -4706.0  ...                 0                 0   \n",
       "\n",
       "       FLAG_DOCUMENT_20  FLAG_DOCUMENT_21  AMT_REQ_CREDIT_BUREAU_HOUR  \\\n",
       "0                     0                 0                         0.0   \n",
       "1                     0                 0                         0.0   \n",
       "2                     0                 0                         0.0   \n",
       "3                     0                 0                         0.0   \n",
       "4                     0                 0                         0.0   \n",
       "...                 ...               ...                         ...   \n",
       "49995                 0                 0                         0.0   \n",
       "49996                 0                 0                         0.0   \n",
       "49997                 0                 0                         0.0   \n",
       "49998                 0                 0                         0.0   \n",
       "49999                 0                 0                         0.0   \n",
       "\n",
       "       AMT_REQ_CREDIT_BUREAU_DAY  AMT_REQ_CREDIT_BUREAU_WEEK  \\\n",
       "0                            0.0                         0.0   \n",
       "1                            0.0                         0.0   \n",
       "2                            0.0                         0.0   \n",
       "3                            0.0                         0.0   \n",
       "4                            0.0                         0.0   \n",
       "...                          ...                         ...   \n",
       "49995                        0.0                         0.0   \n",
       "49996                        0.0                         0.0   \n",
       "49997                        0.0                         0.0   \n",
       "49998                        0.0                         0.0   \n",
       "49999                        0.0                         0.0   \n",
       "\n",
       "       AMT_REQ_CREDIT_BUREAU_MON  AMT_REQ_CREDIT_BUREAU_QRT  \\\n",
       "0                            0.0                        0.0   \n",
       "1                            0.0                        0.0   \n",
       "2                            0.0                        2.0   \n",
       "3                            0.0                        0.0   \n",
       "4                            0.0                        0.0   \n",
       "...                          ...                        ...   \n",
       "49995                        0.0                        0.0   \n",
       "49996                        0.0                        2.0   \n",
       "49997                        0.0                        0.0   \n",
       "49998                        0.0                        0.0   \n",
       "49999                        2.0                        2.0   \n",
       "\n",
       "       AMT_REQ_CREDIT_BUREAU_YEAR  \n",
       "0                             3.0  \n",
       "1                             1.0  \n",
       "2                             0.0  \n",
       "3                             1.0  \n",
       "4                             2.0  \n",
       "...                           ...  \n",
       "49995                         0.0  \n",
       "49996                         3.0  \n",
       "49997                         1.0  \n",
       "49998                         1.0  \n",
       "49999                         3.0  \n",
       "\n",
       "[50000 rows x 105 columns]"
      ]
     },
     "execution_count": 25,
     "metadata": {},
     "output_type": "execute_result"
    }
   ],
   "source": [
    "df[numeric_features]"
   ]
  },
  {
   "cell_type": "code",
   "execution_count": 26,
   "id": "42d26c21-3560-4c30-a994-7d45d092196a",
   "metadata": {},
   "outputs": [],
   "source": [
    "x_train=df_train.drop(columns='TARGET')\n",
    "x_test=df_test.drop(columns='TARGET')\n",
    "\n",
    "y_train=df_train['TARGET']\n",
    "y_test=df_test['TARGET']"
   ]
  },
  {
   "cell_type": "code",
   "execution_count": 27,
   "id": "c8205713-182c-4dc7-8131-70f5b809f0be",
   "metadata": {},
   "outputs": [
    {
     "data": {
      "text/plain": [
       "Index(['TARGET', 'CNT_CHILDREN', 'AMT_INCOME_TOTAL', 'AMT_CREDIT',\n",
       "       'AMT_ANNUITY', 'AMT_GOODS_PRICE', 'REGION_POPULATION_RELATIVE',\n",
       "       'DAYS_BIRTH', 'DAYS_EMPLOYED', 'DAYS_REGISTRATION',\n",
       "       ...\n",
       "       'AMT_REQ_CREDIT_BUREAU_DAY', 'AMT_REQ_CREDIT_BUREAU_WEEK',\n",
       "       'AMT_REQ_CREDIT_BUREAU_MON', 'AMT_REQ_CREDIT_BUREAU_QRT',\n",
       "       'AMT_REQ_CREDIT_BUREAU_YEAR', 'NAME_CONTRACT_TYPE', 'CODE_GENDER',\n",
       "       'FLAG_OWN_CAR', 'FLAG_OWN_REALTY', 'EMERGENCYSTATE_MODE'],\n",
       "      dtype='object', length=110)"
      ]
     },
     "execution_count": 27,
     "metadata": {},
     "output_type": "execute_result"
    }
   ],
   "source": [
    "df_train.columns"
   ]
  },
  {
   "cell_type": "code",
   "execution_count": 28,
   "id": "92f5af23-b95d-48f4-a5de-e8e01cb33a39",
   "metadata": {},
   "outputs": [
    {
     "data": {
      "text/plain": [
       "(40000, 109)"
      ]
     },
     "execution_count": 28,
     "metadata": {},
     "output_type": "execute_result"
    }
   ],
   "source": [
    "x_train.shape"
   ]
  },
  {
   "cell_type": "code",
   "execution_count": 29,
   "id": "cb65bcb4-4a85-4022-ac5e-59bd3a10223f",
   "metadata": {},
   "outputs": [
    {
     "data": {
      "text/plain": [
       "(10000, 109)"
      ]
     },
     "execution_count": 29,
     "metadata": {},
     "output_type": "execute_result"
    }
   ],
   "source": [
    "x_test.shape"
   ]
  },
  {
   "cell_type": "code",
   "execution_count": 30,
   "id": "9cdab1e8-3bc3-4c70-bdf4-32c922a8d548",
   "metadata": {},
   "outputs": [],
   "source": [
    "from sklearn.preprocessing import StandardScaler"
   ]
  },
  {
   "cell_type": "code",
   "execution_count": 31,
   "id": "d8c6bc45-ae25-40ab-85d2-62241e1d1fb4",
   "metadata": {},
   "outputs": [],
   "source": [
    "standard=StandardScaler()\n",
    "\n",
    "standard.fit(x_train)\n",
    "\n",
    "x_train_standard=standard.transform(x_train)\n",
    "x_test_standard=standard.transform(x_test)"
   ]
  },
  {
   "cell_type": "code",
   "execution_count": 32,
   "id": "da3210e5-28ae-4f84-a051-7c84992c1b10",
   "metadata": {},
   "outputs": [
    {
     "data": {
      "text/plain": [
       "(40000, 109)"
      ]
     },
     "execution_count": 32,
     "metadata": {},
     "output_type": "execute_result"
    }
   ],
   "source": [
    "x_train_standard.shape"
   ]
  },
  {
   "cell_type": "code",
   "execution_count": 33,
   "id": "cb9161ee-1004-4de5-99a7-ad7eec5360ba",
   "metadata": {},
   "outputs": [
    {
     "data": {
      "text/plain": [
       "array([[-0.57814243, -0.50651781, -0.44939005, ..., -0.71890035,\n",
       "        -1.51211795, -0.08590141],\n",
       "       [-0.57814243,  2.74784058,  0.75332898, ...,  1.39101337,\n",
       "         0.66132407, -0.08590141],\n",
       "       [-0.57814243,  4.94673138,  0.59241063, ...,  1.39101337,\n",
       "         0.66132407, -0.08590141],\n",
       "       ...,\n",
       "       [-0.57814243, -0.90231815, -1.36398007, ...,  1.39101337,\n",
       "         0.66132407, -0.08590141],\n",
       "       [-0.57814243, -0.55049562, -0.92757307, ..., -0.71890035,\n",
       "         0.66132407, -0.08590141],\n",
       "       [-0.57814243,  0.19712725, -0.13060138, ...,  1.39101337,\n",
       "        -1.51211795, -0.08590141]])"
      ]
     },
     "execution_count": 33,
     "metadata": {},
     "output_type": "execute_result"
    }
   ],
   "source": [
    "x_train_standard"
   ]
  },
  {
   "cell_type": "code",
   "execution_count": 34,
   "id": "5c59f6e7-b9b6-4811-aa9d-cc0f5c4eabd8",
   "metadata": {},
   "outputs": [
    {
     "data": {
      "text/plain": [
       "(10000, 109)"
      ]
     },
     "execution_count": 34,
     "metadata": {},
     "output_type": "execute_result"
    }
   ],
   "source": [
    "x_test_standard.shape"
   ]
  },
  {
   "cell_type": "code",
   "execution_count": 35,
   "id": "2a3f40e4-6e62-49c5-9516-3c05f3feb524",
   "metadata": {},
   "outputs": [],
   "source": [
    "from sklearn.metrics import roc_auc_score"
   ]
  },
  {
   "cell_type": "code",
   "execution_count": 36,
   "id": "c10de891-16e5-40b6-ac3c-cfc41db696a0",
   "metadata": {},
   "outputs": [
    {
     "data": {
      "text/plain": [
       "0.5"
      ]
     },
     "execution_count": 36,
     "metadata": {},
     "output_type": "execute_result"
    }
   ],
   "source": [
    "roc_auc_score(y_train, [0]*len(y_train))"
   ]
  },
  {
   "cell_type": "code",
   "execution_count": 37,
   "id": "9e0b3e7a-a0fd-4808-aa2d-e348823cbe00",
   "metadata": {},
   "outputs": [
    {
     "data": {
      "text/plain": [
       "0.5"
      ]
     },
     "execution_count": 37,
     "metadata": {},
     "output_type": "execute_result"
    }
   ],
   "source": [
    "roc_auc_score(y_train, [1]*len(y_train))"
   ]
  },
  {
   "cell_type": "code",
   "execution_count": 38,
   "id": "fb98e907-ae21-4eaf-b20c-2e83aba795ed",
   "metadata": {},
   "outputs": [
    {
     "data": {
      "text/plain": [
       "0.0    36897\n",
       "1.0     3103\n",
       "Name: TARGET, dtype: int64"
      ]
     },
     "execution_count": 38,
     "metadata": {},
     "output_type": "execute_result"
    }
   ],
   "source": [
    "y_train.value_counts()"
   ]
  },
  {
   "cell_type": "code",
   "execution_count": 39,
   "id": "39b7a5e3-256e-4754-81ef-9b0f9eb147d3",
   "metadata": {},
   "outputs": [],
   "source": [
    "from sklearn.linear_model import LogisticRegression"
   ]
  },
  {
   "cell_type": "code",
   "execution_count": 40,
   "id": "0bd21c8b-1e4a-4699-9d1d-819b2ae13a7c",
   "metadata": {},
   "outputs": [],
   "source": [
    "logreg=LogisticRegression(max_iter=1000)"
   ]
  },
  {
   "cell_type": "code",
   "execution_count": 41,
   "id": "6c897505-afb0-4a9a-86d2-27082330f438",
   "metadata": {},
   "outputs": [
    {
     "data": {
      "text/plain": [
       "LogisticRegression(max_iter=1000)"
      ]
     },
     "execution_count": 41,
     "metadata": {},
     "output_type": "execute_result"
    }
   ],
   "source": [
    "logreg.fit(x_train_standard, y_train)"
   ]
  },
  {
   "cell_type": "code",
   "execution_count": 42,
   "id": "cd1ee3ae-b166-410a-a843-289d366e4cf9",
   "metadata": {},
   "outputs": [],
   "source": [
    "proba=logreg.predict_proba(x_test_standard)"
   ]
  },
  {
   "cell_type": "code",
   "execution_count": 46,
   "id": "17f3b896-b0dc-4270-9bb2-bde3a2dac21e",
   "metadata": {},
   "outputs": [
    {
     "data": {
      "text/plain": [
       "array([[0.93035958, 0.06964042],\n",
       "       [0.91994975, 0.08005025],\n",
       "       [0.95863854, 0.04136146],\n",
       "       ...,\n",
       "       [0.9517989 , 0.0482011 ],\n",
       "       [0.96296429, 0.03703571],\n",
       "       [0.93639595, 0.06360405]])"
      ]
     },
     "execution_count": 46,
     "metadata": {},
     "output_type": "execute_result"
    }
   ],
   "source": [
    "proba[:]"
   ]
  },
  {
   "cell_type": "code",
   "execution_count": 47,
   "id": "8608a90b-ebf3-4ae8-8f01-3ec7476071ba",
   "metadata": {},
   "outputs": [],
   "source": [
    "predict=logreg.predict(x_test_standard)"
   ]
  },
  {
   "cell_type": "code",
   "execution_count": 60,
   "id": "87820da3-faac-43d6-816d-70dd78445499",
   "metadata": {},
   "outputs": [
    {
     "data": {
      "text/plain": [
       "0.0013"
      ]
     },
     "execution_count": 60,
     "metadata": {},
     "output_type": "execute_result"
    }
   ],
   "source": [
    "predict()"
   ]
  },
  {
   "cell_type": "code",
   "execution_count": 61,
   "id": "e5ffb979-ef54-427c-8845-a09e294e704d",
   "metadata": {},
   "outputs": [
    {
     "data": {
      "text/plain": [
       "0       0.0\n",
       "1       0.0\n",
       "2       0.0\n",
       "3       0.0\n",
       "4       0.0\n",
       "       ... \n",
       "9995    0.0\n",
       "9996    0.0\n",
       "9997    0.0\n",
       "9998    0.0\n",
       "9999    0.0\n",
       "Name: TARGET, Length: 10000, dtype: float64"
      ]
     },
     "execution_count": 61,
     "metadata": {},
     "output_type": "execute_result"
    }
   ],
   "source": [
    "y_test"
   ]
  },
  {
   "cell_type": "code",
   "execution_count": 60,
   "id": "f4b8eae0-c9c8-458c-b928-8455e7287562",
   "metadata": {},
   "outputs": [],
   "source": [
    "roc_auc=roc_auc_score(y_test, proba[:,1])"
   ]
  },
  {
   "cell_type": "code",
   "execution_count": 45,
   "id": "8bd40916-a4e1-45eb-87c7-775b1622ce57",
   "metadata": {},
   "outputs": [
    {
     "data": {
      "text/plain": [
       "0.7268290176937506"
      ]
     },
     "execution_count": 45,
     "metadata": {},
     "output_type": "execute_result"
    }
   ],
   "source": [
    "roc_auc"
   ]
  },
  {
   "cell_type": "code",
   "execution_count": 46,
   "id": "126d8703-532e-48fc-a70d-71346e588e6f",
   "metadata": {},
   "outputs": [],
   "source": [
    "from sklearn.metrics import roc_curve"
   ]
  },
  {
   "cell_type": "code",
   "execution_count": 47,
   "id": "d3b43c75-a801-4d68-b979-7e17bedc9961",
   "metadata": {},
   "outputs": [],
   "source": [
    "fpr, tpr, thresholds=roc_curve(y_test,logreg.predict_proba(x_test_standard)[:,1])"
   ]
  },
  {
   "cell_type": "code",
   "execution_count": 48,
   "id": "82e44884-3ae9-4a92-942b-896681900b0e",
   "metadata": {},
   "outputs": [
    {
     "data": {
      "image/png": "[encoded data removed]",
      "text/plain": [
       "<Figure size 432x288 with 1 Axes>"
      ]
     },
     "metadata": {
      "needs_background": "light"
     },
     "output_type": "display_data"
    }
   ],
   "source": [
    "import matplotlib.pyplot as plt\n",
    "\n",
    "plt.figure()\n",
    "lw=2\n",
    "plt.plot(fpr, tpr, color='darkorange',\n",
    "         lw=lw, label='ROC curve (area = %0.2f)' % roc_auc)\n",
    "plt.plot([0, 1], [0, 1], color='navy', lw=lw, linestyle='--')\n",
    "plt.xlim([0.0, 1.0])\n",
    "plt.ylim([0.0, 1.05])\n",
    "plt.xlabel('False Positive Rate')\n",
    "plt.ylabel('True Positive Rate')\n",
    "plt.title('Receiver operating characteristic example')\n",
    "plt.legend(loc=\"lower right\")\n",
    "plt.show()"
   ]
  },
  {
   "cell_type": "code",
   "execution_count": 49,
   "id": "1baa8f7d-d2f4-4088-8b4f-2c44b28201b7",
   "metadata": {},
   "outputs": [
    {
     "data": {
      "text/plain": [
       "(10000, 109)"
      ]
     },
     "execution_count": 49,
     "metadata": {},
     "output_type": "execute_result"
    }
   ],
   "source": [
    "x_test_standard.shape"
   ]
  },
  {
   "cell_type": "code",
   "execution_count": 50,
   "id": "db95819f-1b9e-4c6e-83fe-f1e3fe20ebed",
   "metadata": {},
   "outputs": [
    {
     "data": {
      "text/plain": [
       "Index(['CNT_CHILDREN', 'AMT_INCOME_TOTAL', 'AMT_CREDIT', 'AMT_ANNUITY',\n",
       "       'AMT_GOODS_PRICE', 'REGION_POPULATION_RELATIVE', 'DAYS_BIRTH',\n",
       "       'DAYS_EMPLOYED', 'DAYS_REGISTRATION', 'DAYS_ID_PUBLISH'],\n",
       "      dtype='object')"
      ]
     },
     "execution_count": 50,
     "metadata": {},
     "output_type": "execute_result"
    }
   ],
   "source": [
    "df_train.columns[1:][:10]"
   ]
  },
  {
   "cell_type": "code",
   "execution_count": 51,
   "id": "1eb9cb21-684b-44fb-a933-f4405eb33f8a",
   "metadata": {},
   "outputs": [],
   "source": [
    "first_ten=['CNT_CHILDREN', 'AMT_INCOME_TOTAL', 'AMT_CREDIT', 'AMT_ANNUITY',\n",
    "       'AMT_GOODS_PRICE', 'REGION_POPULATION_RELATIVE', 'DAYS_BIRTH',\n",
    "       'DAYS_EMPLOYED', 'DAYS_REGISTRATION', 'DAYS_ID_PUBLISH']"
   ]
  },
  {
   "cell_type": "code",
   "execution_count": 52,
   "id": "e435c376-3c7f-46fd-bf8b-f7f5b53a7a7b",
   "metadata": {},
   "outputs": [],
   "source": [
    "x_train_first_ten=df_train[first_ten]\n",
    "x_test_first_ten=df_test[first_ten]"
   ]
  },
  {
   "cell_type": "code",
   "execution_count": 53,
   "id": "55615dcf-6be3-4aa3-b56e-5dc29543d7d0",
   "metadata": {},
   "outputs": [],
   "source": [
    "standard.fit(x_train_first_ten)\n",
    "\n",
    "x_train_first_ten_standard=standard.transform(x_train_first_ten)\n",
    "x_test_first_ten_standard=standard.transform(x_test_first_ten)"
   ]
  },
  {
   "cell_type": "code",
   "execution_count": 54,
   "id": "c766df5e-b0f0-47a9-9ae0-3a23e3e94569",
   "metadata": {
    "tags": []
   },
   "outputs": [
    {
     "data": {
      "text/plain": [
       "LogisticRegression(max_iter=1000)"
      ]
     },
     "execution_count": 54,
     "metadata": {},
     "output_type": "execute_result"
    }
   ],
   "source": [
    "logreg.fit(x_train_first_ten_standard, y_train)"
   ]
  },
  {
   "cell_type": "code",
   "execution_count": 55,
   "id": "95409f37-844a-4cd5-9001-e25cb9097bba",
   "metadata": {},
   "outputs": [],
   "source": [
    "proba=logreg.predict_proba(x_test_first_ten_standard)"
   ]
  },
  {
   "cell_type": "code",
   "execution_count": 56,
   "id": "bab70bff-53a6-4aa8-8bb2-836742c9c48a",
   "metadata": {},
   "outputs": [
    {
     "data": {
      "text/plain": [
       "array([[0.91574309, 0.08425691],\n",
       "       [0.93013775, 0.06986225],\n",
       "       [0.93555349, 0.06444651],\n",
       "       ...,\n",
       "       [0.92307074, 0.07692926],\n",
       "       [0.89454512, 0.10545488],\n",
       "       [0.90473625, 0.09526375]])"
      ]
     },
     "execution_count": 56,
     "metadata": {},
     "output_type": "execute_result"
    }
   ],
   "source": [
    "proba"
   ]
  },
  {
   "cell_type": "code",
   "execution_count": 57,
   "id": "d922763d-0ed9-4847-877c-3e14d6676912",
   "metadata": {},
   "outputs": [],
   "source": [
    "roc_auc=roc_auc_score(y_test, proba[:,1])"
   ]
  },
  {
   "cell_type": "code",
   "execution_count": 58,
   "id": "eee10afa-6fd0-4216-abc2-d788820542bb",
   "metadata": {},
   "outputs": [
    {
     "data": {
      "text/plain": [
       "0.6294854207567679"
      ]
     },
     "execution_count": 58,
     "metadata": {},
     "output_type": "execute_result"
    }
   ],
   "source": [
    "roc_auc"
   ]
  }
 ],
 "metadata": {
  "kernelspec": {
   "display_name": "Python 3 (ipykernel)",
   "language": "python",
   "name": "python3"
  },
  "language_info": {
   "codemirror_mode": {
    "name": "ipython",
    "version": 3
   },
   "file_extension": ".py",
   "mimetype": "text/x-python",
   "name": "python",
   "nbconvert_exporter": "python",
   "pygments_lexer": "ipython3",
   "version": "3.10.2"
  }
 },
 "nbformat": 4,
 "nbformat_minor": 5
}
